{
 "cells": [
  {
   "cell_type": "code",
   "execution_count": 6,
   "metadata": {},
   "outputs": [
    {
     "name": "stderr",
     "output_type": "stream",
     "text": [
      "/usr/local/lib/python3.6/dist-packages/tensorflow_core/python/client/session.py:1750: UserWarning: An interactive session is already active. This can cause out-of-memory errors in some cases. You must explicitly call `InteractiveSession.close()` to release resources held by the other session(s).\n",
      "  warnings.warn('An interactive session is already active. This can '\n"
     ]
    }
   ],
   "source": [
    "from tensorflow.compat.v1 import ConfigProto\n",
    "from tensorflow.compat.v1 import InteractiveSession\n",
    "\n",
    "config = ConfigProto()\n",
    "config.gpu_options.allow_growth = True\n",
    "session = InteractiveSession(config=config)"
   ]
  },
  {
   "cell_type": "code",
   "execution_count": 7,
   "metadata": {},
   "outputs": [],
   "source": [
    "try: \n",
    "  %tensorflow 2.x\n",
    "except:\n",
    "  pass"
   ]
  },
  {
   "cell_type": "code",
   "execution_count": 39,
   "metadata": {},
   "outputs": [],
   "source": [
    "import json\n",
    "import tensorflow as tf\n",
    "import os\n",
    "import matplotlib.pyplot as plt\n",
    "import numpy as np\n",
    "\n",
    "from tensorflow.keras.preprocessing.text import Tokenizer\n",
    "from tensorflow.keras.preprocessing.sequence import pad_sequences"
   ]
  },
  {
   "cell_type": "code",
   "execution_count": 40,
   "metadata": {},
   "outputs": [],
   "source": [
    "DATASET_NAME = \"sarcasm.json\"\n",
    "BASE_URL = \"https://storage.googleapis.com/laurencemoroney-blog.appspot.com\"\n",
    "path_pwd = !pwd\n",
    "BASE_PATH = os.path.join(path_pwd[0], 'datasets')"
   ]
  },
  {
   "cell_type": "code",
   "execution_count": 41,
   "metadata": {},
   "outputs": [
    {
     "name": "stdout",
     "output_type": "stream",
     "text": [
      "/home/laura/data/nlp_in_tensorflow/week_3_sequence_models/datasets\n"
     ]
    }
   ],
   "source": [
    "!mkdir -p $BASE_PATH\n",
    "print(BASE_PATH)"
   ]
  },
  {
   "cell_type": "code",
   "execution_count": 42,
   "metadata": {},
   "outputs": [],
   "source": [
    "full_url = os.path.join(BASE_URL, DATASET_NAME)\n",
    "dataset_path = os.path.join(BASE_PATH, DATASET_NAME)"
   ]
  },
  {
   "cell_type": "code",
   "execution_count": 43,
   "metadata": {},
   "outputs": [
    {
     "name": "stdout",
     "output_type": "stream",
     "text": [
      "--2019-12-09 20:49:45--  https://storage.googleapis.com/laurencemoroney-blog.appspot.com/sarcasm.json\n",
      "Resolving storage.googleapis.com (storage.googleapis.com)... 74.125.193.128, 2a00:1450:400b:c01::80\n",
      "Connecting to storage.googleapis.com (storage.googleapis.com)|74.125.193.128|:443... connected.\n",
      "HTTP request sent, awaiting response... 200 OK\n",
      "Length: 5643545 (5.4M) [application/json]\n",
      "Saving to: ‘/home/laura/data/nlp_in_tensorflow/week_3_sequence_models/datasets/sarcasm.json’\n",
      "\n",
      "/home/laura/data/nl 100%[===================>]   5.38M  15.8MB/s    in 0.3s    \n",
      "\n",
      "2019-12-09 20:49:46 (15.8 MB/s) - ‘/home/laura/data/nlp_in_tensorflow/week_3_sequence_models/datasets/sarcasm.json’ saved [5643545/5643545]\n",
      "\n"
     ]
    }
   ],
   "source": [
    "# Download dataset\n",
    "!wget --no-check-certificate $full_url -O $dataset_path"
   ]
  },
  {
   "cell_type": "code",
   "execution_count": 44,
   "metadata": {
    "colab": {},
    "colab_type": "code",
    "id": "jGwXGIXvFhXW"
   },
   "outputs": [],
   "source": [
    "# Define params \n",
    "vocab_size = 1000\n",
    "embedding_dim = 16\n",
    "max_length = 120\n",
    "trunc_type='post'\n",
    "padding_type='post'\n",
    "oov_tok = \"<OOV>\"\n",
    "training_size = 20000"
   ]
  },
  {
   "cell_type": "code",
   "execution_count": 45,
   "metadata": {
    "colab": {},
    "colab_type": "code",
    "id": "jGwXGIXvFhXW"
   },
   "outputs": [],
   "source": [
    "# Open the file and read it\n",
    "with open(dataset_path, 'r') as f:\n",
    "    datastore = json.load(f)"
   ]
  },
  {
   "cell_type": "code",
   "execution_count": 46,
   "metadata": {
    "colab": {},
    "colab_type": "code",
    "id": "jGwXGIXvFhXW"
   },
   "outputs": [],
   "source": [
    "sentences = []\n",
    "labels = []\n",
    "\n",
    "# Split into the headline and the label\n",
    "for item in datastore:\n",
    "    sentences.append(item['headline'])\n",
    "    labels.append(item['is_sarcastic'])"
   ]
  },
  {
   "cell_type": "code",
   "execution_count": 47,
   "metadata": {
    "colab": {},
    "colab_type": "code",
    "id": "jGwXGIXvFhXW"
   },
   "outputs": [],
   "source": [
    "# Split the dataset between training and testing \n",
    "training_sentences, training_labels = sentences[0:training_size], np.array(labels[0:training_size])\n",
    "testing_sentences, testing_labels = sentences[training_size:], np.array(labels[training_size:])"
   ]
  },
  {
   "cell_type": "code",
   "execution_count": 48,
   "metadata": {
    "colab": {},
    "colab_type": "code",
    "id": "jGwXGIXvFhXW"
   },
   "outputs": [],
   "source": [
    "# Create the tokenizer with vocab size 1000\n",
    "tokenizer = Tokenizer(num_words=vocab_size, oov_token=oov_tok)"
   ]
  },
  {
   "cell_type": "code",
   "execution_count": 49,
   "metadata": {
    "colab": {},
    "colab_type": "code",
    "id": "jGwXGIXvFhXW"
   },
   "outputs": [],
   "source": [
    "# Generate the tokens for the words in training \n",
    "tokenizer.fit_on_texts(training_sentences)\n",
    "\n",
    "# Get the word index\n",
    "word_index = tokenizer.word_index"
   ]
  },
  {
   "cell_type": "code",
   "execution_count": 50,
   "metadata": {
    "colab": {},
    "colab_type": "code",
    "id": "jGwXGIXvFhXW"
   },
   "outputs": [],
   "source": [
    "# Generate the sequences\n",
    "training_sequences = tokenizer.texts_to_sequences(training_sentences)\n",
    "# Add the padding to sequences using post\n",
    "training_padded = pad_sequences(training_sequences, maxlen=max_length, padding=padding_type, truncating=trunc_type)"
   ]
  },
  {
   "cell_type": "code",
   "execution_count": 51,
   "metadata": {
    "colab": {},
    "colab_type": "code",
    "id": "jGwXGIXvFhXW"
   },
   "outputs": [],
   "source": [
    "# Generate sequences for testing sentences and its padding \n",
    "testing_sequences = tokenizer.texts_to_sequences(testing_sentences)\n",
    "testing_padded = pad_sequences(testing_sequences, maxlen=max_length, padding=padding_type, truncating=trunc_type)"
   ]
  },
  {
   "cell_type": "code",
   "execution_count": 57,
   "metadata": {
    "colab": {},
    "colab_type": "code",
    "id": "jGwXGIXvFhXW"
   },
   "outputs": [],
   "source": [
    "# Create the model using CONV1D \n",
    "model = tf.keras.Sequential([\n",
    "    tf.keras.layers.Embedding(vocab_size, embedding_dim, input_length=max_length),\n",
    "    tf.keras.layers.Conv1D(128, 5, activation='relu'),\n",
    "    tf.keras.layers.Dropout(0.2),\n",
    "    tf.keras.layers.GlobalMaxPooling1D(),\n",
    "    tf.keras.layers.Dense(24, activation='relu'),\n",
    "    tf.keras.layers.Dense(1, activation='sigmoid')\n",
    "])"
   ]
  },
  {
   "cell_type": "code",
   "execution_count": 58,
   "metadata": {
    "colab": {},
    "colab_type": "code",
    "id": "jGwXGIXvFhXW"
   },
   "outputs": [
    {
     "name": "stdout",
     "output_type": "stream",
     "text": [
      "Model: \"sequential_2\"\n",
      "_________________________________________________________________\n",
      "Layer (type)                 Output Shape              Param #   \n",
      "=================================================================\n",
      "embedding_2 (Embedding)      (None, 120, 16)           16000     \n",
      "_________________________________________________________________\n",
      "conv1d_2 (Conv1D)            (None, 116, 128)          10368     \n",
      "_________________________________________________________________\n",
      "dropout (Dropout)            (None, 116, 128)          0         \n",
      "_________________________________________________________________\n",
      "global_max_pooling1d_2 (Glob (None, 128)               0         \n",
      "_________________________________________________________________\n",
      "dense_4 (Dense)              (None, 24)                3096      \n",
      "_________________________________________________________________\n",
      "dense_5 (Dense)              (None, 1)                 25        \n",
      "=================================================================\n",
      "Total params: 29,489\n",
      "Trainable params: 29,489\n",
      "Non-trainable params: 0\n",
      "_________________________________________________________________\n"
     ]
    }
   ],
   "source": [
    "# Configure the model \n",
    "metric = 'accuracy' \n",
    "model.compile(loss='binary_crossentropy',optimizer='adam',metrics=[metric])\n",
    "model.summary()"
   ]
  },
  {
   "cell_type": "code",
   "execution_count": 59,
   "metadata": {
    "colab": {},
    "colab_type": "code",
    "id": "jGwXGIXvFhXW"
   },
   "outputs": [
    {
     "name": "stdout",
     "output_type": "stream",
     "text": [
      "Train on 20000 samples, validate on 6709 samples\n",
      "Epoch 1/30\n",
      "20000/20000 [==============================] - 4s 188us/sample - loss: 0.4691 - accuracy: 0.7643 - val_loss: 0.4067 - val_accuracy: 0.8114\n",
      "Epoch 2/30\n",
      "20000/20000 [==============================] - 3s 160us/sample - loss: 0.3582 - accuracy: 0.8385 - val_loss: 0.3879 - val_accuracy: 0.8247\n",
      "Epoch 3/30\n",
      "20000/20000 [==============================] - 4s 181us/sample - loss: 0.3232 - accuracy: 0.8572 - val_loss: 0.3881 - val_accuracy: 0.8225\n",
      "Epoch 4/30\n",
      "20000/20000 [==============================] - 3s 157us/sample - loss: 0.2941 - accuracy: 0.8725 - val_loss: 0.3962 - val_accuracy: 0.8195\n",
      "Epoch 5/30\n",
      "20000/20000 [==============================] - 3s 147us/sample - loss: 0.2665 - accuracy: 0.8849 - val_loss: 0.4333 - val_accuracy: 0.8132\n",
      "Epoch 6/30\n",
      "20000/20000 [==============================] - 3s 143us/sample - loss: 0.2381 - accuracy: 0.8998 - val_loss: 0.4249 - val_accuracy: 0.8196\n",
      "Epoch 7/30\n",
      "20000/20000 [==============================] - 3s 135us/sample - loss: 0.2123 - accuracy: 0.9129 - val_loss: 0.4700 - val_accuracy: 0.8103\n",
      "Epoch 8/30\n",
      "20000/20000 [==============================] - 3s 134us/sample - loss: 0.1892 - accuracy: 0.9254 - val_loss: 0.5016 - val_accuracy: 0.8038\n",
      "Epoch 9/30\n",
      "20000/20000 [==============================] - 3s 143us/sample - loss: 0.1721 - accuracy: 0.9295 - val_loss: 0.5124 - val_accuracy: 0.8031\n",
      "Epoch 10/30\n",
      "20000/20000 [==============================] - 3s 135us/sample - loss: 0.1497 - accuracy: 0.9405 - val_loss: 0.5617 - val_accuracy: 0.8103\n",
      "Epoch 11/30\n",
      "20000/20000 [==============================] - 3s 134us/sample - loss: 0.1372 - accuracy: 0.9452 - val_loss: 0.5935 - val_accuracy: 0.8013\n",
      "Epoch 12/30\n",
      "20000/20000 [==============================] - 3s 155us/sample - loss: 0.1233 - accuracy: 0.9514 - val_loss: 0.6555 - val_accuracy: 0.8068\n",
      "Epoch 13/30\n",
      "20000/20000 [==============================] - 3s 142us/sample - loss: 0.1133 - accuracy: 0.9553 - val_loss: 0.7001 - val_accuracy: 0.7962\n",
      "Epoch 14/30\n",
      "20000/20000 [==============================] - 3s 141us/sample - loss: 0.1052 - accuracy: 0.9591 - val_loss: 0.7617 - val_accuracy: 0.7980\n",
      "Epoch 15/30\n",
      "20000/20000 [==============================] - 3s 150us/sample - loss: 0.0960 - accuracy: 0.9646 - val_loss: 0.7937 - val_accuracy: 0.8003\n",
      "Epoch 16/30\n",
      "20000/20000 [==============================] - 3s 151us/sample - loss: 0.0923 - accuracy: 0.9645 - val_loss: 0.8071 - val_accuracy: 0.7968\n",
      "Epoch 17/30\n",
      "20000/20000 [==============================] - 3s 144us/sample - loss: 0.0810 - accuracy: 0.9684 - val_loss: 0.8614 - val_accuracy: 0.7949\n",
      "Epoch 18/30\n",
      "20000/20000 [==============================] - 3s 145us/sample - loss: 0.0793 - accuracy: 0.9690 - val_loss: 0.9149 - val_accuracy: 0.7934\n",
      "Epoch 19/30\n",
      "20000/20000 [==============================] - 3s 136us/sample - loss: 0.0800 - accuracy: 0.9683 - val_loss: 0.9313 - val_accuracy: 0.7988\n",
      "Epoch 20/30\n",
      "20000/20000 [==============================] - 3s 144us/sample - loss: 0.0744 - accuracy: 0.9715 - val_loss: 0.9749 - val_accuracy: 0.7943\n",
      "Epoch 21/30\n",
      "20000/20000 [==============================] - 3s 142us/sample - loss: 0.0688 - accuracy: 0.9728 - val_loss: 0.9828 - val_accuracy: 0.8018\n",
      "Epoch 22/30\n",
      "20000/20000 [==============================] - 3s 141us/sample - loss: 0.0671 - accuracy: 0.9746 - val_loss: 1.0509 - val_accuracy: 0.7921\n",
      "Epoch 23/30\n",
      "20000/20000 [==============================] - 3s 164us/sample - loss: 0.0667 - accuracy: 0.9754 - val_loss: 1.0531 - val_accuracy: 0.7916\n",
      "Epoch 24/30\n",
      "20000/20000 [==============================] - 3s 139us/sample - loss: 0.0634 - accuracy: 0.9753 - val_loss: 1.0589 - val_accuracy: 0.7949\n",
      "Epoch 25/30\n",
      "20000/20000 [==============================] - 3s 144us/sample - loss: 0.0627 - accuracy: 0.9757 - val_loss: 1.0784 - val_accuracy: 0.7942\n",
      "Epoch 26/30\n",
      "20000/20000 [==============================] - 3s 138us/sample - loss: 0.0600 - accuracy: 0.9765 - val_loss: 1.0995 - val_accuracy: 0.7919\n",
      "Epoch 27/30\n",
      "20000/20000 [==============================] - 3s 144us/sample - loss: 0.0547 - accuracy: 0.9776 - val_loss: 1.1325 - val_accuracy: 0.7937\n",
      "Epoch 28/30\n",
      "20000/20000 [==============================] - 3s 139us/sample - loss: 0.0546 - accuracy: 0.9779 - val_loss: 1.1429 - val_accuracy: 0.7962\n",
      "Epoch 29/30\n",
      "20000/20000 [==============================] - 3s 134us/sample - loss: 0.0539 - accuracy: 0.9781 - val_loss: 1.2142 - val_accuracy: 0.7864\n",
      "Epoch 30/30\n",
      "20000/20000 [==============================] - 3s 148us/sample - loss: 0.0526 - accuracy: 0.9786 - val_loss: 1.2859 - val_accuracy: 0.7864\n"
     ]
    }
   ],
   "source": [
    "# Train the model \n",
    "num_epochs = 30\n",
    "history = model.fit(training_padded, training_labels, \n",
    "                    epochs=num_epochs, \n",
    "                    validation_data=(testing_padded, testing_labels), \n",
    "                    verbose=1)"
   ]
  },
  {
   "cell_type": "code",
   "execution_count": 60,
   "metadata": {
    "colab": {},
    "colab_type": "code",
    "id": "g9DC6dmLF8DC"
   },
   "outputs": [],
   "source": [
    "def plot_graphs(history, string):\n",
    "  plt.plot(history.history[string])\n",
    "  plt.plot(history.history['val_'+string])\n",
    "  plt.xlabel(\"Epochs\")\n",
    "  plt.ylabel(string)\n",
    "  plt.legend([string, 'val_'+string])\n",
    "  plt.show()"
   ]
  },
  {
   "cell_type": "code",
   "execution_count": 61,
   "metadata": {
    "colab": {},
    "colab_type": "code",
    "id": "g9DC6dmLF8DC"
   },
   "outputs": [
    {
     "data": {
      "image/png": "[encoded data removed]",
      "text/plain": [
       "<Figure size 432x288 with 1 Axes>"
      ]
     },
     "metadata": {
      "needs_background": "light"
     },
     "output_type": "display_data"
    },
    {
     "data": {
      "image/png": "[encoded data removed]",
      "text/plain": [
       "<Figure size 432x288 with 1 Axes>"
      ]
     },
     "metadata": {
      "needs_background": "light"
     },
     "output_type": "display_data"
    }
   ],
   "source": [
    "plot_graphs(history, metric)\n",
    "plot_graphs(history, 'loss')"
   ]
  },
  {
   "cell_type": "code",
   "execution_count": 62,
   "metadata": {
    "colab": {},
    "colab_type": "code",
    "id": "7ZEZIUppGhdi"
   },
   "outputs": [],
   "source": [
    "path_to_save_model = os.path.join(BASE_PATH, \"sarcasm_conv1d.h5\")\n",
    "model.save(path_to_save_model)"
   ]
  },
  {
   "cell_type": "code",
   "execution_count": 63,
   "metadata": {},
   "outputs": [],
   "source": [
    "session.close()"
   ]
  },
  {
   "cell_type": "code",
   "execution_count": null,
   "metadata": {},
   "outputs": [],
   "source": []
  }
 ],
 "metadata": {
  "accelerator": "GPU",
  "colab": {
   "collapsed_sections": [],
   "name": "Course 3 - Week 3 - Lesson 2c.ipynb",
   "provenance": [
    {
     "file_id": "1hJrHjN5rpA01RJl6LDPgG1udgsIda4ke",
     "timestamp": 1556829841087
    },
    {
     "file_id": "1OOzqEhzmkFQOtmEGwMhiLxB_D2osx4eM",
     "timestamp": 1556803950670
    }
   ],
   "version": "0.3.2"
  },
  "kernelspec": {
   "display_name": "Python 3",
   "language": "python",
   "name": "python3"
  },
  "language_info": {
   "codemirror_mode": {
    "name": "ipython",
    "version": 3
   },
   "file_extension": ".py",
   "mimetype": "text/x-python",
   "name": "python",
   "nbconvert_exporter": "python",
   "pygments_lexer": "ipython3",
   "version": "3.6.8"
  }
 },
 "nbformat": 4,
 "nbformat_minor": 1
}

{
 "cells": [
  {
   "cell_type": "code",
   "execution_count": 3,
   "metadata": {},
   "outputs": [
    {
     "name": "stderr",
     "output_type": "stream",
     "text": [
      "/usr/local/lib/python3.6/dist-packages/tensorflow_core/python/client/session.py:1750: UserWarning: An interactive session is already active. This can cause out-of-memory errors in some cases. You must explicitly call `InteractiveSession.close()` to release resources held by the other session(s).\n",
      "  warnings.warn('An interactive session is already active. This can '\n"
     ]
    }
   ],
   "source": [
    "from tensorflow.compat.v1 import ConfigProto\n",
    "from tensorflow.compat.v1 import InteractiveSession\n",
    "\n",
    "config = ConfigProto()\n",
    "config.gpu_options.allow_growth = True\n",
    "session = InteractiveSession(config=config)"
   ]
  },
  {
   "cell_type": "code",
   "execution_count": 4,
   "metadata": {},
   "outputs": [],
   "source": [
    "try: \n",
    "  %tensorflow 2.x\n",
    "except:\n",
    "  pass"
   ]
  },
  {
   "cell_type": "code",
   "execution_count": 5,
   "metadata": {},
   "outputs": [],
   "source": [
    "import json\n",
    "import tensorflow as tf\n",
    "import os\n",
    "import matplotlib.pyplot as plt\n",
    "import numpy as np\n",
    "\n",
    "from tensorflow.keras.preprocessing.text import Tokenizer\n",
    "from tensorflow.keras.preprocessing.sequence import pad_sequences"
   ]
  },
  {
   "cell_type": "code",
   "execution_count": 6,
   "metadata": {},
   "outputs": [],
   "source": [
    "DATASET_NAME = \"sarcasm.json\"\n",
    "BASE_URL = \"https://storage.googleapis.com/laurencemoroney-blog.appspot.com\"\n",
    "path_pwd = !pwd\n",
    "BASE_PATH = os.path.join(path_pwd[0], 'datasets')"
   ]
  },
  {
   "cell_type": "code",
   "execution_count": 7,
   "metadata": {},
   "outputs": [
    {
     "name": "stdout",
     "output_type": "stream",
     "text": [
      "/home/laura/data/nlp_in_tensorflow/week_3_sequence_models/datasets\n"
     ]
    }
   ],
   "source": [
    "!mkdir -p $BASE_PATH\n",
    "print(BASE_PATH)"
   ]
  },
  {
   "cell_type": "code",
   "execution_count": 8,
   "metadata": {},
   "outputs": [],
   "source": [
    "full_url = os.path.join(BASE_URL, DATASET_NAME)\n",
    "dataset_path = os.path.join(BASE_PATH, DATASET_NAME)"
   ]
  },
  {
   "cell_type": "code",
   "execution_count": 9,
   "metadata": {},
   "outputs": [
    {
     "name": "stdout",
     "output_type": "stream",
     "text": [
      "--2019-12-09 20:55:49--  https://storage.googleapis.com/laurencemoroney-blog.appspot.com/sarcasm.json\n",
      "Resolving storage.googleapis.com (storage.googleapis.com)... 74.125.193.128, 2a00:1450:400b:c01::80\n",
      "Connecting to storage.googleapis.com (storage.googleapis.com)|74.125.193.128|:443... connected.\n",
      "HTTP request sent, awaiting response... 200 OK\n",
      "Length: 5643545 (5.4M) [application/json]\n",
      "Saving to: ‘/home/laura/data/nlp_in_tensorflow/week_3_sequence_models/datasets/sarcasm.json’\n",
      "\n",
      "/home/laura/data/nl 100%[===================>]   5.38M  17.6MB/s    in 0.3s    \n",
      "\n",
      "2019-12-09 20:55:50 (17.6 MB/s) - ‘/home/laura/data/nlp_in_tensorflow/week_3_sequence_models/datasets/sarcasm.json’ saved [5643545/5643545]\n",
      "\n"
     ]
    }
   ],
   "source": [
    "# Download dataset\n",
    "!wget --no-check-certificate $full_url -O $dataset_path"
   ]
  },
  {
   "cell_type": "code",
   "execution_count": 10,
   "metadata": {
    "colab": {},
    "colab_type": "code",
    "id": "jGwXGIXvFhXW"
   },
   "outputs": [],
   "source": [
    "# Define params \n",
    "vocab_size = 1000\n",
    "embedding_dim = 16\n",
    "max_length = 120\n",
    "trunc_type='post'\n",
    "padding_type='post'\n",
    "oov_tok = \"<OOV>\"\n",
    "training_size = 20000"
   ]
  },
  {
   "cell_type": "code",
   "execution_count": 11,
   "metadata": {
    "colab": {},
    "colab_type": "code",
    "id": "jGwXGIXvFhXW"
   },
   "outputs": [],
   "source": [
    "# Open the file and read it\n",
    "with open(dataset_path, 'r') as f:\n",
    "    datastore = json.load(f)"
   ]
  },
  {
   "cell_type": "code",
   "execution_count": 12,
   "metadata": {
    "colab": {},
    "colab_type": "code",
    "id": "jGwXGIXvFhXW"
   },
   "outputs": [],
   "source": [
    "sentences = []\n",
    "labels = []\n",
    "\n",
    "# Split into the headline and the label\n",
    "for item in datastore:\n",
    "    sentences.append(item['headline'])\n",
    "    labels.append(item['is_sarcastic'])"
   ]
  },
  {
   "cell_type": "code",
   "execution_count": 13,
   "metadata": {
    "colab": {},
    "colab_type": "code",
    "id": "jGwXGIXvFhXW"
   },
   "outputs": [],
   "source": [
    "# Split the dataset between training and testing \n",
    "training_sentences, training_labels = sentences[0:training_size], np.array(labels[0:training_size])\n",
    "testing_sentences, testing_labels = sentences[training_size:], np.array(labels[training_size:])"
   ]
  },
  {
   "cell_type": "code",
   "execution_count": 14,
   "metadata": {
    "colab": {},
    "colab_type": "code",
    "id": "jGwXGIXvFhXW"
   },
   "outputs": [],
   "source": [
    "# Create the tokenizer with vocab size 1000\n",
    "tokenizer = Tokenizer(num_words=vocab_size, oov_token=oov_tok)"
   ]
  },
  {
   "cell_type": "code",
   "execution_count": 15,
   "metadata": {
    "colab": {},
    "colab_type": "code",
    "id": "jGwXGIXvFhXW"
   },
   "outputs": [],
   "source": [
    "# Generate the tokens for the words in training \n",
    "tokenizer.fit_on_texts(training_sentences)\n",
    "\n",
    "# Get the word index\n",
    "word_index = tokenizer.word_index"
   ]
  },
  {
   "cell_type": "code",
   "execution_count": 16,
   "metadata": {
    "colab": {},
    "colab_type": "code",
    "id": "jGwXGIXvFhXW"
   },
   "outputs": [],
   "source": [
    "# Generate the sequences\n",
    "training_sequences = tokenizer.texts_to_sequences(training_sentences)\n",
    "# Add the padding to sequences using post\n",
    "training_padded = pad_sequences(training_sequences, maxlen=max_length, padding=padding_type, truncating=trunc_type)"
   ]
  },
  {
   "cell_type": "code",
   "execution_count": 17,
   "metadata": {
    "colab": {},
    "colab_type": "code",
    "id": "jGwXGIXvFhXW"
   },
   "outputs": [],
   "source": [
    "# Generate sequences for testing sentences and its padding \n",
    "testing_sequences = tokenizer.texts_to_sequences(testing_sentences)\n",
    "testing_padded = pad_sequences(testing_sequences, maxlen=max_length, padding=padding_type, truncating=trunc_type)"
   ]
  },
  {
   "cell_type": "code",
   "execution_count": 18,
   "metadata": {
    "colab": {},
    "colab_type": "code",
    "id": "jGwXGIXvFhXW"
   },
   "outputs": [],
   "source": [
    "# Create the model using LSTM Bidirectional \n",
    "model = tf.keras.Sequential([\n",
    "    tf.keras.layers.Embedding(vocab_size, embedding_dim, input_length=max_length),\n",
    "    tf.keras.layers.Bidirectional(tf.keras.layers.LSTM(32)),\n",
    "    tf.keras.layers.Dense(24, activation='relu'),\n",
    "    tf.keras.layers.Dense(1, activation='sigmoid')\n",
    "])"
   ]
  },
  {
   "cell_type": "code",
   "execution_count": 19,
   "metadata": {
    "colab": {},
    "colab_type": "code",
    "id": "jGwXGIXvFhXW"
   },
   "outputs": [
    {
     "name": "stdout",
     "output_type": "stream",
     "text": [
      "Model: \"sequential\"\n",
      "_________________________________________________________________\n",
      "Layer (type)                 Output Shape              Param #   \n",
      "=================================================================\n",
      "embedding (Embedding)        (None, 120, 16)           16000     \n",
      "_________________________________________________________________\n",
      "bidirectional (Bidirectional (None, 64)                12544     \n",
      "_________________________________________________________________\n",
      "dense (Dense)                (None, 24)                1560      \n",
      "_________________________________________________________________\n",
      "dense_1 (Dense)              (None, 1)                 25        \n",
      "=================================================================\n",
      "Total params: 30,129\n",
      "Trainable params: 30,129\n",
      "Non-trainable params: 0\n",
      "_________________________________________________________________\n"
     ]
    }
   ],
   "source": [
    "# Configure the model \n",
    "metric = 'accuracy' \n",
    "model.compile(loss='binary_crossentropy',optimizer='adam',metrics=[metric])\n",
    "model.summary()"
   ]
  },
  {
   "cell_type": "code",
   "execution_count": 20,
   "metadata": {
    "colab": {},
    "colab_type": "code",
    "id": "jGwXGIXvFhXW"
   },
   "outputs": [
    {
     "name": "stdout",
     "output_type": "stream",
     "text": [
      "Train on 20000 samples, validate on 6709 samples\n",
      "Epoch 1/30\n",
      "20000/20000 [==============================] - 18s 893us/sample - loss: 0.4543 - accuracy: 0.7695 - val_loss: 0.3910 - val_accuracy: 0.8213\n",
      "Epoch 2/30\n",
      "20000/20000 [==============================] - 13s 668us/sample - loss: 0.3572 - accuracy: 0.8364 - val_loss: 0.3781 - val_accuracy: 0.8284\n",
      "Epoch 3/30\n",
      "20000/20000 [==============================] - 12s 593us/sample - loss: 0.3308 - accuracy: 0.8507 - val_loss: 0.3712 - val_accuracy: 0.8275\n",
      "Epoch 4/30\n",
      "20000/20000 [==============================] - 12s 619us/sample - loss: 0.3111 - accuracy: 0.8636 - val_loss: 0.3691 - val_accuracy: 0.8335\n",
      "Epoch 5/30\n",
      "20000/20000 [==============================] - 12s 584us/sample - loss: 0.2983 - accuracy: 0.8686 - val_loss: 0.3766 - val_accuracy: 0.8296\n",
      "Epoch 6/30\n",
      "20000/20000 [==============================] - 11s 542us/sample - loss: 0.2899 - accuracy: 0.8739 - val_loss: 0.3815 - val_accuracy: 0.8268\n",
      "Epoch 7/30\n",
      "20000/20000 [==============================] - 14s 682us/sample - loss: 0.2802 - accuracy: 0.8767 - val_loss: 0.3841 - val_accuracy: 0.8284\n",
      "Epoch 8/30\n",
      "20000/20000 [==============================] - 13s 648us/sample - loss: 0.2734 - accuracy: 0.8794 - val_loss: 0.3964 - val_accuracy: 0.8305\n",
      "Epoch 9/30\n",
      "20000/20000 [==============================] - 12s 611us/sample - loss: 0.2671 - accuracy: 0.8840 - val_loss: 0.4104 - val_accuracy: 0.8243\n",
      "Epoch 10/30\n",
      "20000/20000 [==============================] - 13s 627us/sample - loss: 0.2627 - accuracy: 0.8864 - val_loss: 0.4056 - val_accuracy: 0.8296\n",
      "Epoch 11/30\n",
      "20000/20000 [==============================] - 10s 523us/sample - loss: 0.2576 - accuracy: 0.8896 - val_loss: 0.4083 - val_accuracy: 0.8278\n",
      "Epoch 12/30\n",
      "20000/20000 [==============================] - 13s 651us/sample - loss: 0.2510 - accuracy: 0.8923 - val_loss: 0.3990 - val_accuracy: 0.8259\n",
      "Epoch 13/30\n",
      "20000/20000 [==============================] - 13s 637us/sample - loss: 0.2441 - accuracy: 0.8933 - val_loss: 0.4316 - val_accuracy: 0.8228\n",
      "Epoch 14/30\n",
      "20000/20000 [==============================] - 10s 516us/sample - loss: 0.2376 - accuracy: 0.8985 - val_loss: 0.4181 - val_accuracy: 0.8252\n",
      "Epoch 15/30\n",
      "20000/20000 [==============================] - 10s 515us/sample - loss: 0.2290 - accuracy: 0.9035 - val_loss: 0.4529 - val_accuracy: 0.8173\n",
      "Epoch 16/30\n",
      "20000/20000 [==============================] - 12s 588us/sample - loss: 0.2216 - accuracy: 0.9068 - val_loss: 0.4925 - val_accuracy: 0.8198\n",
      "Epoch 17/30\n",
      "20000/20000 [==============================] - 14s 699us/sample - loss: 0.2159 - accuracy: 0.9100 - val_loss: 0.4737 - val_accuracy: 0.8195\n",
      "Epoch 18/30\n",
      "20000/20000 [==============================] - 14s 685us/sample - loss: 0.2055 - accuracy: 0.9137 - val_loss: 0.4954 - val_accuracy: 0.8165\n",
      "Epoch 19/30\n",
      "20000/20000 [==============================] - 12s 577us/sample - loss: 0.1974 - accuracy: 0.9164 - val_loss: 0.5440 - val_accuracy: 0.8167\n",
      "Epoch 20/30\n",
      "20000/20000 [==============================] - 11s 554us/sample - loss: 0.1895 - accuracy: 0.9218 - val_loss: 0.5945 - val_accuracy: 0.8135\n",
      "Epoch 21/30\n",
      "20000/20000 [==============================] - 10s 524us/sample - loss: 0.1823 - accuracy: 0.9247 - val_loss: 0.5799 - val_accuracy: 0.8155\n",
      "Epoch 22/30\n",
      "20000/20000 [==============================] - 11s 536us/sample - loss: 0.1737 - accuracy: 0.9296 - val_loss: 0.6204 - val_accuracy: 0.8116\n",
      "Epoch 23/30\n",
      "20000/20000 [==============================] - 10s 521us/sample - loss: 0.1668 - accuracy: 0.9322 - val_loss: 0.6735 - val_accuracy: 0.8101\n",
      "Epoch 24/30\n",
      "20000/20000 [==============================] - 12s 578us/sample - loss: 0.1618 - accuracy: 0.9334 - val_loss: 0.6543 - val_accuracy: 0.8061\n",
      "Epoch 25/30\n",
      "20000/20000 [==============================] - 13s 645us/sample - loss: 0.1581 - accuracy: 0.9359 - val_loss: 0.7456 - val_accuracy: 0.8064\n",
      "Epoch 26/30\n",
      "20000/20000 [==============================] - 13s 628us/sample - loss: 0.1499 - accuracy: 0.9392 - val_loss: 0.7318 - val_accuracy: 0.8086\n",
      "Epoch 27/30\n",
      "20000/20000 [==============================] - 14s 724us/sample - loss: 0.1419 - accuracy: 0.9421 - val_loss: 0.8162 - val_accuracy: 0.8077\n",
      "Epoch 28/30\n",
      "20000/20000 [==============================] - 13s 630us/sample - loss: 0.1378 - accuracy: 0.9443 - val_loss: 0.8288 - val_accuracy: 0.7976\n",
      "Epoch 29/30\n",
      "20000/20000 [==============================] - 14s 701us/sample - loss: 0.1330 - accuracy: 0.9460 - val_loss: 0.9035 - val_accuracy: 0.8077\n",
      "Epoch 30/30\n",
      "20000/20000 [==============================] - 14s 685us/sample - loss: 0.1260 - accuracy: 0.9492 - val_loss: 0.9363 - val_accuracy: 0.7943\n"
     ]
    }
   ],
   "source": [
    "# Train the model \n",
    "num_epochs = 30\n",
    "history = model.fit(training_padded, training_labels, \n",
    "                    epochs=num_epochs, \n",
    "                    validation_data=(testing_padded, testing_labels), \n",
    "                    verbose=1)"
   ]
  },
  {
   "cell_type": "code",
   "execution_count": 21,
   "metadata": {
    "colab": {},
    "colab_type": "code",
    "id": "g9DC6dmLF8DC"
   },
   "outputs": [],
   "source": [
    "def plot_graphs(history, string):\n",
    "  plt.plot(history.history[string])\n",
    "  plt.plot(history.history['val_'+string])\n",
    "  plt.xlabel(\"Epochs\")\n",
    "  plt.ylabel(string)\n",
    "  plt.legend([string, 'val_'+string])\n",
    "  plt.show()"
   ]
  },
  {
   "cell_type": "code",
   "execution_count": 22,
   "metadata": {
    "colab": {},
    "colab_type": "code",
    "id": "g9DC6dmLF8DC"
   },
   "outputs": [
    {
     "data": {
      "image/png": "[encoded data removed]",
      "text/plain": [
       "<Figure size 432x288 with 1 Axes>"
      ]
     },
     "metadata": {
      "needs_background": "light"
     },
     "output_type": "display_data"
    },
    {
     "data": {
      "image/png": "[encoded data removed]",
      "text/plain": [
       "<Figure size 432x288 with 1 Axes>"
      ]
     },
     "metadata": {
      "needs_background": "light"
     },
     "output_type": "display_data"
    }
   ],
   "source": [
    "plot_graphs(history, metric)\n",
    "plot_graphs(history, 'loss')"
   ]
  },
  {
   "cell_type": "code",
   "execution_count": 23,
   "metadata": {
    "colab": {},
    "colab_type": "code",
    "id": "7ZEZIUppGhdi"
   },
   "outputs": [],
   "source": [
    "path_to_save_model = os.path.join(BASE_PATH, \"sarcasm_lstm.h5\")\n",
    "model.save(path_to_save_model)"
   ]
  },
  {
   "cell_type": "code",
   "execution_count": 24,
   "metadata": {},
   "outputs": [],
   "source": [
    "session.close()"
   ]
  },
  {
   "cell_type": "code",
   "execution_count": null,
   "metadata": {},
   "outputs": [],
   "source": []
  }
 ],
 "metadata": {
  "accelerator": "GPU",
  "colab": {
   "collapsed_sections": [],
   "name": "Course 3 - Week 3 - Lesson 2c.ipynb",
   "provenance": [
    {
     "file_id": "1hJrHjN5rpA01RJl6LDPgG1udgsIda4ke",
     "timestamp": 1556829841087
    },
    {
     "file_id": "1OOzqEhzmkFQOtmEGwMhiLxB_D2osx4eM",
     "timestamp": 1556803950670
    }
   ],
   "version": "0.3.2"
  },
  "kernelspec": {
   "display_name": "Python 3",
   "language": "python",
   "name": "python3"
  },
  "language_info": {
   "codemirror_mode": {
    "name": "ipython",
    "version": 3
   },
   "file_extension": ".py",
   "mimetype": "text/x-python",
   "name": "python",
   "nbconvert_exporter": "python",
   "pygments_lexer": "ipython3",
   "version": "3.6.8"
  }
 },
 "nbformat": 4,
 "nbformat_minor": 1
}

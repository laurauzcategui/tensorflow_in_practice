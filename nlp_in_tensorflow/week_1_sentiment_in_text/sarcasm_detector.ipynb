{
 "cells": [
  {
   "cell_type": "code",
   "execution_count": 1,
   "metadata": {},
   "outputs": [],
   "source": [
    "import os\n",
    "import zipfile\n",
    "import json\n",
    "from tensorflow.keras.preprocessing.text import Tokenizer\n",
    "from tensorflow.keras.preprocessing.sequence import pad_sequences"
   ]
  },
  {
   "cell_type": "code",
   "execution_count": 5,
   "metadata": {},
   "outputs": [],
   "source": [
    "# download from kaggle\n",
    "# ref https://rishabhmisra.github.io/publications/\n",
    "KAGGLE_DATASET = \"rmisra/news-headlines-dataset-for-sarcasm-detection\"\n",
    "BASE_PATH=\"/home/$user/data/tmp\"\n",
    "DATASETS_DIR=\"./datasets\"\n",
    "DATASET_NAME=\"news-headlines-dataset-for-sarcasm-detection.zip\"\n",
    "JSON_FILE = \"Sarcasm_Headlines_Dataset.json\""
   ]
  },
  {
   "cell_type": "code",
   "execution_count": 3,
   "metadata": {},
   "outputs": [],
   "source": [
    "# Kaggle Dataset Download :) \n",
    "def download_kaggle_dataset(dataset_name, path_to_download=DATASETS_DIR):\n",
    "    print(\"Downloading at: {}\".format(path_to_download))\n",
    "    # --force if you want to force download\n",
    "    !kaggle datasets download -d $dataset_name -p $path_to_download "
   ]
  },
  {
   "cell_type": "code",
   "execution_count": 4,
   "metadata": {},
   "outputs": [
    {
     "name": "stdout",
     "output_type": "stream",
     "text": [
      "Downloading at: ./datasets\n",
      "news-headlines-dataset-for-sarcasm-detection.zip: Skipping, found more recently modified local copy (use --force to force download)\n"
     ]
    }
   ],
   "source": [
    "download_kaggle_dataset(KAGGLE_DATASET)"
   ]
  },
  {
   "cell_type": "code",
   "execution_count": 7,
   "metadata": {},
   "outputs": [],
   "source": [
    "def extract_dataset(filename, extract_dir=BASE_PATH):\n",
    "    ''' will extract the dataset on the fullpath \n",
    "      to the extract_dir defined if not then default to BASE_PATH\n",
    "      Args:\n",
    "        filename (str): zip filename\n",
    "        extract_dir (str): path to extract the zip file\n",
    "    '''\n",
    "\n",
    "    file_zip=os.path.join(DATASETS_DIR,filename)\n",
    "    zip_ref = zipfile.ZipFile(file_zip, 'r')\n",
    "    zip_ref.extractall(extract_dir)\n",
    "    zip_ref.close()"
   ]
  },
  {
   "cell_type": "code",
   "execution_count": 8,
   "metadata": {},
   "outputs": [],
   "source": [
    "# Filename without extension\n",
    "name = os.path.splitext(os.path.basename(DATASET_NAME))[0]\n",
    "# Base path + new dir \n",
    "new_dir = os.path.join(BASE_PATH, name)\n",
    "# create the directory\n",
    "try:\n",
    "    os.mkdir(new_dir)\n",
    "except FileExistsError:\n",
    "    print(\"Directory {} already exist, so skipping creation\".format(new_dhttps://storage.googleapis.com/laurencemoroney-blog.appspot.com/bbc-text.csvir))\n",
    "# extract the dataset\n",
    "extract_dataset(filename=DATASET_NAME, extract_dir=new_dir)"
   ]
  },
  {
   "cell_type": "code",
   "execution_count": 9,
   "metadata": {},
   "outputs": [
    {
     "name": "stdout",
     "output_type": "stream",
     "text": [
      "Sarcasm_Headlines_Dataset.json\tSarcasm_Headlines_Dataset_v2.json\r\n"
     ]
    }
   ],
   "source": [
    "!ls $BASE_PATH/$name"
   ]
  },
  {
   "cell_type": "code",
   "execution_count": 23,
   "metadata": {},
   "outputs": [
    {
     "name": "stdout",
     "output_type": "stream",
     "text": [
      "{\"article_link\": \"https://www.huffingtonpost.com/entry/versace-black-code_us_5861fbefe4b0de3a08f600d5\", \"headline\": \"former versace store clerk sues over secret 'black code' for minority shoppers\", \"is_sarcastic\": 0}\r",
      "\r\n",
      "{\"article_link\": \"https://www.huffingtonpost.com/entry/roseanne-revival-review_us_5ab3a497e4b054d118e04365\", \"headline\": \"the 'roseanne' revival catches up to our thorny political mood, for better and worse\", \"is_sarcastic\": 0}\r",
      "\r\n",
      "{\"article_link\": \"https://local.theonion.com/mom-starting-to-fear-son-s-web-series-closest-thing-she-1819576697\", \"headline\": \"mom starting to fear son's web series closest thing she will have to grandchild\", \"is_sarcastic\": 1}\r",
      "\r\n"
     ]
    }
   ],
   "source": [
    "!head -n 3 $BASE_PATH/$name/Sarcasm_Headlines_Dataset.json"
   ]
  },
  {
   "cell_type": "code",
   "execution_count": 11,
   "metadata": {},
   "outputs": [],
   "source": [
    "def read_dataset_as_json(filename):\n",
    "    data = []\n",
    "    with open(filename) as f:\n",
    "        for line in f:\n",
    "            data.append(json.loads(line))\n",
    "    return data"
   ]
  },
  {
   "cell_type": "code",
   "execution_count": 26,
   "metadata": {},
   "outputs": [
    {
     "name": "stdout",
     "output_type": "stream",
     "text": [
      "Records on headlines dataset :26709\n"
     ]
    }
   ],
   "source": [
    "# Path to json dataset :)\n",
    "fullpath = os.path.join(BASE_PATH,name, JSON_FILE)\n",
    "\n",
    "# load the data as json\n",
    "dataset = read_dataset_as_json(fullpath)\n",
    "\n",
    "# Records on the dataset\n",
    "print(\"Records on headlines dataset :{}\".format(len(dataset)))"
   ]
  },
  {
   "cell_type": "code",
   "execution_count": 14,
   "metadata": {},
   "outputs": [
    {
     "data": {
      "text/plain": [
       "\"former versace store clerk sues over secret 'black code' for minority shoppers\""
      ]
     },
     "execution_count": 14,
     "metadata": {},
     "output_type": "execute_result"
    }
   ],
   "source": [
    "# extract sentences\n",
    "headlines = [obj['headline'] for obj in dataset]\n",
    "# let's checkout the 1st one\n",
    "headlines[0]"
   ]
  },
  {
   "cell_type": "code",
   "execution_count": 46,
   "metadata": {},
   "outputs": [],
   "source": [
    "def fit_tokenizer(tokenizer, sentences,on_text=True):\n",
    "    # encode the words using the tokenizer\n",
    "    if on_text:\n",
    "        tokenizer.fit_on_texts(sentences)\n",
    "    else:\n",
    "        return tokenizer.texts_to_sequences(sentences)"
   ]
  },
  {
   "cell_type": "code",
   "execution_count": 47,
   "metadata": {},
   "outputs": [],
   "source": [
    "def get_word_index(tokenizer):\n",
    "    # get the indices of the words \n",
    "    return tokenizer.word_index"
   ]
  },
  {
   "cell_type": "code",
   "execution_count": 48,
   "metadata": {},
   "outputs": [
    {
     "name": "stdout",
     "output_type": "stream",
     "text": [
      "['<oov>', 'to', 'of', 'the', 'in', 'for', 'a', 'on', 'and', 'with']\n"
     ]
    }
   ],
   "source": [
    "# Start working with the Tokenizer \n",
    "tokenizer = Tokenizer(oov_token=\"<oov>\")\n",
    "\n",
    "# encode the words\n",
    "fit_tokenizer(tokenizer, headlines)\n",
    "\n",
    "# Get the word index, first 10 \n",
    "print(list(get_word_index(tokenizer))[:10])"
   ]
  },
  {
   "cell_type": "code",
   "execution_count": 51,
   "metadata": {},
   "outputs": [],
   "source": [
    "# Generate the sequences\n",
    "seq_no_padding = fit_tokenizer(tokenizer, headlines, on_text=False)\n",
    "# adding the padding \n",
    "padded_seq = pad_sequences(seq_no_padding, padding='post')"
   ]
  },
  {
   "cell_type": "code",
   "execution_count": 52,
   "metadata": {},
   "outputs": [
    {
     "name": "stdout",
     "output_type": "stream",
     "text": [
      "Headlines[2]: mom starting to fear son's web series closest thing she will have to grandchild\n",
      "Padded[2]: [  145   838     2   907  1749  2093   582  4719   221   143    39    46\n",
      "     2 10736     0     0     0     0     0     0     0     0     0     0\n",
      "     0     0     0     0     0     0     0     0     0     0     0     0\n",
      "     0     0     0     0]\n",
      "Shape of padded seq: (26709, 40)\n"
     ]
    }
   ],
   "source": [
    "print(\"Headlines[2]: {}\".format(headlines[2]))\n",
    "\n",
    "print(\"Padded[2]: {}\".format(padded_seq[2]))\n",
    "\n",
    "print(\"Shape of padded seq: {}\".format(padded_seq.shape))\n"
   ]
  },
  {
   "cell_type": "code",
   "execution_count": null,
   "metadata": {},
   "outputs": [],
   "source": []
  },
  {
   "cell_type": "code",
   "execution_count": null,
   "metadata": {},
   "outputs": [],
   "source": []
  }
 ],
 "metadata": {
  "kernelspec": {
   "display_name": "Python 3",
   "language": "python",
   "name": "python3"
  },
  "language_info": {
   "codemirror_mode": {
    "name": "ipython",
    "version": 3
   },
   "file_extension": ".py",
   "mimetype": "text/x-python",
   "name": "python",
   "nbconvert_exporter": "python",
   "pygments_lexer": "ipython3",
   "version": "3.6.8"
  }
 },
 "nbformat": 4,
 "nbformat_minor": 2
}

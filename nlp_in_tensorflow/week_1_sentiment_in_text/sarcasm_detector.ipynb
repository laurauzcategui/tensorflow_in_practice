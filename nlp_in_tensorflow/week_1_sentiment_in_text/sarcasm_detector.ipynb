{
 "cells": [
  {
   "cell_type": "code",
   "execution_count": 59,
   "metadata": {},
   "outputs": [],
   "source": [
    "import os\n",
    "import zipfile\n",
    "import json\n",
    "from tensorflow.keras.preprocessing.text import Tokenizer\n",
    "from tensorflow.keras.preprocessing.sequence import pad_sequences"
   ]
  },
  {
   "cell_type": "code",
   "execution_count": 43,
   "metadata": {},
   "outputs": [],
   "source": [
    "# download from kaggle\n",
    "# ref https://rishabhmisra.github.io/publications/\n",
    "KAGGLE_DATASET = \"rmisra/news-headlines-dataset-for-sarcasm-detection\"\n",
    "BASE_PATH=\"/data/tmp\"\n",
    "DATASETS_DIR=\"./datasets\"\n",
    "DATASET_NAME=\"news-headlines-dataset-for-sarcasm-detection.zip\"\n",
    "JSON_FILE = \"Sarcasm_Headlines_Dataset.json\""
   ]
  },
  {
   "cell_type": "code",
   "execution_count": 44,
   "metadata": {},
   "outputs": [],
   "source": [
    "# Kaggle Dataset Download :) \n",
    "def download_kaggle_dataset(dataset_name, path_to_download=DATASETS_DIR):\n",
    "    print(\"Downloading at: {}\".format(path_to_download))\n",
    "    # --force if you want to force download\n",
    "    !kaggle datasets download -d $dataset_name -p $path_to_download "
   ]
  },
  {
   "cell_type": "code",
   "execution_count": 45,
   "metadata": {},
   "outputs": [
    {
     "name": "stdout",
     "output_type": "stream",
     "text": [
      "Downloading at: ./datasets\n",
      "news-headlines-dataset-for-sarcasm-detection.zip: Skipping, found more recently modified local copy (use --force to force download)\n"
     ]
    }
   ],
   "source": [
    "download_kaggle_dataset(KAGGLE_DATASET)"
   ]
  },
  {
   "cell_type": "code",
   "execution_count": 46,
   "metadata": {},
   "outputs": [],
   "source": [
    "def extract_dataset(filename, extract_dir=BASE_PATH):\n",
    "    ''' will extract the dataset on the fullpath \n",
    "      to the extract_dir defined if not then default to BASE_PATH\n",
    "      Args:\n",
    "        filename (str): zip filename\n",
    "        extract_dir (str): path to extract the zip file\n",
    "    '''\n",
    "\n",
    "    file_zip=os.path.join(DATASETS_DIR,filename)\n",
    "    zip_ref = zipfile.ZipFile(file_zip, 'r')\n",
    "    zip_ref.extractall(extract_dir)\n",
    "    zip_ref.close()"
   ]
  },
  {
   "cell_type": "code",
   "execution_count": 47,
   "metadata": {},
   "outputs": [
    {
     "name": "stdout",
     "output_type": "stream",
     "text": [
      "Directory /data/tmp/news-headlines-dataset-for-sarcasm-detection already exist, so skipping creation\n"
     ]
    }
   ],
   "source": [
    "# Filename without extension\n",
    "name = os.path.splitext(os.path.basename(DATASET_NAME))[0]\n",
    "# Base path + new dir \n",
    "new_dir = os.path.join(BASE_PATH, name)\n",
    "# create the directory\n",
    "try:\n",
    "    os.mkdir(new_dir)\n",
    "except FileExistsError:\n",
    "    print(\"Directory {} already exist, so skipping creation\".format(new_dir))\n",
    "# extract the dataset\n",
    "extract_dataset(filename=DATASET_NAME, extract_dir=new_dir)"
   ]
  },
  {
   "cell_type": "code",
   "execution_count": 48,
   "metadata": {},
   "outputs": [
    {
     "name": "stdout",
     "output_type": "stream",
     "text": [
      "Sarcasm_Headlines_Dataset.json\tSarcasm_Headlines_Dataset_v2.json\r\n"
     ]
    }
   ],
   "source": [
    "!ls $BASE_PATH/$name"
   ]
  },
  {
   "cell_type": "code",
   "execution_count": 49,
   "metadata": {},
   "outputs": [
    {
     "name": "stdout",
     "output_type": "stream",
     "text": [
      "{\"article_link\": \"https://www.huffingtonpost.com/entry/versace-black-code_us_5861fbefe4b0de3a08f600d5\", \"headline\": \"former versace store clerk sues over secret 'black code' for minority shoppers\", \"is_sarcastic\": 0}\r",
      "\r\n",
      "{\"article_link\": \"https://www.huffingtonpost.com/entry/roseanne-revival-review_us_5ab3a497e4b054d118e04365\", \"headline\": \"the 'roseanne' revival catches up to our thorny political mood, for better and worse\", \"is_sarcastic\": 0}\r",
      "\r\n",
      "{\"article_link\": \"https://local.theonion.com/mom-starting-to-fear-son-s-web-series-closest-thing-she-1819576697\", \"headline\": \"mom starting to fear son's web series closest thing she will have to grandchild\", \"is_sarcastic\": 1}\r",
      "\r\n",
      "{\"article_link\": \"https://politics.theonion.com/boehner-just-wants-wife-to-listen-not-come-up-with-alt-1819574302\", \"headline\": \"boehner just wants wife to listen, not come up with alternative debt-reduction ideas\", \"is_sarcastic\": 1}\r",
      "\r\n",
      "{\"article_link\": \"https://www.huffingtonpost.com/entry/jk-rowling-wishes-snape-happy-birthday_us_569117c4e4b0cad15e64fdcb\", \"headline\": \"j.k. rowling wishes snape happy birthday in the most magical way\", \"is_sarcastic\": 0}\r",
      "\r\n",
      "{\"article_link\": \"https://www.huffingtonpost.com/entry/advancing-the-worlds-women_b_6810038.html\", \"headline\": \"advancing the world's women\", \"is_sarcastic\": 0}\r",
      "\r\n",
      "{\"article_link\": \"https://www.huffingtonpost.com/entry/how-meat-is-grown-in-a-lab_us_561d1189e4b0c5a1ce607e86\", \"headline\": \"the fascinating case for eating lab-grown meat\", \"is_sarcastic\": 0}\r",
      "\r\n",
      "{\"article_link\": \"https://www.huffingtonpost.com/entry/boxed-college-tuition-ben_n_7445644.html\", \"headline\": \"this ceo will send your kids to school, if you work for his company\", \"is_sarcastic\": 0}\r",
      "\r\n",
      "{\"article_link\": \"https://politics.theonion.com/top-snake-handler-leaves-sinking-huckabee-campaign-1819578231\", \"headline\": \"top snake handler leaves sinking huckabee campaign\", \"is_sarcastic\": 1}\r",
      "\r\n",
      "{\"article_link\": \"https://www.huffingtonpost.com/entry/fridays-morning-email-inside-trumps-presser-for-the-ages_us_58a6e33ee4b07602ad53a315\", \"headline\": \"friday's morning email: inside trump's presser for the ages\", \"is_sarcastic\": 0}\r",
      "\r\n"
     ]
    }
   ],
   "source": [
    "!head $BASE_PATH/$name/Sarcasm_Headlines_Dataset.json"
   ]
  },
  {
   "cell_type": "code",
   "execution_count": 54,
   "metadata": {},
   "outputs": [],
   "source": [
    "def read_dataset_as_json(filename):\n",
    "    data = []\n",
    "    with open(filename) as f:\n",
    "        for line in f:\n",
    "            data.append(json.loads(line))\n",
    "    return data"
   ]
  },
  {
   "cell_type": "code",
   "execution_count": 53,
   "metadata": {},
   "outputs": [
    {
     "data": {
      "text/plain": [
       "26709"
      ]
     },
     "execution_count": 53,
     "metadata": {},
     "output_type": "execute_result"
    }
   ],
   "source": [
    "# load the data as json\n",
    "fullpath = os.path.join(BASE_PATH,name, JSON_FILE)\n",
    "\n",
    "dataset = read_dataset_as_json(fullpath)\n",
    "len(dataset)"
   ]
  },
  {
   "cell_type": "code",
   "execution_count": 58,
   "metadata": {},
   "outputs": [
    {
     "data": {
      "text/plain": [
       "\"former versace store clerk sues over secret 'black code' for minority shoppers\""
      ]
     },
     "execution_count": 58,
     "metadata": {},
     "output_type": "execute_result"
    }
   ],
   "source": [
    "# extract sentences\n",
    "headlines = [obj['headline'] for obj in dataset]"
   ]
  },
  {
   "cell_type": "code",
   "execution_count": null,
   "metadata": {},
   "outputs": [],
   "source": [
    "# do preprocessing with Tokenizer\n",
    "tokenizer = Tokenizer(num_words=)"
   ]
  }
 ],
 "metadata": {
  "kernelspec": {
   "display_name": "Python 3",
   "language": "python",
   "name": "python3"
  },
  "language_info": {
   "codemirror_mode": {
    "name": "ipython",
    "version": 3
   },
   "file_extension": ".py",
   "mimetype": "text/x-python",
   "name": "python",
   "nbconvert_exporter": "python",
   "pygments_lexer": "ipython3",
   "version": "3.6.8"
  }
 },
 "nbformat": 4,
 "nbformat_minor": 2
}

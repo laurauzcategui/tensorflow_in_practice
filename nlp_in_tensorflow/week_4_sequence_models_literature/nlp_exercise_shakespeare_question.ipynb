{
  "nbformat": 4,
  "nbformat_minor": 0,
  "metadata": {
    "colab": {
      "name": "nlp_exercise_shakespeare_question.ipynb",
      "provenance": [],
      "machine_shape": "hm"
    },
    "kernelspec": {
      "name": "python3",
      "display_name": "Python 3"
    },
    "accelerator": "GPU"
  },
  "cells": [
    {
      "cell_type": "code",
      "metadata": {
        "id": "oqJPfFxIUKls",
        "colab_type": "code",
        "colab": {}
      },
      "source": [
        "# Let's install tensorflow 2.x first :)\n",
        "try:\n",
        "  # %tensorflow_version only exists in Colab.\n",
        "  %tensorflow_version 2.x\n",
        "except Exception:\n",
        "  pass"
      ],
      "execution_count": 0,
      "outputs": []
    },
    {
      "cell_type": "code",
      "metadata": {
        "id": "kOdHWE7V0AnT",
        "colab_type": "code",
        "colab": {}
      },
      "source": [
        "from tensorflow.keras.preprocessing.sequence import pad_sequences\n",
        "from tensorflow.keras.layers import Embedding, LSTM, Dense, Dropout, Bidirectional\n",
        "from tensorflow.keras.preprocessing.text import Tokenizer\n",
        "from tensorflow.keras.models import Sequential\n",
        "from tensorflow.keras.optimizers import Adam"
      ],
      "execution_count": 0,
      "outputs": []
    },
    {
      "cell_type": "code",
      "metadata": {
        "id": "BOwsuGQQY9OL",
        "colab_type": "code",
        "colab": {}
      },
      "source": [
        "from tensorflow.keras import regularizers\n",
        "import tensorflow.keras.utils as ku \n",
        "import tensorflow as tf\n",
        "import numpy as np \n",
        "import os\n",
        "import matplotlib.pyplot as plt"
      ],
      "execution_count": 0,
      "outputs": []
    },
    {
      "cell_type": "code",
      "metadata": {
        "id": "aHmmDBNq2ny9",
        "colab_type": "code",
        "colab": {}
      },
      "source": [
        "BASE_URL = \"https://storage.googleapis.com/laurencemoroney-blog.appspot.com\"\n",
        "DATASET_NAME = \"sonnets.txt\"\n",
        "DATASET_FOLDER = \"./datasets\""
      ],
      "execution_count": 0,
      "outputs": []
    },
    {
      "cell_type": "code",
      "metadata": {
        "id": "lEpP7D2eKoOB",
        "colab_type": "code",
        "colab": {
          "base_uri": "https://localhost:8080/",
          "height": 35
        },
        "outputId": "a29d886f-c5ae-4127-c711-0f3003fa1b24"
      },
      "source": [
        "!mkdir $DATASET_FOLDER"
      ],
      "execution_count": 7,
      "outputs": [
        {
          "output_type": "stream",
          "text": [
            "mkdir: cannot create directory ‘./datasets’: File exists\n"
          ],
          "name": "stdout"
        }
      ]
    },
    {
      "cell_type": "code",
      "metadata": {
        "id": "IMub2G7K3O6q",
        "colab_type": "code",
        "colab": {}
      },
      "source": [
        "dataset_url = os.path.join(BASE_URL,DATASET_NAME)\n",
        "dataset_path = os.path.join(DATASET_FOLDER, DATASET_NAME)"
      ],
      "execution_count": 0,
      "outputs": []
    },
    {
      "cell_type": "code",
      "metadata": {
        "id": "IeAo0sRq0KG9",
        "colab_type": "code",
        "colab": {
          "base_uri": "https://localhost:8080/",
          "height": 208
        },
        "outputId": "bad1d589-2413-4985-83d4-e4796cb3a5bd"
      },
      "source": [
        "!wget $dataset_url -O $dataset_path"
      ],
      "execution_count": 9,
      "outputs": [
        {
          "output_type": "stream",
          "text": [
            "--2019-12-08 21:01:26--  https://storage.googleapis.com/laurencemoroney-blog.appspot.com/sonnets.txt\n",
            "Resolving storage.googleapis.com (storage.googleapis.com)... 74.125.140.128, 2a00:1450:400c:c0c::80\n",
            "Connecting to storage.googleapis.com (storage.googleapis.com)|74.125.140.128|:443... connected.\n",
            "HTTP request sent, awaiting response... 200 OK\n",
            "Length: 93578 (91K) [text/plain]\n",
            "Saving to: ‘./datasets/sonnets.txt’\n",
            "\n",
            "\r./datasets/sonnets.   0%[                    ]       0  --.-KB/s               \r./datasets/sonnets. 100%[===================>]  91.38K  --.-KB/s    in 0.001s  \n",
            "\n",
            "2019-12-08 21:01:26 (131 MB/s) - ‘./datasets/sonnets.txt’ saved [93578/93578]\n",
            "\n"
          ],
          "name": "stdout"
        }
      ]
    },
    {
      "cell_type": "code",
      "metadata": {
        "id": "mLKh9deW4krw",
        "colab_type": "code",
        "colab": {}
      },
      "source": [
        "# Open the file \n",
        "data = open(dataset_path).read()\n",
        "# Take the data and lower case it and split it between lines\n",
        "corpus = data.lower().split(\"\\n\")"
      ],
      "execution_count": 0,
      "outputs": []
    },
    {
      "cell_type": "code",
      "metadata": {
        "id": "xGTU5yFPJ0lC",
        "colab_type": "code",
        "colab": {
          "base_uri": "https://localhost:8080/",
          "height": 87
        },
        "outputId": "6482a713-a359-4149-a586-080347877635"
      },
      "source": [
        "corpus[:4]"
      ],
      "execution_count": 11,
      "outputs": [
        {
          "output_type": "execute_result",
          "data": {
            "text/plain": [
              "['from fairest creatures we desire increase,',\n",
              " \"that thereby beauty's rose might never die,\",\n",
              " 'but as the riper should by time decease,',\n",
              " 'his tender heir might bear his memory:']"
            ]
          },
          "metadata": {
            "tags": []
          },
          "execution_count": 11
        }
      ]
    },
    {
      "cell_type": "code",
      "metadata": {
        "colab_type": "code",
        "id": "PRnDnCW-Z7qv",
        "colab": {}
      },
      "source": [
        "# Create the tokenizer \n",
        "tokenizer = Tokenizer()\n",
        "\n",
        "# Create the tokens for each word  in the corpus \n",
        "tokenizer.fit_on_texts(corpus)\n",
        "\n",
        "# get the total number of words + 1 ( out of vocab word )\n",
        "total_words = len(tokenizer.word_index) + 1"
      ],
      "execution_count": 0,
      "outputs": []
    },
    {
      "cell_type": "code",
      "metadata": {
        "id": "bHdN8TVO6Bs9",
        "colab_type": "code",
        "colab": {}
      },
      "source": [
        "# create input sequences using list of tokens\n",
        "input_sequences = []\n",
        "for line in corpus:\n",
        "  # generate the sequences\n",
        "  token_list = tokenizer.texts_to_sequences([line])[0]\n",
        "  for i in range(1, len(token_list)):\n",
        "    # generate the ngram\n",
        "    n_gram_sequence = token_list[:i+1]\n",
        "    input_sequences.append(n_gram_sequence)"
      ],
      "execution_count": 0,
      "outputs": []
    },
    {
      "cell_type": "code",
      "metadata": {
        "id": "aTwulZWwLeiG",
        "colab_type": "code",
        "colab": {
          "base_uri": "https://localhost:8080/",
          "height": 104
        },
        "outputId": "340499ae-288a-46d7-9261-34a29959bdbc"
      },
      "source": [
        "input_sequences[:5]"
      ],
      "execution_count": 14,
      "outputs": [
        {
          "output_type": "execute_result",
          "data": {
            "text/plain": [
              "[[34, 417],\n",
              " [34, 417, 877],\n",
              " [34, 417, 877, 166],\n",
              " [34, 417, 877, 166, 213],\n",
              " [34, 417, 877, 166, 213, 517]]"
            ]
          },
          "metadata": {
            "tags": []
          },
          "execution_count": 14
        }
      ]
    },
    {
      "cell_type": "code",
      "metadata": {
        "id": "LuozeWdo6E7f",
        "colab_type": "code",
        "colab": {}
      },
      "source": [
        "# pad sequences \n",
        "max_sequence_len = max([len(x) for x in input_sequences])\n",
        "input_sequences = np.array(pad_sequences(input_sequences, maxlen=max_sequence_len, padding='pre'))"
      ],
      "execution_count": 0,
      "outputs": []
    },
    {
      "cell_type": "code",
      "metadata": {
        "id": "_shNQCVCL-OX",
        "colab_type": "code",
        "colab": {
          "base_uri": "https://localhost:8080/",
          "height": 104
        },
        "outputId": "f7150eb2-322c-4264-eb08-e5712abbf8b9"
      },
      "source": [
        "# Let's show the first 4 generated and padded sequences\n",
        "input_sequences[:4]"
      ],
      "execution_count": 16,
      "outputs": [
        {
          "output_type": "execute_result",
          "data": {
            "text/plain": [
              "array([[  0,   0,   0,   0,   0,   0,   0,   0,   0,  34, 417],\n",
              "       [  0,   0,   0,   0,   0,   0,   0,   0,  34, 417, 877],\n",
              "       [  0,   0,   0,   0,   0,   0,   0,  34, 417, 877, 166],\n",
              "       [  0,   0,   0,   0,   0,   0,  34, 417, 877, 166, 213]],\n",
              "      dtype=int32)"
            ]
          },
          "metadata": {
            "tags": []
          },
          "execution_count": 16
        }
      ]
    },
    {
      "cell_type": "code",
      "metadata": {
        "id": "TYINolU-L61-",
        "colab_type": "code",
        "colab": {
          "base_uri": "https://localhost:8080/",
          "height": 35
        },
        "outputId": "6df60977-f9b2-493e-bfc3-4e13b63b5edf"
      },
      "source": [
        "# create predictors and label\n",
        "# predictors: let's take all but the last\n",
        "# labels: let's take only the last to be the label\n",
        "predictors, label = input_sequences[:,:-1],input_sequences[:,-1]\n",
        "print(label[0:4])"
      ],
      "execution_count": 17,
      "outputs": [
        {
          "output_type": "stream",
          "text": [
            "[417 877 166 213]\n"
          ],
          "name": "stdout"
        }
      ]
    },
    {
      "cell_type": "code",
      "metadata": {
        "id": "C9JtJLtOMe7E",
        "colab_type": "code",
        "colab": {}
      },
      "source": [
        "# Change the labels to be categorical ( one hot encoding )\n",
        "label = ku.to_categorical(label, num_classes=total_words)\n"
      ],
      "execution_count": 0,
      "outputs": []
    },
    {
      "cell_type": "code",
      "metadata": {
        "id": "w6YkrXnONAPM",
        "colab_type": "code",
        "colab": {
          "base_uri": "https://localhost:8080/",
          "height": 35
        },
        "outputId": "c855c7fe-2eb1-4e39-9b9c-220dd712f71a"
      },
      "source": [
        "# From the label above the first value is 417, so this value on the vector is one\n",
        "print(label[0][417])"
      ],
      "execution_count": 19,
      "outputs": [
        {
          "output_type": "stream",
          "text": [
            "1.0\n"
          ],
          "name": "stdout"
        }
      ]
    },
    {
      "cell_type": "code",
      "metadata": {
        "id": "yA8hZ6laNliH",
        "colab_type": "code",
        "colab": {}
      },
      "source": [
        "VOCAB_SIZE = total_words\n",
        "EMBEDDING_DIM = 32\n",
        "BATCH_SIZE = 64"
      ],
      "execution_count": 0,
      "outputs": []
    },
    {
      "cell_type": "code",
      "metadata": {
        "id": "w9vH8Y59ajYL",
        "colab_type": "code",
        "colab": {}
      },
      "source": [
        "model = Sequential()\n",
        "model.add(Embedding(input_dim=VOCAB_SIZE, output_dim=EMBEDDING_DIM, input_length=max_sequence_len-1))\n",
        "model.add(Bidirectional(LSTM(150, return_sequences=True)))\n",
        "model.add(Dropout(0.2))\n",
        "model.add(LSTM(100))\n",
        "model.add(Dense(total_words/2, activation='relu', kernel_regularizer=regularizers.l2(l=0.001)))\n",
        "model.add(Dense(total_words, activation='softmax'))"
      ],
      "execution_count": 0,
      "outputs": []
    },
    {
      "cell_type": "code",
      "metadata": {
        "id": "lTMqHD_FPvsh",
        "colab_type": "code",
        "colab": {
          "base_uri": "https://localhost:8080/",
          "height": 381
        },
        "outputId": "383b04bd-af56-440e-e213-cf8a57c961da"
      },
      "source": [
        "# Pick an optimizer\n",
        "model.compile(optimizer=tf.keras.optimizers.Adam(learning_rate=0.001), \n",
        "              loss=tf.keras.losses.categorical_crossentropy,\n",
        "              metrics=['accuracy'])\n",
        "print(model.summary())"
      ],
      "execution_count": 22,
      "outputs": [
        {
          "output_type": "stream",
          "text": [
            "Model: \"sequential\"\n",
            "_________________________________________________________________\n",
            "Layer (type)                 Output Shape              Param #   \n",
            "=================================================================\n",
            "embedding (Embedding)        (None, 10, 32)            102752    \n",
            "_________________________________________________________________\n",
            "bidirectional (Bidirectional (None, 10, 300)           219600    \n",
            "_________________________________________________________________\n",
            "dropout (Dropout)            (None, 10, 300)           0         \n",
            "_________________________________________________________________\n",
            "lstm_1 (LSTM)                (None, 100)               160400    \n",
            "_________________________________________________________________\n",
            "dense (Dense)                (None, 1605)              162105    \n",
            "_________________________________________________________________\n",
            "dense_1 (Dense)              (None, 3211)              5156866   \n",
            "=================================================================\n",
            "Total params: 5,801,723\n",
            "Trainable params: 5,801,723\n",
            "Non-trainable params: 0\n",
            "_________________________________________________________________\n",
            "None\n"
          ],
          "name": "stdout"
        }
      ]
    },
    {
      "cell_type": "code",
      "metadata": {
        "id": "AIg2f1HBxqof",
        "colab_type": "code",
        "colab": {
          "base_uri": "https://localhost:8080/",
          "height": 1000
        },
        "outputId": "37bf8e05-0733-4ff1-eb8a-ed6f3f679e1c"
      },
      "source": [
        " history = model.fit(predictors, label, epochs=100, verbose=1)"
      ],
      "execution_count": 23,
      "outputs": [
        {
          "output_type": "stream",
          "text": [
            "Train on 15462 samples\n",
            "Epoch 1/100\n",
            "15462/15462 [==============================] - 20s 1ms/sample - loss: 6.8510 - accuracy: 0.0210\n",
            "Epoch 2/100\n",
            "15462/15462 [==============================] - 12s 801us/sample - loss: 6.5000 - accuracy: 0.0221\n",
            "Epoch 3/100\n",
            "15462/15462 [==============================] - 12s 798us/sample - loss: 6.3736 - accuracy: 0.0274\n",
            "Epoch 4/100\n",
            "15462/15462 [==============================] - 12s 803us/sample - loss: 6.2373 - accuracy: 0.0352\n",
            "Epoch 5/100\n",
            "15462/15462 [==============================] - 12s 807us/sample - loss: 6.1131 - accuracy: 0.0388\n",
            "Epoch 6/100\n",
            "15462/15462 [==============================] - 12s 805us/sample - loss: 5.9711 - accuracy: 0.0426\n",
            "Epoch 7/100\n",
            "15462/15462 [==============================] - 12s 804us/sample - loss: 5.8158 - accuracy: 0.0471\n",
            "Epoch 8/100\n",
            "15462/15462 [==============================] - 12s 802us/sample - loss: 5.6571 - accuracy: 0.0561\n",
            "Epoch 9/100\n",
            "15462/15462 [==============================] - 12s 806us/sample - loss: 5.4846 - accuracy: 0.0609\n",
            "Epoch 10/100\n",
            "15462/15462 [==============================] - 12s 804us/sample - loss: 5.3096 - accuracy: 0.0696\n",
            "Epoch 11/100\n",
            "15462/15462 [==============================] - 12s 797us/sample - loss: 5.1402 - accuracy: 0.0788\n",
            "Epoch 12/100\n",
            "15462/15462 [==============================] - 12s 800us/sample - loss: 4.9636 - accuracy: 0.0880\n",
            "Epoch 13/100\n",
            "15462/15462 [==============================] - 12s 802us/sample - loss: 4.7830 - accuracy: 0.0977\n",
            "Epoch 14/100\n",
            "15462/15462 [==============================] - 13s 813us/sample - loss: 4.6046 - accuracy: 0.1093\n",
            "Epoch 15/100\n",
            "15462/15462 [==============================] - 12s 800us/sample - loss: 4.4198 - accuracy: 0.1222\n",
            "Epoch 16/100\n",
            "15462/15462 [==============================] - 12s 802us/sample - loss: 4.2384 - accuracy: 0.1423\n",
            "Epoch 17/100\n",
            "15462/15462 [==============================] - 12s 800us/sample - loss: 4.0615 - accuracy: 0.1627\n",
            "Epoch 18/100\n",
            "15462/15462 [==============================] - 12s 798us/sample - loss: 3.8879 - accuracy: 0.1894\n",
            "Epoch 19/100\n",
            "15462/15462 [==============================] - 12s 800us/sample - loss: 3.7183 - accuracy: 0.2143\n",
            "Epoch 20/100\n",
            "15462/15462 [==============================] - 12s 799us/sample - loss: 3.5572 - accuracy: 0.2518\n",
            "Epoch 21/100\n",
            "15462/15462 [==============================] - 12s 799us/sample - loss: 3.4125 - accuracy: 0.2754\n",
            "Epoch 22/100\n",
            "15462/15462 [==============================] - 13s 821us/sample - loss: 3.2630 - accuracy: 0.3062\n",
            "Epoch 23/100\n",
            "15462/15462 [==============================] - 12s 799us/sample - loss: 3.1329 - accuracy: 0.3289\n",
            "Epoch 24/100\n",
            "15462/15462 [==============================] - 12s 798us/sample - loss: 2.9934 - accuracy: 0.3637\n",
            "Epoch 25/100\n",
            "15462/15462 [==============================] - 12s 797us/sample - loss: 2.8768 - accuracy: 0.3851\n",
            "Epoch 26/100\n",
            "15462/15462 [==============================] - 12s 801us/sample - loss: 2.7712 - accuracy: 0.4083\n",
            "Epoch 27/100\n",
            "15462/15462 [==============================] - 12s 799us/sample - loss: 2.6599 - accuracy: 0.4356\n",
            "Epoch 28/100\n",
            "15462/15462 [==============================] - 12s 801us/sample - loss: 2.5710 - accuracy: 0.4555\n",
            "Epoch 29/100\n",
            "15462/15462 [==============================] - 12s 793us/sample - loss: 2.4712 - accuracy: 0.4818\n",
            "Epoch 30/100\n",
            "15462/15462 [==============================] - 12s 788us/sample - loss: 2.3857 - accuracy: 0.5007\n",
            "Epoch 31/100\n",
            "15462/15462 [==============================] - 12s 790us/sample - loss: 2.2909 - accuracy: 0.5260\n",
            "Epoch 32/100\n",
            "15462/15462 [==============================] - 12s 788us/sample - loss: 2.2217 - accuracy: 0.5415\n",
            "Epoch 33/100\n",
            "15462/15462 [==============================] - 12s 792us/sample - loss: 2.1445 - accuracy: 0.5572\n",
            "Epoch 34/100\n",
            "15462/15462 [==============================] - 12s 788us/sample - loss: 2.0750 - accuracy: 0.5790\n",
            "Epoch 35/100\n",
            "15462/15462 [==============================] - 12s 790us/sample - loss: 2.0122 - accuracy: 0.5938\n",
            "Epoch 36/100\n",
            "15462/15462 [==============================] - 12s 788us/sample - loss: 1.9512 - accuracy: 0.6098\n",
            "Epoch 37/100\n",
            "15462/15462 [==============================] - 12s 786us/sample - loss: 1.8987 - accuracy: 0.6192\n",
            "Epoch 38/100\n",
            "15462/15462 [==============================] - 12s 789us/sample - loss: 1.8412 - accuracy: 0.6378\n",
            "Epoch 39/100\n",
            "15462/15462 [==============================] - 12s 801us/sample - loss: 1.7788 - accuracy: 0.6525\n",
            "Epoch 40/100\n",
            "15462/15462 [==============================] - 12s 786us/sample - loss: 1.7381 - accuracy: 0.6592\n",
            "Epoch 41/100\n",
            "15462/15462 [==============================] - 12s 786us/sample - loss: 1.6983 - accuracy: 0.6723\n",
            "Epoch 42/100\n",
            "15462/15462 [==============================] - 12s 786us/sample - loss: 1.6407 - accuracy: 0.6840\n",
            "Epoch 43/100\n",
            "15462/15462 [==============================] - 12s 786us/sample - loss: 1.5935 - accuracy: 0.6986\n",
            "Epoch 44/100\n",
            "15462/15462 [==============================] - 12s 784us/sample - loss: 1.5628 - accuracy: 0.7079\n",
            "Epoch 45/100\n",
            "15462/15462 [==============================] - 12s 789us/sample - loss: 1.5166 - accuracy: 0.7158\n",
            "Epoch 46/100\n",
            "15462/15462 [==============================] - 12s 785us/sample - loss: 1.4836 - accuracy: 0.7237\n",
            "Epoch 47/100\n",
            "15462/15462 [==============================] - 12s 800us/sample - loss: 1.4542 - accuracy: 0.7277\n",
            "Epoch 48/100\n",
            "15462/15462 [==============================] - 12s 802us/sample - loss: 1.4060 - accuracy: 0.7408\n",
            "Epoch 49/100\n",
            "15462/15462 [==============================] - 12s 788us/sample - loss: 1.3717 - accuracy: 0.7516\n",
            "Epoch 50/100\n",
            "15462/15462 [==============================] - 12s 789us/sample - loss: 1.3638 - accuracy: 0.7449\n",
            "Epoch 51/100\n",
            "15462/15462 [==============================] - 12s 789us/sample - loss: 1.3339 - accuracy: 0.7554\n",
            "Epoch 52/100\n",
            "15462/15462 [==============================] - 12s 786us/sample - loss: 1.3101 - accuracy: 0.7590\n",
            "Epoch 53/100\n",
            "15462/15462 [==============================] - 12s 784us/sample - loss: 1.2832 - accuracy: 0.7667\n",
            "Epoch 54/100\n",
            "15462/15462 [==============================] - 12s 787us/sample - loss: 1.2501 - accuracy: 0.7724\n",
            "Epoch 55/100\n",
            "15462/15462 [==============================] - 12s 788us/sample - loss: 1.2314 - accuracy: 0.7766\n",
            "Epoch 56/100\n",
            "15462/15462 [==============================] - 12s 787us/sample - loss: 1.2030 - accuracy: 0.7808\n",
            "Epoch 57/100\n",
            "15462/15462 [==============================] - 12s 786us/sample - loss: 1.1843 - accuracy: 0.7881\n",
            "Epoch 58/100\n",
            "15462/15462 [==============================] - 12s 788us/sample - loss: 1.1652 - accuracy: 0.7901\n",
            "Epoch 59/100\n",
            "15462/15462 [==============================] - 12s 786us/sample - loss: 1.1482 - accuracy: 0.7934\n",
            "Epoch 60/100\n",
            "15462/15462 [==============================] - 12s 788us/sample - loss: 1.1398 - accuracy: 0.7923\n",
            "Epoch 61/100\n",
            "15462/15462 [==============================] - 12s 788us/sample - loss: 1.1025 - accuracy: 0.8025\n",
            "Epoch 62/100\n",
            "15462/15462 [==============================] - 12s 787us/sample - loss: 1.0946 - accuracy: 0.8008\n",
            "Epoch 63/100\n",
            "15462/15462 [==============================] - 12s 789us/sample - loss: 1.0866 - accuracy: 0.8021\n",
            "Epoch 64/100\n",
            "15462/15462 [==============================] - 12s 802us/sample - loss: 1.0876 - accuracy: 0.7976\n",
            "Epoch 65/100\n",
            "15462/15462 [==============================] - 12s 786us/sample - loss: 1.0629 - accuracy: 0.8064\n",
            "Epoch 66/100\n",
            "15462/15462 [==============================] - 12s 785us/sample - loss: 1.0398 - accuracy: 0.8110\n",
            "Epoch 67/100\n",
            "15462/15462 [==============================] - 12s 786us/sample - loss: 1.0151 - accuracy: 0.8160\n",
            "Epoch 68/100\n",
            "15462/15462 [==============================] - 12s 790us/sample - loss: 1.0012 - accuracy: 0.8184\n",
            "Epoch 69/100\n",
            "15462/15462 [==============================] - 12s 788us/sample - loss: 1.0099 - accuracy: 0.8137\n",
            "Epoch 70/100\n",
            "15462/15462 [==============================] - 12s 787us/sample - loss: 1.0013 - accuracy: 0.8146\n",
            "Epoch 71/100\n",
            "15462/15462 [==============================] - 12s 787us/sample - loss: 0.9831 - accuracy: 0.8163\n",
            "Epoch 72/100\n",
            "15462/15462 [==============================] - 12s 785us/sample - loss: 0.9726 - accuracy: 0.8198\n",
            "Epoch 73/100\n",
            "15462/15462 [==============================] - 13s 810us/sample - loss: 0.9550 - accuracy: 0.8220\n",
            "Epoch 74/100\n",
            "15462/15462 [==============================] - 12s 791us/sample - loss: 0.9674 - accuracy: 0.8161\n",
            "Epoch 75/100\n",
            "15462/15462 [==============================] - 12s 789us/sample - loss: 0.9607 - accuracy: 0.8180\n",
            "Epoch 76/100\n",
            "15462/15462 [==============================] - 12s 790us/sample - loss: 0.9362 - accuracy: 0.8229\n",
            "Epoch 77/100\n",
            "15462/15462 [==============================] - 12s 790us/sample - loss: 0.9203 - accuracy: 0.8278\n",
            "Epoch 78/100\n",
            "15462/15462 [==============================] - 12s 790us/sample - loss: 0.9169 - accuracy: 0.8272\n",
            "Epoch 79/100\n",
            "15462/15462 [==============================] - 12s 789us/sample - loss: 0.8994 - accuracy: 0.8296\n",
            "Epoch 80/100\n",
            "15462/15462 [==============================] - 12s 791us/sample - loss: 0.8994 - accuracy: 0.8290\n",
            "Epoch 81/100\n",
            "15462/15462 [==============================] - 12s 789us/sample - loss: 0.9059 - accuracy: 0.8244\n",
            "Epoch 82/100\n",
            "15462/15462 [==============================] - 12s 787us/sample - loss: 0.8950 - accuracy: 0.8285\n",
            "Epoch 83/100\n",
            "15462/15462 [==============================] - 12s 786us/sample - loss: 0.8875 - accuracy: 0.8287\n",
            "Epoch 84/100\n",
            "15462/15462 [==============================] - 12s 789us/sample - loss: 0.8833 - accuracy: 0.8282\n",
            "Epoch 85/100\n",
            "15462/15462 [==============================] - 12s 788us/sample - loss: 0.8697 - accuracy: 0.8329\n",
            "Epoch 86/100\n",
            "15462/15462 [==============================] - 12s 785us/sample - loss: 0.8556 - accuracy: 0.8336\n",
            "Epoch 87/100\n",
            "15462/15462 [==============================] - 12s 785us/sample - loss: 0.8601 - accuracy: 0.8326\n",
            "Epoch 88/100\n",
            "15462/15462 [==============================] - 12s 791us/sample - loss: 0.8501 - accuracy: 0.8325\n",
            "Epoch 89/100\n",
            "15462/15462 [==============================] - 12s 805us/sample - loss: 0.8443 - accuracy: 0.8352\n",
            "Epoch 90/100\n",
            "15462/15462 [==============================] - 12s 785us/sample - loss: 0.8451 - accuracy: 0.8326\n",
            "Epoch 91/100\n",
            "15462/15462 [==============================] - 12s 783us/sample - loss: 0.8561 - accuracy: 0.8282\n",
            "Epoch 92/100\n",
            "15462/15462 [==============================] - 12s 783us/sample - loss: 0.8320 - accuracy: 0.8338\n",
            "Epoch 93/100\n",
            "15462/15462 [==============================] - 12s 786us/sample - loss: 0.8229 - accuracy: 0.8351\n",
            "Epoch 94/100\n",
            "15462/15462 [==============================] - 12s 784us/sample - loss: 0.8278 - accuracy: 0.8337\n",
            "Epoch 95/100\n",
            "15462/15462 [==============================] - 12s 787us/sample - loss: 0.8249 - accuracy: 0.8337\n",
            "Epoch 96/100\n",
            "15462/15462 [==============================] - 12s 785us/sample - loss: 0.8251 - accuracy: 0.8329\n",
            "Epoch 97/100\n",
            "15462/15462 [==============================] - 12s 788us/sample - loss: 0.8143 - accuracy: 0.8365\n",
            "Epoch 98/100\n",
            "15462/15462 [==============================] - 13s 817us/sample - loss: 0.8046 - accuracy: 0.8373\n",
            "Epoch 99/100\n",
            "15462/15462 [==============================] - 13s 815us/sample - loss: 0.8000 - accuracy: 0.8386\n",
            "Epoch 100/100\n",
            "15462/15462 [==============================] - 12s 792us/sample - loss: 0.7947 - accuracy: 0.8369\n"
          ],
          "name": "stdout"
        }
      ]
    },
    {
      "cell_type": "code",
      "metadata": {
        "id": "YI9-_kYqZexx",
        "colab_type": "code",
        "colab": {
          "base_uri": "https://localhost:8080/",
          "height": 35
        },
        "outputId": "ad59f7bd-79c2-4682-e2d1-af146cf2f13b"
      },
      "source": [
        "history.history.keys()"
      ],
      "execution_count": 33,
      "outputs": [
        {
          "output_type": "execute_result",
          "data": {
            "text/plain": [
              "dict_keys(['loss', 'accuracy'])"
            ]
          },
          "metadata": {
            "tags": []
          },
          "execution_count": 33
        }
      ]
    },
    {
      "cell_type": "code",
      "metadata": {
        "id": "1fXTEO3GJ282",
        "colab_type": "code",
        "colab": {}
      },
      "source": [
        "def plot_graphs(history, string):\n",
        "  plt.plot(history.history[string])\n",
        "  #plt.plot(history.history['val_'+string])\n",
        "  plt.xlabel(\"Epochs\")\n",
        "  plt.ylabel(string)\n",
        "  plt.legend([string, 'val_'+string])\n",
        "  plt.show()"
      ],
      "execution_count": 0,
      "outputs": []
    },
    {
      "cell_type": "code",
      "metadata": {
        "id": "yIAg4X9qW6DT",
        "colab_type": "code",
        "colab": {
          "base_uri": "https://localhost:8080/",
          "height": 541
        },
        "outputId": "827b245b-d0e9-4f31-f55f-771e36a88aa8"
      },
      "source": [
        "plot_graphs(history, 'accuracy')\n",
        "plot_graphs(history, 'loss')"
      ],
      "execution_count": 35,
      "outputs": [
        {
          "output_type": "display_data",
          "data": {
            "image/png": "[encoded data removed]",
            "text/plain": [
              "<Figure size 432x288 with 1 Axes>"
            ]
          },
          "metadata": {
            "tags": []
          }
        },
        {
          "output_type": "display_data",
          "data": {
            "image/png": "[encoded data removed]",
            "text/plain": [
              "<Figure size 432x288 with 1 Axes>"
            ]
          },
          "metadata": {
            "tags": []
          }
        }
      ]
    },
    {
      "cell_type": "code",
      "metadata": {
        "id": "6Vc6PHgxa6Hm",
        "colab_type": "code",
        "colab": {
          "base_uri": "https://localhost:8080/",
          "height": 55
        },
        "outputId": "d95900a3-c0c8-40bf-b6fc-cf3469622348"
      },
      "source": [
        "seed_text = \"Help me Obi Wan Kenobi, you're my only hope\"\n",
        "next_words = 100\n",
        "  \n",
        "for _ in range(next_words):\n",
        "\ttoken_list = tokenizer.texts_to_sequences([seed_text])[0]\n",
        "\ttoken_list = pad_sequences([token_list], maxlen=max_sequence_len-1, padding='pre')\n",
        "\tpredicted = model.predict_classes(token_list, verbose=0)\n",
        "\toutput_word = \"\"\n",
        "\tfor word, index in tokenizer.word_index.items():\n",
        "\t\tif index == predicted:\n",
        "\t\t\toutput_word = word\n",
        "\t\t\tbreak\n",
        "\tseed_text += \" \" + output_word\n",
        "print(seed_text)"
      ],
      "execution_count": 36,
      "outputs": [
        {
          "output_type": "stream",
          "text": [
            "Help me Obi Wan Kenobi, you're my only hope their treasure knit cross cross seen night arising lie to be near store it sit bristly near near make be ' more ill was more made to wilt mine eyes best none see thee not of it old bold seen green thee told so true ' will know me hate thee so bold not green thee not told not so word me thee in thee not so bold behold thee not not not not so ill so bold not said not praise not not thy praise alone left thy time is true ' are ' had seen heart are bevel\n"
          ],
          "name": "stdout"
        }
      ]
    }
  ]
}
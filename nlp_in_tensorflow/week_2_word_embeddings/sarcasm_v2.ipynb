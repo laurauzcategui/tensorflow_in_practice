{
 "cells": [
  {
   "cell_type": "code",
   "execution_count": 1,
   "metadata": {},
   "outputs": [],
   "source": [
    "from tensorflow.compat.v1 import ConfigProto\n",
    "from tensorflow.compat.v1 import InteractiveSession\n",
    "\n",
    "config = ConfigProto()\n",
    "config.gpu_options.allow_growth = True\n",
    "session = InteractiveSession(config=config)"
   ]
  },
  {
   "cell_type": "code",
   "execution_count": 1,
   "metadata": {
    "colab": {},
    "colab_type": "code",
    "id": "XYYDvoskkE61"
   },
   "outputs": [],
   "source": [
    "import json\n",
    "import os\n",
    "import io\n",
    "import numpy as np\n",
    "import matplotlib.pyplot as plt\n",
    "\n",
    "import tensorflow as tf\n",
    "\n",
    "from tensorflow.keras.preprocessing.text import Tokenizer\n",
    "from tensorflow.keras.preprocessing.sequence import pad_sequences"
   ]
  },
  {
   "cell_type": "code",
   "execution_count": 2,
   "metadata": {
    "colab": {},
    "colab_type": "code",
    "id": "0eJSTTYnkJQd"
   },
   "outputs": [],
   "source": [
    "DATASET_FOLDER = \"./datasets\"\n",
    "DATASET_NAME = \"sarcasm.json\"\n",
    "DATASET_URL  = \"https://storage.googleapis.com/laurencemoroney-blog.appspot.com/sarcasm.json\""
   ]
  },
  {
   "cell_type": "code",
   "execution_count": 3,
   "metadata": {},
   "outputs": [
    {
     "name": "stdout",
     "output_type": "stream",
     "text": [
      "mkdir: cannot create directory ‘datasets’: File exists\r\n"
     ]
    }
   ],
   "source": [
    "!mkdir datasets"
   ]
  },
  {
   "cell_type": "code",
   "execution_count": 4,
   "metadata": {
    "colab": {},
    "colab_type": "code",
    "id": "BQVuQrZNkPn9"
   },
   "outputs": [
    {
     "name": "stdout",
     "output_type": "stream",
     "text": [
      "--2019-11-30 22:58:25--  https://storage.googleapis.com/laurencemoroney-blog.appspot.com/sarcasm.json\n",
      "Resolving storage.googleapis.com (storage.googleapis.com)... 74.125.193.128, 2a00:1450:400b:c01::80\n",
      "Connecting to storage.googleapis.com (storage.googleapis.com)|74.125.193.128|:443... connected.\n",
      "HTTP request sent, awaiting response... 200 OK\n",
      "Length: 5643545 (5.4M) [application/json]\n",
      "Saving to: ‘./datasets/sarcasm.json’\n",
      "\n",
      "./datasets/sarcasm. 100%[===================>]   5.38M  17.4MB/s    in 0.3s    \n",
      "\n",
      "2019-11-30 22:58:26 (17.4 MB/s) - ‘./datasets/sarcasm.json’ saved [5643545/5643545]\n",
      "\n"
     ]
    }
   ],
   "source": [
    "!wget --no-check-certificate $DATASET_URL -O $DATASET_FOLDER/$DATASET_NAME"
   ]
  },
  {
   "cell_type": "code",
   "execution_count": 5,
   "metadata": {
    "colab": {},
    "colab_type": "code",
    "id": "oaLaaqhNkUPd"
   },
   "outputs": [],
   "source": [
    "# Read the dataset\n",
    "fullpath = os.path.join(DATASET_FOLDER, DATASET_NAME)\n",
    "with open(fullpath, 'r') as f:\n",
    "    datastore = json.load(f)"
   ]
  },
  {
   "cell_type": "code",
   "execution_count": 6,
   "metadata": {},
   "outputs": [],
   "source": [
    "# Store the sentences and the labels\n",
    "sentences = []\n",
    "labels = []\n",
    "\n",
    "for item in datastore:\n",
    "    sentences.append(item['headline'])\n",
    "    labels.append(item['is_sarcastic'])"
   ]
  },
  {
   "cell_type": "code",
   "execution_count": 8,
   "metadata": {},
   "outputs": [],
   "source": [
    "vocab_size = 1000\n",
    "embedding_dim = 32\n",
    "max_length = 16\n",
    "trunc_type='post'\n",
    "padding_type='post'\n",
    "oov_tok = \"<OOV>\"\n",
    "training_size = 20000"
   ]
  },
  {
   "cell_type": "code",
   "execution_count": 9,
   "metadata": {
    "colab": {},
    "colab_type": "code",
    "id": "S1sD-7v0kYWk"
   },
   "outputs": [],
   "source": [
    "# Split the data in two :) \n",
    "training_sentences = sentences[0:training_size]\n",
    "testing_sentences = sentences[training_size:]\n",
    "training_labels = np.array(labels[0:training_size])\n",
    "testing_labels = np.array(labels[training_size:])"
   ]
  },
  {
   "cell_type": "code",
   "execution_count": 10,
   "metadata": {
    "colab": {},
    "colab_type": "code",
    "id": "3u8UB0MCkZ5N"
   },
   "outputs": [],
   "source": [
    "# Create the tokenizer \n",
    "tokenizer = Tokenizer(num_words=vocab_size, oov_token=oov_tok)\n",
    "\n",
    "# Encode the sentences\n",
    "tokenizer.fit_on_texts(training_sentences)\n",
    "\n",
    "# get the word index \n",
    "word_index = tokenizer.word_index\n",
    "\n",
    "# Generate the sequences for training \n",
    "training_sequences = tokenizer.texts_to_sequences(training_sentences)\n",
    "\n",
    "# Generate the pad for the sequences\n",
    "training_padded = pad_sequences(training_sequences, maxlen=max_length, \n",
    "                                padding=padding_type, truncating=trunc_type)\n",
    "\n",
    "# Generate the sequences for testing\n",
    "testing_sequences = tokenizer.texts_to_sequences(testing_sentences)\n",
    "\n",
    "# Generate the pad for the sequences\n",
    "testing_padded = pad_sequences(testing_sequences, maxlen=max_length, \n",
    "                               padding=padding_type, truncating=trunc_type)"
   ]
  },
  {
   "cell_type": "code",
   "execution_count": 37,
   "metadata": {},
   "outputs": [],
   "source": [
    "# Reverse the index as the key is the word and the value is the number\n",
    "# We want it as: number: word\n",
    "reverse_word_index = dict([(value, key) for (key, value) in word_index.items()])"
   ]
  },
  {
   "cell_type": "code",
   "execution_count": 38,
   "metadata": {
    "colab": {},
    "colab_type": "code",
    "id": "FufaT4vlkiDE"
   },
   "outputs": [],
   "source": [
    "# Create the model \n",
    "model = tf.keras.Sequential([\n",
    "    tf.keras.layers.Embedding(vocab_size, embedding_dim, input_length=max_length),\n",
    "    tf.keras.layers.GlobalAveragePooling1D(),\n",
    "    tf.keras.layers.Dense(24, activation='relu'),\n",
    "    tf.keras.layers.Dense(1, activation='sigmoid')\n",
    "])"
   ]
  },
  {
   "cell_type": "code",
   "execution_count": 39,
   "metadata": {},
   "outputs": [],
   "source": [
    "# Configure the model \n",
    "model.compile(loss='binary_crossentropy',optimizer='adam',metrics=['acc'])"
   ]
  },
  {
   "cell_type": "code",
   "execution_count": 40,
   "metadata": {
    "colab": {},
    "colab_type": "code",
    "id": "XfDt1hmYkiys"
   },
   "outputs": [
    {
     "name": "stdout",
     "output_type": "stream",
     "text": [
      "Model: \"sequential_2\"\n",
      "_________________________________________________________________\n",
      "Layer (type)                 Output Shape              Param #   \n",
      "=================================================================\n",
      "embedding_2 (Embedding)      (None, 16, 32)            32000     \n",
      "_________________________________________________________________\n",
      "global_average_pooling1d_2 ( (None, 32)                0         \n",
      "_________________________________________________________________\n",
      "dense_4 (Dense)              (None, 24)                792       \n",
      "_________________________________________________________________\n",
      "dense_5 (Dense)              (None, 1)                 25        \n",
      "=================================================================\n",
      "Total params: 32,817\n",
      "Trainable params: 32,817\n",
      "Non-trainable params: 0\n",
      "_________________________________________________________________\n"
     ]
    }
   ],
   "source": [
    "# Print the summary \n",
    "model.summary()"
   ]
  },
  {
   "cell_type": "code",
   "execution_count": 41,
   "metadata": {},
   "outputs": [
    {
     "name": "stdout",
     "output_type": "stream",
     "text": [
      "(20000, 16)\n",
      "20000\n",
      "(6709, 16)\n",
      "6709\n"
     ]
    }
   ],
   "source": [
    "print(training_padded.shape)\n",
    "print(len(training_labels))\n",
    "print(testing_padded.shape)\n",
    "print(len(testing_labels))"
   ]
  },
  {
   "cell_type": "code",
   "execution_count": 43,
   "metadata": {
    "colab": {},
    "colab_type": "code",
    "id": "2DTKQFf1kkyc"
   },
   "outputs": [
    {
     "name": "stdout",
     "output_type": "stream",
     "text": [
      "Train on 20000 samples, validate on 6709 samples\n",
      "Epoch 1/30\n",
      "20000/20000 - 2s - loss: 0.4972 - acc: 0.7556 - val_loss: 0.4049 - val_acc: 0.8091\n",
      "Epoch 2/30\n",
      "20000/20000 - 1s - loss: 0.3756 - acc: 0.8263 - val_loss: 0.3976 - val_acc: 0.8167\n",
      "Epoch 3/30\n",
      "20000/20000 - 2s - loss: 0.3628 - acc: 0.8345 - val_loss: 0.4002 - val_acc: 0.8116\n",
      "Epoch 4/30\n",
      "20000/20000 - 1s - loss: 0.3579 - acc: 0.8347 - val_loss: 0.4036 - val_acc: 0.8117\n",
      "Epoch 5/30\n",
      "20000/20000 - 1s - loss: 0.3567 - acc: 0.8371 - val_loss: 0.4069 - val_acc: 0.8077\n",
      "Epoch 6/30\n",
      "20000/20000 - 1s - loss: 0.3537 - acc: 0.8386 - val_loss: 0.4049 - val_acc: 0.8147\n",
      "Epoch 7/30\n",
      "20000/20000 - 2s - loss: 0.3521 - acc: 0.8388 - val_loss: 0.4116 - val_acc: 0.8135\n",
      "Epoch 8/30\n",
      "20000/20000 - 2s - loss: 0.3507 - acc: 0.8388 - val_loss: 0.4125 - val_acc: 0.8043\n",
      "Epoch 9/30\n",
      "20000/20000 - 1s - loss: 0.3502 - acc: 0.8382 - val_loss: 0.4056 - val_acc: 0.8106\n",
      "Epoch 10/30\n",
      "20000/20000 - 2s - loss: 0.3467 - acc: 0.8415 - val_loss: 0.4108 - val_acc: 0.8061\n",
      "Epoch 11/30\n",
      "20000/20000 - 1s - loss: 0.3430 - acc: 0.8446 - val_loss: 0.3993 - val_acc: 0.8171\n",
      "Epoch 12/30\n",
      "20000/20000 - 2s - loss: 0.3391 - acc: 0.8469 - val_loss: 0.3980 - val_acc: 0.8179\n",
      "Epoch 13/30\n",
      "20000/20000 - 2s - loss: 0.3366 - acc: 0.8475 - val_loss: 0.3976 - val_acc: 0.8204\n",
      "Epoch 14/30\n",
      "20000/20000 - 2s - loss: 0.3339 - acc: 0.8491 - val_loss: 0.3971 - val_acc: 0.8210\n",
      "Epoch 15/30\n",
      "20000/20000 - 1s - loss: 0.3315 - acc: 0.8511 - val_loss: 0.3950 - val_acc: 0.8207\n",
      "Epoch 16/30\n",
      "20000/20000 - 2s - loss: 0.3278 - acc: 0.8518 - val_loss: 0.3955 - val_acc: 0.8208\n",
      "Epoch 17/30\n",
      "20000/20000 - 2s - loss: 0.3251 - acc: 0.8548 - val_loss: 0.3967 - val_acc: 0.8201\n",
      "Epoch 18/30\n",
      "20000/20000 - 1s - loss: 0.3229 - acc: 0.8552 - val_loss: 0.4002 - val_acc: 0.8204\n",
      "Epoch 19/30\n",
      "20000/20000 - 2s - loss: 0.3199 - acc: 0.8582 - val_loss: 0.4019 - val_acc: 0.8196\n",
      "Epoch 20/30\n",
      "20000/20000 - 2s - loss: 0.3189 - acc: 0.8584 - val_loss: 0.4000 - val_acc: 0.8201\n",
      "Epoch 21/30\n",
      "20000/20000 - 2s - loss: 0.3160 - acc: 0.8593 - val_loss: 0.4099 - val_acc: 0.8104\n",
      "Epoch 22/30\n",
      "20000/20000 - 1s - loss: 0.3139 - acc: 0.8605 - val_loss: 0.3994 - val_acc: 0.8207\n",
      "Epoch 23/30\n",
      "20000/20000 - 1s - loss: 0.3117 - acc: 0.8626 - val_loss: 0.4159 - val_acc: 0.8125\n",
      "Epoch 24/30\n",
      "20000/20000 - 1s - loss: 0.3093 - acc: 0.8639 - val_loss: 0.4038 - val_acc: 0.8177\n",
      "Epoch 25/30\n",
      "20000/20000 - 1s - loss: 0.3074 - acc: 0.8632 - val_loss: 0.4036 - val_acc: 0.8183\n",
      "Epoch 26/30\n",
      "20000/20000 - 1s - loss: 0.3053 - acc: 0.8634 - val_loss: 0.4080 - val_acc: 0.8161\n",
      "Epoch 27/30\n",
      "20000/20000 - 1s - loss: 0.3034 - acc: 0.8670 - val_loss: 0.4080 - val_acc: 0.8137\n",
      "Epoch 28/30\n",
      "20000/20000 - 1s - loss: 0.3012 - acc: 0.8678 - val_loss: 0.4120 - val_acc: 0.8158\n",
      "Epoch 29/30\n",
      "20000/20000 - 1s - loss: 0.2984 - acc: 0.8691 - val_loss: 0.4137 - val_acc: 0.8147\n",
      "Epoch 30/30\n",
      "20000/20000 - 1s - loss: 0.2960 - acc: 0.8701 - val_loss: 0.4145 - val_acc: 0.8161\n"
     ]
    }
   ],
   "source": [
    "# Train the model with 30 epochs \n",
    "num_epochs = 30\n",
    "\n",
    "history = model.fit(training_padded, \n",
    "                    training_labels, \n",
    "                    epochs=num_epochs, \n",
    "                    validation_data=(testing_padded, testing_labels), \n",
    "                    verbose=2)"
   ]
  },
  {
   "cell_type": "code",
   "execution_count": 47,
   "metadata": {
    "colab": {},
    "colab_type": "code",
    "id": "2HYfBKXjkmU8"
   },
   "outputs": [],
   "source": [
    "def plot_graphs(history, string):\n",
    "  plt.plot(history.history[string])\n",
    "  plt.plot(history.history['val_'+string])\n",
    "  plt.xlabel(\"Epochs\")\n",
    "  plt.ylabel(string)\n",
    "  plt.legend([string, 'val_'+string])\n",
    "  plt.show()"
   ]
  },
  {
   "cell_type": "code",
   "execution_count": 49,
   "metadata": {},
   "outputs": [
    {
     "data": {
      "image/png": "[encoded data removed]",
      "text/plain": [
       "<Figure size 432x288 with 1 Axes>"
      ]
     },
     "metadata": {
      "needs_background": "light"
     },
     "output_type": "display_data"
    },
    {
     "data": {
      "image/png": "[encoded data removed]",
      "text/plain": [
       "<Figure size 432x288 with 1 Axes>"
      ]
     },
     "metadata": {
      "needs_background": "light"
     },
     "output_type": "display_data"
    }
   ],
   "source": [
    "plot_graphs(history, \"acc\")\n",
    "plot_graphs(history, \"loss\")"
   ]
  },
  {
   "cell_type": "code",
   "execution_count": 50,
   "metadata": {
    "colab": {},
    "colab_type": "code",
    "id": "7SBdAZAenvzL"
   },
   "outputs": [
    {
     "name": "stdout",
     "output_type": "stream",
     "text": [
      "former <OOV> store <OOV> <OOV> over secret <OOV> <OOV> for <OOV> <OOV> ? ? ? ?\n",
      "mom starting to fear son's web series closest thing she will have to grandchild\n",
      "1\n"
     ]
    }
   ],
   "source": [
    "reverse_word_index = dict([(value, key) for (key, value) in word_index.items()])\n",
    "\n",
    "def decode_sentence(text):\n",
    "    return ' '.join([reverse_word_index.get(i, '?') for i in text])\n",
    "\n",
    "print(decode_sentence(training_padded[0]))\n",
    "print(training_sentences[2])\n",
    "print(labels[2])"
   ]
  },
  {
   "cell_type": "code",
   "execution_count": 51,
   "metadata": {
    "colab": {},
    "colab_type": "code",
    "id": "c9MqihtEkzQ9"
   },
   "outputs": [
    {
     "name": "stdout",
     "output_type": "stream",
     "text": [
      "(1000, 32)\n"
     ]
    }
   ],
   "source": [
    "e = model.layers[0]\n",
    "weights = e.get_weights()[0]\n",
    "print(weights.shape) # shape: (vocab_size, embedding_dim)\n"
   ]
  },
  {
   "cell_type": "code",
   "execution_count": 55,
   "metadata": {
    "colab": {},
    "colab_type": "code",
    "id": "LoBXVffknldU"
   },
   "outputs": [],
   "source": [
    "out_v = io.open('vecs_sarcasm.tsv', 'w', encoding='utf-8')\n",
    "out_m = io.open('meta_sarcasm.tsv', 'w', encoding='utf-8')\n",
    "for word_num in range(1, vocab_size):\n",
    "  word = reverse_word_index[word_num]\n",
    "  embeddings = weights[word_num]\n",
    "  out_m.write(word + \"\\n\")\n",
    "  out_v.write('\\t'.join([str(x) for x in embeddings]) + \"\\n\")\n",
    "out_v.close()\n",
    "out_m.close()"
   ]
  },
  {
   "cell_type": "code",
   "execution_count": 56,
   "metadata": {
    "colab": {},
    "colab_type": "code",
    "id": "U4eZ5HtVnnEE"
   },
   "outputs": [],
   "source": [
    "try:\n",
    "  from google.colab import files\n",
    "except ImportError:\n",
    "  pass\n",
    "else:\n",
    "  files.download('vecs_sarcasm.tsv')\n",
    "  files.download('meta_sarcasm.tsv')"
   ]
  },
  {
   "cell_type": "code",
   "execution_count": 57,
   "metadata": {
    "colab": {},
    "colab_type": "code",
    "id": "cG8-ArY-qDcz"
   },
   "outputs": [
    {
     "name": "stdout",
     "output_type": "stream",
     "text": [
      "[[0.65753436]\n",
      " [0.5363251 ]]\n"
     ]
    }
   ],
   "source": [
    "sentence = [\"granny starting to fear spiders in the garden might be real\", \"game of thrones season finale showing this sunday night\"]\n",
    "sequences = tokenizer.texts_to_sequences(sentence)\n",
    "padded = pad_sequences(sequences, maxlen=max_length, padding=padding_type, truncating=trunc_type)\n",
    "print(model.predict(padded))"
   ]
  },
  {
   "cell_type": "code",
   "execution_count": null,
   "metadata": {},
   "outputs": [],
   "source": []
  }
 ],
 "metadata": {
  "accelerator": "GPU",
  "colab": {
   "collapsed_sections": [],
   "name": "Course 3 - Week 2 - Lesson 2.ipynb",
   "provenance": [],
   "version": "0.3.2"
  },
  "kernelspec": {
   "display_name": "Python 3",
   "language": "python",
   "name": "python3"
  },
  "language_info": {
   "codemirror_mode": {
    "name": "ipython",
    "version": 3
   },
   "file_extension": ".py",
   "mimetype": "text/x-python",
   "name": "python",
   "nbconvert_exporter": "python",
   "pygments_lexer": "ipython3",
   "version": "3.6.8"
  }
 },
 "nbformat": 4,
 "nbformat_minor": 1
}

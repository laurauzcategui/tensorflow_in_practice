{
 "cells": [
  {
   "cell_type": "code",
   "execution_count": 32,
   "metadata": {},
   "outputs": [
    {
     "name": "stderr",
     "output_type": "stream",
     "text": [
      "/usr/local/lib/python3.6/dist-packages/tensorflow_core/python/client/session.py:1750: UserWarning: An interactive session is already active. This can cause out-of-memory errors in some cases. You must explicitly call `InteractiveSession.close()` to release resources held by the other session(s).\n",
      "  warnings.warn('An interactive session is already active. This can '\n"
     ]
    }
   ],
   "source": [
    "from tensorflow.compat.v1 import ConfigProto\n",
    "from tensorflow.compat.v1 import InteractiveSession\n",
    "\n",
    "config = ConfigProto()\n",
    "config.gpu_options.allow_growth = True\n",
    "session = InteractiveSession(config=config)"
   ]
  },
  {
   "cell_type": "code",
   "execution_count": 63,
   "metadata": {
    "colab": {
     "base_uri": "https://localhost:8080/",
     "height": 35
    },
    "colab_type": "code",
    "id": "fKelEqU5rvc5",
    "outputId": "587bff08-8aab-4a32-f9db-bc2debbb55f4"
   },
   "outputs": [],
   "source": [
    "# Let's install tensorflow 2.x first :)\n",
    "try:\n",
    "  # %tensorflow_version only exists in Colab.\n",
    "  %tensorflow_version 2.x\n",
    "except Exception:\n",
    "  pass"
   ]
  },
  {
   "cell_type": "code",
   "execution_count": 114,
   "metadata": {
    "colab": {},
    "colab_type": "code",
    "id": "gnwiOnGyW5JK"
   },
   "outputs": [],
   "source": [
    "import csv\n",
    "import os\n",
    "import io\n",
    "import tensorflow as tf\n",
    "import numpy as np\n",
    "import pandas as pd\n",
    "import matplotlib.pyplot as plt\n",
    "\n",
    "from tensorflow.keras.preprocessing.text import Tokenizer\n",
    "from tensorflow.keras.preprocessing.sequence import pad_sequences"
   ]
  },
  {
   "cell_type": "code",
   "execution_count": 115,
   "metadata": {
    "colab": {},
    "colab_type": "code",
    "id": "ILUWay-to9l1"
   },
   "outputs": [],
   "source": [
    "try:\n",
    "  from google.colab import files\n",
    "  BASE_PATH = \"/content\"\n",
    "except Exception:\n",
    "  BASE_PATH = \"/home/$(whoami)/data/\""
   ]
  },
  {
   "cell_type": "code",
   "execution_count": 116,
   "metadata": {
    "colab": {},
    "colab_type": "code",
    "id": "Gg3fcUUOlbru"
   },
   "outputs": [],
   "source": [
    "DATASET_NAME = \"bbc-text.csv\"\n",
    "DATASET_URL = \"https://storage.googleapis.com/laurencemoroney-blog.appspot.com\"\n",
    "DATASET_STORE = \"./datasets\""
   ]
  },
  {
   "cell_type": "code",
   "execution_count": 117,
   "metadata": {
    "colab": {
     "base_uri": "https://localhost:8080/",
     "height": 35
    },
    "colab_type": "code",
    "id": "s8zbvL8no1a6",
    "outputId": "251af0e0-3ec5-4080-e256-d1ad479830cc"
   },
   "outputs": [
    {
     "name": "stdout",
     "output_type": "stream",
     "text": [
      "mkdir: cannot create directory ‘./datasets’: File exists\r\n"
     ]
    }
   ],
   "source": [
    "!mkdir $DATASET_STORE"
   ]
  },
  {
   "cell_type": "code",
   "execution_count": 118,
   "metadata": {
    "colab": {
     "base_uri": "https://localhost:8080/",
     "height": 35
    },
    "colab_type": "code",
    "id": "4Y550fmsqQkC",
    "outputId": "c29214f5-cbb3-4ebe-fcf4-2c1d24e9ed08"
   },
   "outputs": [
    {
     "name": "stdout",
     "output_type": "stream",
     "text": [
      "README.md    certificates\tintro_to_tensorflow  rps-test-set.zip  scripts\r\n",
      "cats-v-dogs  cnn_in_tensorflow\tnlp_in_tensorflow    rps.zip\t       tmp\r\n"
     ]
    }
   ],
   "source": [
    "!ls $BASE_PATH"
   ]
  },
  {
   "cell_type": "code",
   "execution_count": 119,
   "metadata": {
    "colab": {
     "base_uri": "https://localhost:8080/",
     "height": 208
    },
    "colab_type": "code",
    "id": "UK9oepB-nfpa",
    "outputId": "2d26e676-1263-4a77-fb20-1b794d5599d7"
   },
   "outputs": [
    {
     "name": "stdout",
     "output_type": "stream",
     "text": [
      "--2019-11-30 23:02:45--  https://storage.googleapis.com/laurencemoroney-blog.appspot.com/bbc-text.csv\n",
      "Resolving storage.googleapis.com (storage.googleapis.com)... 74.125.193.128, 2a00:1450:400b:c01::80\n",
      "Connecting to storage.googleapis.com (storage.googleapis.com)|74.125.193.128|:443... connected.\n",
      "HTTP request sent, awaiting response... 200 OK\n",
      "Length: 5057493 (4.8M) [application/octet-stream]\n",
      "Saving to: ‘./datasets/bbc-text.csv’\n",
      "\n",
      "./datasets/bbc-text 100%[===================>]   4.82M  18.7MB/s    in 0.3s    \n",
      "\n",
      "2019-11-30 23:02:46 (18.7 MB/s) - ‘./datasets/bbc-text.csv’ saved [5057493/5057493]\n",
      "\n"
     ]
    }
   ],
   "source": [
    "!wget --no-check-certificate $DATASET_URL/$DATASET_NAME -O $DATASET_STORE/$DATASET_NAME"
   ]
  },
  {
   "cell_type": "code",
   "execution_count": 120,
   "metadata": {
    "colab": {
     "base_uri": "https://localhost:8080/",
     "height": 35
    },
    "colab_type": "code",
    "id": "iU1qq3_SZBx_",
    "outputId": "bcc2e3cb-e013-4066-ee8d-2db73c7e1936"
   },
   "outputs": [
    {
     "name": "stdout",
     "output_type": "stream",
     "text": [
      "153\n"
     ]
    }
   ],
   "source": [
    "sentences = []\n",
    "labels = []\n",
    "# Stopwords list from https://github.com/Yoast/YoastSEO.js/blob/develop/src/config/stopwords.js\n",
    "stopwords = [ \"a\", \"about\", \"above\", \"after\", \"again\", \"against\", \"all\", \"am\", \"an\", \"and\", \"any\", \n",
    "             \"are\", \"as\", \"at\", \"be\", \"because\", \"been\", \"before\", \"being\", \"below\", \"between\", \n",
    "             \"both\", \"but\", \"by\", \"could\", \"did\", \"do\", \"does\", \"doing\", \"down\", \"during\", \"each\", \n",
    "             \"few\", \"for\", \"from\", \"further\", \"had\", \"has\", \"have\", \"having\", \"he\", \"he'd\", \n",
    "             \"he'll\", \"he's\", \"her\", \"here\", \"here's\", \"hers\", \"herself\", \"him\", \"himself\", \n",
    "             \"his\", \"how\", \"how's\", \"i\", \"i'd\", \"i'll\", \"i'm\", \"i've\", \"if\", \"in\", \"into\", \n",
    "             \"is\", \"it\", \"it's\", \"its\", \"itself\", \"let's\", \"me\", \"more\", \"most\", \"my\", \"myself\", \n",
    "             \"nor\", \"of\", \"on\", \"once\", \"only\", \"or\", \"other\", \"ought\", \"our\", \"ours\", \"ourselves\", \n",
    "             \"out\", \"over\", \"own\", \"same\", \"she\", \"she'd\", \"she'll\", \"she's\", \"should\", \"so\", \"some\", \n",
    "             \"such\", \"than\", \"that\", \"that's\", \"the\", \"their\", \"theirs\", \"them\", \"themselves\", \"then\", \n",
    "             \"there\", \"there's\", \"these\", \"they\", \"they'd\", \"they'll\", \"they're\", \"they've\", \"this\", \"those\", \n",
    "             \"through\", \"to\", \"too\", \"under\", \"until\", \"up\", \"very\", \"was\", \"we\", \"we'd\", \"we'll\", \"we're\", \n",
    "             \"we've\", \"were\", \"what\", \"what's\", \"when\", \"when's\", \"where\", \"where's\", \"which\", \"while\", \"who\", \n",
    "             \"who's\", \"whom\", \"why\", \"why's\", \"with\", \"would\", \"you\", \"you'd\", \"you'll\", \"you're\", \"you've\", \n",
    "             \"your\", \"yours\", \"yourself\", \"yourselves\" ]\n",
    "\n",
    "print(len(stopwords))\n",
    "# Expected Output\n",
    "# 153"
   ]
  },
  {
   "cell_type": "code",
   "execution_count": 121,
   "metadata": {
    "colab": {
     "base_uri": "https://localhost:8080/",
     "height": 202
    },
    "colab_type": "code",
    "id": "eutB2xMiZD0e",
    "outputId": "96601cc0-fa72-4b31-8e5e-efc461aeaa71"
   },
   "outputs": [
    {
     "data": {
      "text/html": [
       "<div>\n",
       "<style scoped>\n",
       "    .dataframe tbody tr th:only-of-type {\n",
       "        vertical-align: middle;\n",
       "    }\n",
       "\n",
       "    .dataframe tbody tr th {\n",
       "        vertical-align: top;\n",
       "    }\n",
       "\n",
       "    .dataframe thead th {\n",
       "        text-align: right;\n",
       "    }\n",
       "</style>\n",
       "<table border=\"1\" class=\"dataframe\">\n",
       "  <thead>\n",
       "    <tr style=\"text-align: right;\">\n",
       "      <th></th>\n",
       "      <th>category</th>\n",
       "      <th>text</th>\n",
       "    </tr>\n",
       "  </thead>\n",
       "  <tbody>\n",
       "    <tr>\n",
       "      <th>0</th>\n",
       "      <td>tech</td>\n",
       "      <td>tv future in the hands of viewers with home th...</td>\n",
       "    </tr>\n",
       "    <tr>\n",
       "      <th>1</th>\n",
       "      <td>business</td>\n",
       "      <td>worldcom boss  left books alone  former worldc...</td>\n",
       "    </tr>\n",
       "    <tr>\n",
       "      <th>2</th>\n",
       "      <td>sport</td>\n",
       "      <td>tigers wary of farrell  gamble  leicester say ...</td>\n",
       "    </tr>\n",
       "    <tr>\n",
       "      <th>3</th>\n",
       "      <td>sport</td>\n",
       "      <td>yeading face newcastle in fa cup premiership s...</td>\n",
       "    </tr>\n",
       "    <tr>\n",
       "      <th>4</th>\n",
       "      <td>entertainment</td>\n",
       "      <td>ocean s twelve raids box office ocean s twelve...</td>\n",
       "    </tr>\n",
       "  </tbody>\n",
       "</table>\n",
       "</div>"
      ],
      "text/plain": [
       "        category                                               text\n",
       "0           tech  tv future in the hands of viewers with home th...\n",
       "1       business  worldcom boss  left books alone  former worldc...\n",
       "2          sport  tigers wary of farrell  gamble  leicester say ...\n",
       "3          sport  yeading face newcastle in fa cup premiership s...\n",
       "4  entertainment  ocean s twelve raids box office ocean s twelve..."
      ]
     },
     "execution_count": 121,
     "metadata": {},
     "output_type": "execute_result"
    }
   ],
   "source": [
    "stored_file = os.path.join(DATASET_STORE,DATASET_NAME)\n",
    "\n",
    "# Read the csv as a dataframe \n",
    "bbc_dataframe = pd.read_csv(stored_file, header=0)    \n",
    "\n",
    "# Checkout how our content looks like \n",
    "bbc_dataframe.head()"
   ]
  },
  {
   "cell_type": "code",
   "execution_count": 145,
   "metadata": {},
   "outputs": [
    {
     "data": {
      "text/plain": [
       "43652"
      ]
     },
     "execution_count": 145,
     "metadata": {},
     "output_type": "execute_result"
    }
   ],
   "source": [
    "#Get vocab size \n",
    "unique_words = list(bbc_dataframe['text'].str.split(' ', expand=True).stack().unique())\n",
    "len(unique_words)"
   ]
  },
  {
   "cell_type": "code",
   "execution_count": 146,
   "metadata": {
    "colab": {},
    "colab_type": "code",
    "id": "MexFzdweuMZ6"
   },
   "outputs": [],
   "source": [
    "# Remove stop words from the dataset :) \n",
    "bbc_dataframe['text'] = bbc_dataframe['text'].apply(lambda x: ' '.join([item for item in x.split() if item not in stopwords]))"
   ]
  },
  {
   "cell_type": "code",
   "execution_count": 147,
   "metadata": {
    "colab": {},
    "colab_type": "code",
    "id": "oXKzmiJZuNgz"
   },
   "outputs": [],
   "source": [
    "# Define the text and category as lists \n",
    "sentences = list(bbc_dataframe.text)\n",
    "labels = list(bbc_dataframe.category)"
   ]
  },
  {
   "cell_type": "code",
   "execution_count": 148,
   "metadata": {
    "colab": {
     "base_uri": "https://localhost:8080/",
     "height": 87
    },
    "colab_type": "code",
    "id": "32S9wlABtgW4",
    "outputId": "e670d46a-30ad-4983-abd3-692509914d26"
   },
   "outputs": [
    {
     "name": "stdout",
     "output_type": "stream",
     "text": [
      "Total amount of sentences: 2225\n",
      "Total amount of labels: 2225\n",
      "First 100 chars: tv future hands viewers home theatre systems plasma high-definition tvs digital video recorders movi\n",
      "This sentence category: tech\n"
     ]
    }
   ],
   "source": [
    "print(\"Total amount of sentences: {}\".format(len(sentences)))\n",
    "print(\"Total amount of labels: {}\".format(len(labels)))\n",
    "print(\"First 100 chars: {}\".format(sentences[0][:100]))\n",
    "print(\"This sentence category: {}\".format(labels[0]))\n",
    "\n",
    "# Expected Output\n",
    "# 2225\n",
    "# 2225\n",
    "# tv future hands viewers home theatre systems  plasma high-definition tvs  digital video recorders moving living room  way people watch tv will radically different five years  time.  according expert panel gathered annual consumer electronics show las vegas discuss new technologies will impact one favourite pastimes. us leading trend  programmes content will delivered viewers via home networks  cable  satellite  telecoms companies  broadband service providers front rooms portable devices.  one talked-about technologies ces digital personal video recorders (dvr pvr). set-top boxes  like us s tivo uk s sky+ system  allow people record  store  play  pause forward wind tv programmes want.  essentially  technology allows much personalised tv. also built-in high-definition tv sets  big business japan us  slower take off europe lack high-definition programming. not can people forward wind adverts  can also forget abiding network channel schedules  putting together a-la-carte entertainment. us networks cable satellite companies worried means terms advertising revenues well  brand identity  viewer loyalty channels. although us leads technology moment  also concern raised europe  particularly growing uptake services like sky+.  happens today  will see nine months years  time uk   adam hume  bbc broadcast s futurologist told bbc news website. likes bbc  no issues lost advertising revenue yet. pressing issue moment commercial uk broadcasters  brand loyalty important everyone.  will talking content brands rather network brands   said tim hanlon  brand communications firm starcom mediavest.  reality broadband connections  anybody can producer content.  added:  challenge now hard promote programme much choice.   means  said stacey jolna  senior vice president tv guide tv group  way people find content want watch simplified tv viewers. means networks  us terms  channels take leaf google s book search engine future  instead scheduler help people find want watch. kind channel model might work younger ipod generation used taking control gadgets play them. might not suit everyone  panel recognised. older generations comfortable familiar schedules channel brands know getting. perhaps not want much choice put hands  mr hanlon suggested.  end  kids just diapers pushing buttons already - everything possible available   said mr hanlon.  ultimately  consumer will tell market want.   50 000 new gadgets technologies showcased ces  many enhancing tv-watching experience. high-definition tv sets everywhere many new models lcd (liquid crystal display) tvs launched dvr capability built  instead external boxes. one example launched show humax s 26-inch lcd tv 80-hour tivo dvr dvd recorder. one us s biggest satellite tv companies  directtv  even launched branded dvr show 100-hours recording capability  instant replay  search function. set can pause rewind tv 90 hours. microsoft chief bill gates announced pre-show keynote speech partnership tivo  called tivotogo  means people can play recorded programmes windows pcs mobile devices. reflect increasing trend freeing multimedia people can watch want  want."
   ]
  },
  {
   "cell_type": "code",
   "execution_count": 213,
   "metadata": {
    "colab": {},
    "colab_type": "code",
    "id": "EYo6A4v5ZABQ"
   },
   "outputs": [],
   "source": [
    "VOCAB_SIZE = 5000\n",
    "EMBEDDING_DIM = 32\n",
    "MAX_LENGTH = 200\n",
    "TRUNC_TYPE = 'post'\n",
    "PADDING_TYPE = 'post'\n",
    "OOV_TOKEN = \"<oov>\"\n",
    "TRAINING_PORTION = .8"
   ]
  },
  {
   "cell_type": "code",
   "execution_count": 214,
   "metadata": {
    "colab": {
     "base_uri": "https://localhost:8080/",
     "height": 35
    },
    "colab_type": "code",
    "id": "XfdaWh06ZGe3",
    "outputId": "c51394ca-9ed8-41df-85eb-7799fa4af309"
   },
   "outputs": [
    {
     "data": {
      "text/plain": [
       "1780"
      ]
     },
     "execution_count": 214,
     "metadata": {},
     "output_type": "execute_result"
    }
   ],
   "source": [
    "train_size = int(len(sentences) * TRAINING_PORTION)\n",
    "train_size"
   ]
  },
  {
   "cell_type": "code",
   "execution_count": 215,
   "metadata": {
    "colab": {},
    "colab_type": "code",
    "id": "52YpeEHm-w_k"
   },
   "outputs": [],
   "source": [
    "# Split the data between training and validation\n",
    "train_sentences, validation_sentences = sentences[0:train_size], sentences[train_size:]\n",
    "train_labels, validation_labels = labels[0:train_size], labels[train_size:]"
   ]
  },
  {
   "cell_type": "code",
   "execution_count": 216,
   "metadata": {
    "colab": {},
    "colab_type": "code",
    "id": "XgdEUpy8F-iR"
   },
   "outputs": [],
   "source": [
    "# Build the Tokenizer with the training sequences\n",
    "tokenizer = Tokenizer(num_words=VOCAB_SIZE, oov_token=OOV_TOKEN)\n",
    "\n",
    "# Encode the training sentences \n",
    "tokenizer.fit_on_texts(train_sentences)\n",
    "\n",
    "#Get the word_index\n",
    "word_index = tokenizer.word_index"
   ]
  },
  {
   "cell_type": "code",
   "execution_count": 217,
   "metadata": {
    "colab": {},
    "colab_type": "code",
    "id": "ULzA8xhwZI22"
   },
   "outputs": [],
   "source": [
    "# Get the sequences\n",
    "train_sequences = tokenizer.texts_to_sequences(train_sentences)\n",
    "\n",
    "# Get the padded sequences\n",
    "train_padded = pad_sequences(sequences=train_sequences, maxlen=MAX_LENGTH,\n",
    "                             padding=PADDING_TYPE, truncating=TRUNC_TYPE)"
   ]
  },
  {
   "cell_type": "code",
   "execution_count": 218,
   "metadata": {
    "colab": {},
    "colab_type": "code",
    "id": "LWXvFqwfFtlE"
   },
   "outputs": [
    {
     "name": "stdout",
     "output_type": "stream",
     "text": [
      "Size of train seq 0:449\n",
      "Size of train padded 0:200\n",
      "Size of train seq 1:200\n",
      "Size of train padded 1:200\n",
      "Size of train seq 10:192\n",
      "Size of train padded 10:200\n"
     ]
    }
   ],
   "source": [
    "print(\"Size of train seq 0:{}\".format(len(train_sequences[0])))\n",
    "print(\"Size of train padded 0:{}\".format(len(train_padded[0])))\n",
    "\n",
    "print(\"Size of train seq 1:{}\".format(len(train_sequences[1])))\n",
    "print(\"Size of train padded 1:{}\".format(len(train_padded[1])))\n",
    "\n",
    "print(\"Size of train seq 10:{}\".format(len(train_sequences[10])))\n",
    "print(\"Size of train padded 10:{}\".format(len(train_padded[10])))\n",
    "\n",
    "# Expected Ouput\n",
    "# 449\n",
    "# 120\n",
    "# 200\n",
    "# 120\n",
    "# 192\n",
    "# 120"
   ]
  },
  {
   "cell_type": "code",
   "execution_count": 219,
   "metadata": {
    "colab": {},
    "colab_type": "code",
    "id": "c8PeFWzPZLW_"
   },
   "outputs": [
    {
     "name": "stdout",
     "output_type": "stream",
     "text": [
      "445\n",
      "(445, 200)\n"
     ]
    }
   ],
   "source": [
    "# Generate sequences for validation sentences\n",
    "validation_sequences = tokenizer.texts_to_sequences(validation_sentences)\n",
    "\n",
    "# Get validation padded \n",
    "validation_padded = pad_sequences(sequences=validation_sequences, maxlen=MAX_LENGTH,\n",
    "                             padding=PADDING_TYPE, truncating=TRUNC_TYPE)\n",
    "\n",
    "print(len(validation_sequences))\n",
    "print(validation_padded.shape)\n",
    "\n",
    "# Expected output\n",
    "# 445\n",
    "# (445, 120)"
   ]
  },
  {
   "cell_type": "code",
   "execution_count": 220,
   "metadata": {
    "colab": {},
    "colab_type": "code",
    "id": "XkWiQ_FKZNp2"
   },
   "outputs": [],
   "source": [
    "# Create a Label Tokenizer \n",
    "label_tokenizer = Tokenizer()\n",
    "\n",
    "# Encode the labels \n",
    "label_tokenizer.fit_on_texts(train_labels)\n",
    "\n",
    "num_classes = len(label_tokenizer.word_index)"
   ]
  },
  {
   "cell_type": "code",
   "execution_count": 237,
   "metadata": {},
   "outputs": [
    {
     "data": {
      "text/plain": [
       "{'sport': 1, 'business': 2, 'politics': 3, 'entertainment': 4, 'tech': 5}"
      ]
     },
     "execution_count": 237,
     "metadata": {},
     "output_type": "execute_result"
    }
   ],
   "source": [
    "label_tokenizer.word_index"
   ]
  },
  {
   "cell_type": "code",
   "execution_count": 221,
   "metadata": {
    "colab": {},
    "colab_type": "code",
    "id": "XkWiQ_FKZNp2"
   },
   "outputs": [],
   "source": [
    "# Generate the sequences for the labels \n",
    "training_label_seq = np.array(label_tokenizer.texts_to_sequences(train_labels))\n",
    "# Generate the sequences for validation labels \n",
    "validation_label_seq = np.array(label_tokenizer.texts_to_sequences(validation_labels))"
   ]
  },
  {
   "cell_type": "code",
   "execution_count": 222,
   "metadata": {
    "colab": {},
    "colab_type": "code",
    "id": "NdYvo9i5FxmA"
   },
   "outputs": [
    {
     "name": "stdout",
     "output_type": "stream",
     "text": [
      "[5]\n",
      "[2]\n",
      "[1]\n",
      "(1780, 1)\n",
      "[4]\n",
      "[5]\n",
      "[3]\n",
      "(445, 1)\n"
     ]
    }
   ],
   "source": [
    "print(training_label_seq[0])\n",
    "print(training_label_seq[1])\n",
    "print(training_label_seq[2])\n",
    "print(training_label_seq.shape)\n",
    "\n",
    "print(validation_label_seq[0])\n",
    "print(validation_label_seq[1])\n",
    "print(validation_label_seq[2])\n",
    "print(validation_label_seq.shape)\n",
    "\n",
    "# Expected output\n",
    "# [4]\n",
    "# [2]\n",
    "# [1]\n",
    "# (1780, 1)\n",
    "# [5]\n",
    "# [4]\n",
    "# [3]\n",
    "# (445, 1)"
   ]
  },
  {
   "cell_type": "code",
   "execution_count": 223,
   "metadata": {
    "colab": {},
    "colab_type": "code",
    "id": "HZ5um4MWZP-W"
   },
   "outputs": [],
   "source": [
    "# Define the model \n",
    "model = tf.keras.Sequential([\n",
    "    tf.keras.layers.Embedding(input_dim=VOCAB_SIZE, output_dim=EMBEDDING_DIM, input_length=MAX_LENGTH),\n",
    "    tf.keras.layers.GlobalAveragePooling1D(),\n",
    "    tf.keras.layers.Dense(24, activation='relu'),\n",
    "    tf.keras.layers.Dense(6, activation='sigmoid')\n",
    "])"
   ]
  },
  {
   "cell_type": "code",
   "execution_count": 224,
   "metadata": {
    "colab": {},
    "colab_type": "code",
    "id": "HZ5um4MWZP-W"
   },
   "outputs": [
    {
     "name": "stdout",
     "output_type": "stream",
     "text": [
      "Model: \"sequential_10\"\n",
      "_________________________________________________________________\n",
      "Layer (type)                 Output Shape              Param #   \n",
      "=================================================================\n",
      "embedding_10 (Embedding)     (None, 200, 32)           160000    \n",
      "_________________________________________________________________\n",
      "global_average_pooling1d_10  (None, 32)                0         \n",
      "_________________________________________________________________\n",
      "dense_20 (Dense)             (None, 24)                792       \n",
      "_________________________________________________________________\n",
      "dense_21 (Dense)             (None, 6)                 150       \n",
      "=================================================================\n",
      "Total params: 160,942\n",
      "Trainable params: 160,942\n",
      "Non-trainable params: 0\n",
      "_________________________________________________________________\n"
     ]
    }
   ],
   "source": [
    "# Configure the model \n",
    "model.compile(loss='sparse_categorical_crossentropy',optimizer='adam',metrics=['accuracy'])\n",
    "model.summary()\n",
    "\n",
    "# Expected Output\n",
    "# Layer (type)                 Output Shape              Param #   \n",
    "# =================================================================\n",
    "# embedding (Embedding)        (None, 120, 16)           16000     \n",
    "# _________________________________________________________________\n",
    "# global_average_pooling1d (Gl (None, 16)                0         \n",
    "# _________________________________________________________________\n",
    "# dense (Dense)                (None, 24)                408       \n",
    "# _________________________________________________________________\n",
    "# dense_1 (Dense)              (None, 6)                 150       \n",
    "# =================================================================\n",
    "# Total params: 16,558\n",
    "# Trainable params: 16,558\n",
    "# Non-trainable params: 0"
   ]
  },
  {
   "cell_type": "code",
   "execution_count": 225,
   "metadata": {
    "colab": {},
    "colab_type": "code",
    "id": "XsfdxySKZSXu"
   },
   "outputs": [
    {
     "name": "stdout",
     "output_type": "stream",
     "text": [
      "Train on 1780 samples, validate on 445 samples\n",
      "Epoch 1/50\n",
      "1780/1780 - 1s - loss: 1.7700 - accuracy: 0.3927 - val_loss: 1.7357 - val_accuracy: 0.4382\n",
      "Epoch 2/50\n",
      "1780/1780 - 0s - loss: 1.6750 - accuracy: 0.4826 - val_loss: 1.5923 - val_accuracy: 0.5236\n",
      "Epoch 3/50\n",
      "1780/1780 - 0s - loss: 1.4740 - accuracy: 0.5556 - val_loss: 1.3529 - val_accuracy: 0.5843\n",
      "Epoch 4/50\n",
      "1780/1780 - 0s - loss: 1.1904 - accuracy: 0.7118 - val_loss: 1.0610 - val_accuracy: 0.7978\n",
      "Epoch 5/50\n",
      "1780/1780 - 0s - loss: 0.8578 - accuracy: 0.8972 - val_loss: 0.7358 - val_accuracy: 0.8854\n",
      "Epoch 6/50\n",
      "1780/1780 - 0s - loss: 0.5359 - accuracy: 0.9511 - val_loss: 0.4805 - val_accuracy: 0.9326\n",
      "Epoch 7/50\n",
      "1780/1780 - 0s - loss: 0.3247 - accuracy: 0.9702 - val_loss: 0.3400 - val_accuracy: 0.9483\n",
      "Epoch 8/50\n",
      "1780/1780 - 0s - loss: 0.2141 - accuracy: 0.9820 - val_loss: 0.2672 - val_accuracy: 0.9573\n",
      "Epoch 9/50\n",
      "1780/1780 - 0s - loss: 0.1503 - accuracy: 0.9893 - val_loss: 0.2174 - val_accuracy: 0.9596\n",
      "Epoch 10/50\n",
      "1780/1780 - 0s - loss: 0.1119 - accuracy: 0.9927 - val_loss: 0.1881 - val_accuracy: 0.9618\n",
      "Epoch 11/50\n",
      "1780/1780 - 0s - loss: 0.0855 - accuracy: 0.9944 - val_loss: 0.1675 - val_accuracy: 0.9596\n",
      "Epoch 12/50\n",
      "1780/1780 - 0s - loss: 0.0675 - accuracy: 0.9961 - val_loss: 0.1538 - val_accuracy: 0.9640\n",
      "Epoch 13/50\n",
      "1780/1780 - 0s - loss: 0.0538 - accuracy: 0.9989 - val_loss: 0.1440 - val_accuracy: 0.9640\n",
      "Epoch 14/50\n",
      "1780/1780 - 0s - loss: 0.0439 - accuracy: 0.9989 - val_loss: 0.1342 - val_accuracy: 0.9618\n",
      "Epoch 15/50\n",
      "1780/1780 - 0s - loss: 0.0363 - accuracy: 1.0000 - val_loss: 0.1266 - val_accuracy: 0.9640\n",
      "Epoch 16/50\n",
      "1780/1780 - 0s - loss: 0.0303 - accuracy: 1.0000 - val_loss: 0.1212 - val_accuracy: 0.9640\n",
      "Epoch 17/50\n",
      "1780/1780 - 0s - loss: 0.0255 - accuracy: 1.0000 - val_loss: 0.1182 - val_accuracy: 0.9685\n",
      "Epoch 18/50\n",
      "1780/1780 - 0s - loss: 0.0217 - accuracy: 1.0000 - val_loss: 0.1140 - val_accuracy: 0.9640\n",
      "Epoch 19/50\n",
      "1780/1780 - 0s - loss: 0.0189 - accuracy: 1.0000 - val_loss: 0.1112 - val_accuracy: 0.9708\n",
      "Epoch 20/50\n",
      "1780/1780 - 0s - loss: 0.0164 - accuracy: 1.0000 - val_loss: 0.1086 - val_accuracy: 0.9708\n",
      "Epoch 21/50\n",
      "1780/1780 - 0s - loss: 0.0143 - accuracy: 1.0000 - val_loss: 0.1061 - val_accuracy: 0.9708\n",
      "Epoch 22/50\n",
      "1780/1780 - 0s - loss: 0.0126 - accuracy: 1.0000 - val_loss: 0.1036 - val_accuracy: 0.9708\n",
      "Epoch 23/50\n",
      "1780/1780 - 0s - loss: 0.0112 - accuracy: 1.0000 - val_loss: 0.1025 - val_accuracy: 0.9708\n",
      "Epoch 24/50\n",
      "1780/1780 - 0s - loss: 0.0100 - accuracy: 1.0000 - val_loss: 0.1011 - val_accuracy: 0.9685\n",
      "Epoch 25/50\n",
      "1780/1780 - 0s - loss: 0.0089 - accuracy: 1.0000 - val_loss: 0.0996 - val_accuracy: 0.9685\n",
      "Epoch 26/50\n",
      "1780/1780 - 0s - loss: 0.0081 - accuracy: 1.0000 - val_loss: 0.0987 - val_accuracy: 0.9685\n",
      "Epoch 27/50\n",
      "1780/1780 - 0s - loss: 0.0073 - accuracy: 1.0000 - val_loss: 0.0978 - val_accuracy: 0.9685\n",
      "Epoch 28/50\n",
      "1780/1780 - 0s - loss: 0.0066 - accuracy: 1.0000 - val_loss: 0.0967 - val_accuracy: 0.9685\n",
      "Epoch 29/50\n",
      "1780/1780 - 0s - loss: 0.0060 - accuracy: 1.0000 - val_loss: 0.0962 - val_accuracy: 0.9685\n",
      "Epoch 30/50\n",
      "1780/1780 - 0s - loss: 0.0055 - accuracy: 1.0000 - val_loss: 0.0955 - val_accuracy: 0.9685\n",
      "Epoch 31/50\n",
      "1780/1780 - 0s - loss: 0.0050 - accuracy: 1.0000 - val_loss: 0.0953 - val_accuracy: 0.9685\n",
      "Epoch 32/50\n",
      "1780/1780 - 0s - loss: 0.0046 - accuracy: 1.0000 - val_loss: 0.0944 - val_accuracy: 0.9708\n",
      "Epoch 33/50\n",
      "1780/1780 - 0s - loss: 0.0043 - accuracy: 1.0000 - val_loss: 0.0938 - val_accuracy: 0.9685\n",
      "Epoch 34/50\n",
      "1780/1780 - 0s - loss: 0.0039 - accuracy: 1.0000 - val_loss: 0.0936 - val_accuracy: 0.9685\n",
      "Epoch 35/50\n",
      "1780/1780 - 0s - loss: 0.0036 - accuracy: 1.0000 - val_loss: 0.0931 - val_accuracy: 0.9685\n",
      "Epoch 36/50\n",
      "1780/1780 - 0s - loss: 0.0034 - accuracy: 1.0000 - val_loss: 0.0930 - val_accuracy: 0.9708\n",
      "Epoch 37/50\n",
      "1780/1780 - 0s - loss: 0.0031 - accuracy: 1.0000 - val_loss: 0.0925 - val_accuracy: 0.9708\n",
      "Epoch 38/50\n",
      "1780/1780 - 0s - loss: 0.0029 - accuracy: 1.0000 - val_loss: 0.0925 - val_accuracy: 0.9708\n",
      "Epoch 39/50\n",
      "1780/1780 - 0s - loss: 0.0027 - accuracy: 1.0000 - val_loss: 0.0919 - val_accuracy: 0.9708\n",
      "Epoch 40/50\n",
      "1780/1780 - 0s - loss: 0.0025 - accuracy: 1.0000 - val_loss: 0.0917 - val_accuracy: 0.9708\n",
      "Epoch 41/50\n",
      "1780/1780 - 0s - loss: 0.0024 - accuracy: 1.0000 - val_loss: 0.0916 - val_accuracy: 0.9708\n",
      "Epoch 42/50\n",
      "1780/1780 - 0s - loss: 0.0022 - accuracy: 1.0000 - val_loss: 0.0916 - val_accuracy: 0.9708\n",
      "Epoch 43/50\n",
      "1780/1780 - 0s - loss: 0.0021 - accuracy: 1.0000 - val_loss: 0.0912 - val_accuracy: 0.9708\n",
      "Epoch 44/50\n",
      "1780/1780 - 0s - loss: 0.0020 - accuracy: 1.0000 - val_loss: 0.0911 - val_accuracy: 0.9708\n",
      "Epoch 45/50\n",
      "1780/1780 - 0s - loss: 0.0019 - accuracy: 1.0000 - val_loss: 0.0909 - val_accuracy: 0.9708\n",
      "Epoch 46/50\n",
      "1780/1780 - 0s - loss: 0.0017 - accuracy: 1.0000 - val_loss: 0.0910 - val_accuracy: 0.9708\n",
      "Epoch 47/50\n",
      "1780/1780 - 0s - loss: 0.0016 - accuracy: 1.0000 - val_loss: 0.0909 - val_accuracy: 0.9708\n",
      "Epoch 48/50\n",
      "1780/1780 - 0s - loss: 0.0016 - accuracy: 1.0000 - val_loss: 0.0909 - val_accuracy: 0.9708\n",
      "Epoch 49/50\n",
      "1780/1780 - 0s - loss: 0.0015 - accuracy: 1.0000 - val_loss: 0.0908 - val_accuracy: 0.9708\n",
      "Epoch 50/50\n",
      "1780/1780 - 0s - loss: 0.0014 - accuracy: 1.0000 - val_loss: 0.0907 - val_accuracy: 0.9708\n"
     ]
    }
   ],
   "source": [
    "num_epochs = 50\n",
    "\n",
    "# Train the model \n",
    "history = model.fit(train_padded, \n",
    "                    training_label_seq, \n",
    "                    epochs=num_epochs, \n",
    "                    validation_data=(validation_padded, validation_label_seq), \n",
    "                    verbose=2)"
   ]
  },
  {
   "cell_type": "code",
   "execution_count": 227,
   "metadata": {
    "colab": {},
    "colab_type": "code",
    "id": "dQ0BX2apXS9u"
   },
   "outputs": [],
   "source": [
    "def plot_graphs(history, string):\n",
    "  plt.plot(history.history[string])\n",
    "  plt.plot(history.history['val_'+string])\n",
    "  plt.xlabel(\"Epochs\")\n",
    "  plt.ylabel(string)\n",
    "  plt.legend([string, 'val_'+string])\n",
    "  plt.show()\n",
    "  "
   ]
  },
  {
   "cell_type": "code",
   "execution_count": 228,
   "metadata": {
    "colab": {},
    "colab_type": "code",
    "id": "dQ0BX2apXS9u"
   },
   "outputs": [
    {
     "data": {
      "image/png": "[encoded data removed]",
      "text/plain": [
       "<Figure size 432x288 with 1 Axes>"
      ]
     },
     "metadata": {
      "needs_background": "light"
     },
     "output_type": "display_data"
    },
    {
     "data": {
      "image/png": "[encoded data removed]",
      "text/plain": [
       "<Figure size 432x288 with 1 Axes>"
      ]
     },
     "metadata": {
      "needs_background": "light"
     },
     "output_type": "display_data"
    }
   ],
   "source": [
    "plot_graphs(history, \"accuracy\")\n",
    "plot_graphs(history, \"loss\")"
   ]
  },
  {
   "cell_type": "code",
   "execution_count": 229,
   "metadata": {
    "colab": {},
    "colab_type": "code",
    "id": "w7Xc-uWxXhML"
   },
   "outputs": [],
   "source": [
    "reverse_word_index = dict([(value, key) for (key, value) in word_index.items()])\n",
    "\n",
    "def decode_sentence(text):\n",
    "    return ' '.join([reverse_word_index.get(i, '?') for i in text])\n"
   ]
  },
  {
   "cell_type": "code",
   "execution_count": 230,
   "metadata": {
    "colab": {},
    "colab_type": "code",
    "id": "OhnFA_TDXrih"
   },
   "outputs": [
    {
     "name": "stdout",
     "output_type": "stream",
     "text": [
      "(5000, 32)\n"
     ]
    }
   ],
   "source": [
    "e = model.layers[0]\n",
    "weights = e.get_weights()[0]\n",
    "print(weights.shape) # shape: (vocab_size, embedding_dim)\n",
    "\n",
    "# Expected output\n",
    "# (1000, 16)"
   ]
  },
  {
   "cell_type": "code",
   "execution_count": 231,
   "metadata": {
    "colab": {},
    "colab_type": "code",
    "id": "_POzcWWAXudL"
   },
   "outputs": [],
   "source": [
    "vecs_file = \"vecs_bbc.tsv\"\n",
    "meta_file = \"meta_bbc.tsv\"\n",
    "\n",
    "vec_path = os.path.join(DATASET_STORE, vecs_file)\n",
    "meta_path = os.path.join(DATASET_STORE, meta_file)"
   ]
  },
  {
   "cell_type": "code",
   "execution_count": 235,
   "metadata": {
    "colab": {},
    "colab_type": "code",
    "id": "_POzcWWAXudL"
   },
   "outputs": [],
   "source": [
    "out_v = io.open(vec_path, 'w', encoding='utf-8')\n",
    "out_m = io.open(meta_path, 'w', encoding='utf-8')"
   ]
  },
  {
   "cell_type": "code",
   "execution_count": 236,
   "metadata": {
    "colab": {},
    "colab_type": "code",
    "id": "_POzcWWAXudL"
   },
   "outputs": [],
   "source": [
    "for word_num in range(1, VOCAB_SIZE):\n",
    "  word = reverse_word_index[word_num]\n",
    "  embeddings = weights[word_num]\n",
    "  out_m.write(word + \"\\n\")\n",
    "  out_v.write('\\t'.join([str(x) for x in embeddings]) + \"\\n\")\n",
    "out_v.close()\n",
    "out_m.close()"
   ]
  },
  {
   "cell_type": "code",
   "execution_count": 0,
   "metadata": {
    "colab": {},
    "colab_type": "code",
    "id": "VmqpQMZ_XyOa"
   },
   "outputs": [],
   "source": [
    "try:\n",
    "  from google.colab import files\n",
    "except ImportError:\n",
    "  pass\n",
    "else:\n",
    "  files.download('vecs.tsv')\n",
    "  files.download('meta.tsv')"
   ]
  },
  {
   "cell_type": "code",
   "execution_count": 241,
   "metadata": {},
   "outputs": [
    {
     "name": "stdout",
     "output_type": "stream",
     "text": [
      "[[0.0000000e+00 8.2075596e-05 2.8312206e-05 8.3446503e-07 1.6868114e-05\n",
      "  3.8743019e-07]\n",
      " [0.0000000e+00 8.4370375e-05 2.5391579e-05 1.1622906e-06 1.6450882e-05\n",
      "  6.2584877e-07]\n",
      " [0.0000000e+00 1.3577938e-04 4.2587519e-05 1.0132790e-06 1.6689301e-05\n",
      "  3.2782555e-07]\n",
      " [0.0000000e+00 1.0454655e-04 2.8192997e-05 1.5199184e-06 3.0010939e-05\n",
      "  2.9802322e-07]]\n"
     ]
    }
   ],
   "source": [
    "sentence = [\"By-elections 2019: Taoiseach dealt setback as Fine Gael fails to win any Dáil seats - but good day for Green's, Fianna Fáil and Sinn Féin\", \n",
    "            \"When Professor Akira Yoshino was developing a new battery technology in his laboratory in the early 1980s, he didn't think it would amount to much.\",\n",
    "           \"A new technology has been created by Microsoft\",\n",
    "           \"The scariest movie ever has been released to the public\"]\n",
    "sequences = tokenizer.texts_to_sequences(sentence)\n",
    "padded = pad_sequences(sequences, maxlen=MAX_LENGTH, padding=PADDING_TYPE, truncating=TRUNC_TYPE)\n",
    "print(model.predict(padded))"
   ]
  },
  {
   "cell_type": "code",
   "execution_count": null,
   "metadata": {},
   "outputs": [],
   "source": [
    "# {'sport': 1, 'business': 2, 'politics': 3, 'entertainment': 4, 'tech': 5}"
   ]
  }
 ],
 "metadata": {
  "accelerator": "GPU",
  "colab": {
   "collapsed_sections": [],
   "name": "Week_2_BBC_Question.ipynb",
   "provenance": []
  },
  "kernelspec": {
   "display_name": "Python 3",
   "language": "python",
   "name": "python3"
  },
  "language_info": {
   "codemirror_mode": {
    "name": "ipython",
    "version": 3
   },
   "file_extension": ".py",
   "mimetype": "text/x-python",
   "name": "python",
   "nbconvert_exporter": "python",
   "pygments_lexer": "ipython3",
   "version": "3.6.8"
  }
 },
 "nbformat": 4,
 "nbformat_minor": 1
}

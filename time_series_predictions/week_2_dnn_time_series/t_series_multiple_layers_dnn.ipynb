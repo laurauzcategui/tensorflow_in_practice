{
 "cells": [
  {
   "cell_type": "markdown",
   "metadata": {},
   "source": [
    "# Forecast using Multi Layer DNN \n",
    "\n",
    "This notebook covers how to create a multiple layer dense neural net to forecast a time series\n",
    "\n",
    "- Creation of a windowed dataset \n",
    "- Split features and labels \n",
    "- Create a model with multiple Dense layers \n",
    "- Evaluate performance"
   ]
  },
  {
   "cell_type": "code",
   "execution_count": 132,
   "metadata": {
    "colab": {},
    "colab_type": "code",
    "id": "D1J15Vh_1Jih",
    "scrolled": false
   },
   "outputs": [
    {
     "name": "stderr",
     "output_type": "stream",
     "text": [
      "/usr/local/lib/python3.6/dist-packages/tensorflow_core/python/client/session.py:1750: UserWarning: An interactive session is already active. This can cause out-of-memory errors in some cases. You must explicitly call `InteractiveSession.close()` to release resources held by the other session(s).\n",
      "  warnings.warn('An interactive session is already active. This can '\n"
     ]
    }
   ],
   "source": [
    "from tensorflow.compat.v1 import ConfigProto\n",
    "from tensorflow.compat.v1 import InteractiveSession\n",
    "\n",
    "config = ConfigProto()\n",
    "config.gpu_options.allow_growth = True\n",
    "session = InteractiveSession(config=config)"
   ]
  },
  {
   "cell_type": "code",
   "execution_count": 133,
   "metadata": {},
   "outputs": [],
   "source": [
    "# Let's install tensorflow 2.x first :)\n",
    "try:\n",
    "  # %tensorflow_version only exists in Colab.\n",
    "  %tensorflow_version 2.x\n",
    "except Exception:\n",
    "  pass"
   ]
  },
  {
   "cell_type": "code",
   "execution_count": 134,
   "metadata": {
    "colab": {
     "base_uri": "https://localhost:8080/",
     "height": 34
    },
    "colab_type": "code",
    "id": "BOjujz601HcS",
    "outputId": "713999e3-89ef-4226-b6ec-763738a499c6"
   },
   "outputs": [
    {
     "name": "stdout",
     "output_type": "stream",
     "text": [
      "2.0.0\n"
     ]
    }
   ],
   "source": [
    "import tensorflow as tf\n",
    "import numpy as np\n",
    "import matplotlib.pyplot as plt\n",
    "print(tf.__version__)"
   ]
  },
  {
   "cell_type": "code",
   "execution_count": 135,
   "metadata": {
    "colab": {},
    "colab_type": "code",
    "id": "Zswl7jRtGzkk"
   },
   "outputs": [],
   "source": [
    "def plot_series(time, series, format=\"-\", start=0, end=None):\n",
    "    '''\n",
    "    Plot series of data\n",
    "\n",
    "    Parameters\n",
    "    ----------\n",
    "    time : array of data\n",
    "    series: array of data to plot in Y axis \n",
    "    format: format of basic line properties. Ref: https://matplotlib.org/3.1.1/api/_as_gen/matplotlib.pyplot.plot.html\n",
    "    start: from where to start plotting, optional. Default: 0\n",
    "    end: up to where to plot data, optional. Default: None\n",
    "    '''\n",
    "    plt.plot(time[start:end], series[start:end], format)\n",
    "    plt.xlabel(\"Time\")\n",
    "    plt.ylabel(\"Value\")\n",
    "    plt.grid(True)"
   ]
  },
  {
   "cell_type": "code",
   "execution_count": 136,
   "metadata": {
    "colab": {},
    "colab_type": "code",
    "id": "Zswl7jRtGzkk"
   },
   "outputs": [],
   "source": [
    "def trend(time, slope=0):\n",
    "    '''\n",
    "    Produce a trend of data.\n",
    "    Parameters\n",
    "    ---------- \n",
    "    time: time series to plot \n",
    "    slope: slope to plot the series. optional, Default: 0\n",
    "    '''\n",
    "    return slope * time"
   ]
  },
  {
   "cell_type": "code",
   "execution_count": 137,
   "metadata": {
    "colab": {},
    "colab_type": "code",
    "id": "Zswl7jRtGzkk"
   },
   "outputs": [],
   "source": [
    "def seasonal_pattern(season_time):\n",
    "    \"\"\"\n",
    "    Just an arbitrary pattern by using np.where\n",
    "    Ref: https://docs.scipy.org/doc/numpy/reference/generated/numpy.where.html\n",
    "    \n",
    "    Parameters\n",
    "    ----------\n",
    "    season_time: to generate the condition of what to select from \n",
    "    \"\"\"\n",
    "    return np.where(season_time < 0.4,\n",
    "                    np.cos(season_time * 2 * np.pi),\n",
    "                    1 / np.exp(3 * season_time))"
   ]
  },
  {
   "cell_type": "code",
   "execution_count": 138,
   "metadata": {
    "colab": {},
    "colab_type": "code",
    "id": "Zswl7jRtGzkk"
   },
   "outputs": [],
   "source": [
    "def seasonality(time, period, amplitude=1, phase=0):\n",
    "    '''\n",
    "    Repeats the same pattern at each period\n",
    "    \n",
    "    Parameters\n",
    "    ----------\n",
    "    time: to generate the season over x axis \n",
    "    period: how often will repeat\n",
    "    amplitude: how many phases \n",
    "    phase: the position of the point in time\n",
    "    '''\n",
    "    season_time = ((time + phase) % period) / period\n",
    "    return amplitude * seasonal_pattern(season_time)"
   ]
  },
  {
   "cell_type": "code",
   "execution_count": 139,
   "metadata": {
    "colab": {},
    "colab_type": "code",
    "id": "Zswl7jRtGzkk"
   },
   "outputs": [],
   "source": [
    "def noise(time, noise_level=1, seed=None):\n",
    "    '''\n",
    "    Produce random noise into a time series \n",
    "\n",
    "    Parameters\n",
    "    ----------\n",
    "    time: series of values on X axis\n",
    "    noise_level: to be produced, optional. Default: 1\n",
    "    seed: seed to generate the noise, optional. Default: None \n",
    "    '''\n",
    "    rnd = np.random.RandomState(seed)\n",
    "    return rnd.randn(len(time)) * noise_level"
   ]
  },
  {
   "cell_type": "code",
   "execution_count": 140,
   "metadata": {
    "colab": {},
    "colab_type": "code",
    "id": "Zswl7jRtGzkk"
   },
   "outputs": [],
   "source": [
    "# Define initial time series\n",
    "time = np.arange(4 * 365 + 1, dtype=\"float32\") "
   ]
  },
  {
   "cell_type": "code",
   "execution_count": 141,
   "metadata": {
    "colab": {},
    "colab_type": "code",
    "id": "Zswl7jRtGzkk"
   },
   "outputs": [],
   "source": [
    "# Define initial values for generation of different time series \n",
    "baseline = 10\n",
    "amplitude = 40\n",
    "slope = 0.05\n",
    "noise_level = 5"
   ]
  },
  {
   "cell_type": "code",
   "execution_count": 142,
   "metadata": {
    "colab": {},
    "colab_type": "code",
    "id": "Zswl7jRtGzkk"
   },
   "outputs": [],
   "source": [
    "# Create the series\n",
    "series = baseline + trend(time, slope) + seasonality(time, period=365, amplitude=amplitude)\n",
    "# Update with noise\n",
    "series += noise(time, noise_level, seed=42)"
   ]
  },
  {
   "cell_type": "code",
   "execution_count": 143,
   "metadata": {},
   "outputs": [
    {
     "data": {
      "image/png": "[encoded data removed]",
      "text/plain": [
       "<Figure size 720x432 with 1 Axes>"
      ]
     },
     "metadata": {
      "needs_background": "light"
     },
     "output_type": "display_data"
    }
   ],
   "source": [
    "plt.figure(figsize=(10, 6))\n",
    "plot_series(time, series)\n",
    "plt.show()"
   ]
  },
  {
   "cell_type": "code",
   "execution_count": 144,
   "metadata": {
    "colab": {},
    "colab_type": "code",
    "id": "Zswl7jRtGzkk"
   },
   "outputs": [],
   "source": [
    "# Split into training and validation\n",
    "split_time = 1000\n",
    "time_train = time[:split_time]\n",
    "x_train = series[:split_time]\n",
    "time_valid = time[split_time:]\n",
    "x_valid = series[split_time:]"
   ]
  },
  {
   "cell_type": "code",
   "execution_count": 145,
   "metadata": {
    "colab": {},
    "colab_type": "code",
    "id": "Zswl7jRtGzkk"
   },
   "outputs": [],
   "source": [
    "window_size = 20\n",
    "batch_size = 32\n",
    "shuffle_buffer_size = 1000"
   ]
  },
  {
   "cell_type": "code",
   "execution_count": 146,
   "metadata": {
    "colab": {},
    "colab_type": "code",
    "id": "4sTTIOCbyShY"
   },
   "outputs": [],
   "source": [
    "def windowed_dataset(series, window_size, batch_size, shuffle_buffer):\n",
    "    \"\"\"\n",
    "    Creates a windowed dataset and returns only one from the batch \n",
    "    \n",
    "    Parameters\n",
    "    ----------\n",
    "    series: time series data to set as dataset\n",
    "    windows_size: size of the window to be created\n",
    "    batch_size: size of the batch by window \n",
    "    shuffle_buffer: buffer size to take data and shuffle it around\n",
    "    \n",
    "    Returns a transformed dataset\n",
    "    \"\"\"\n",
    "    dataset = tf.data.Dataset.from_tensor_slices(series)\n",
    "    dataset = dataset.window(window_size + 1, shift=1, drop_remainder=True)\n",
    "    dataset = dataset.flat_map(lambda window: window.batch(window_size + 1))\n",
    "    dataset = dataset.shuffle(shuffle_buffer).map(lambda window: (window[:-1], window[-1]))\n",
    "    dataset = dataset.batch(batch_size).prefetch(1)\n",
    "    return dataset"
   ]
  },
  {
   "cell_type": "code",
   "execution_count": 147,
   "metadata": {
    "colab": {
     "base_uri": "https://localhost:8080/",
     "height": 374
    },
    "colab_type": "code",
    "id": "ou-WmE2AXu6B",
    "outputId": "e6cd149b-26bb-4b36-ab54-681da29275b1"
   },
   "outputs": [
    {
     "name": "stdout",
     "output_type": "stream",
     "text": [
      "<PrefetchDataset shapes: ((None, None), (None,)), types: (tf.float32, tf.float32)>\n"
     ]
    }
   ],
   "source": [
    "dataset = windowed_dataset(x_train, window_size, batch_size, shuffle_buffer_size)\n",
    "print(dataset)"
   ]
  },
  {
   "cell_type": "code",
   "execution_count": 148,
   "metadata": {
    "colab": {
     "base_uri": "https://localhost:8080/",
     "height": 374
    },
    "colab_type": "code",
    "id": "ou-WmE2AXu6B",
    "outputId": "e6cd149b-26bb-4b36-ab54-681da29275b1"
   },
   "outputs": [],
   "source": [
    "# Create a model with 3 Layers layer Created\n",
    "# Using relu activation and last layer ouput: 1 value\n",
    "model = tf.keras.models.Sequential([\n",
    "    tf.keras.layers.Dense(10, input_shape=[window_size], activation=\"relu\"), \n",
    "    tf.keras.layers.Dense(10, activation=\"relu\"), \n",
    "    tf.keras.layers.Dense(1)\n",
    "])"
   ]
  },
  {
   "cell_type": "code",
   "execution_count": 149,
   "metadata": {
    "colab": {
     "base_uri": "https://localhost:8080/",
     "height": 374
    },
    "colab_type": "code",
    "id": "ou-WmE2AXu6B",
    "outputId": "e6cd149b-26bb-4b36-ab54-681da29275b1"
   },
   "outputs": [],
   "source": [
    "'''\n",
    "Configure the model with: \n",
    "- Loss: mean squared error \n",
    "- Optimizer: Stochastic Gradient Descent \n",
    "'''\n",
    "model.compile(loss=\"mse\", optimizer=tf.keras.optimizers.SGD(lr=1e-6, momentum=0.9))"
   ]
  },
  {
   "cell_type": "code",
   "execution_count": 150,
   "metadata": {
    "colab": {
     "base_uri": "https://localhost:8080/",
     "height": 374
    },
    "colab_type": "code",
    "id": "ou-WmE2AXu6B",
    "outputId": "e6cd149b-26bb-4b36-ab54-681da29275b1"
   },
   "outputs": [
    {
     "data": {
      "text/plain": [
       "<tensorflow.python.keras.callbacks.History at 0x7f6d2c8b2a90>"
      ]
     },
     "execution_count": 150,
     "metadata": {},
     "output_type": "execute_result"
    }
   ],
   "source": [
    "# Train the model for 100 epochs\n",
    "model.fit(dataset,epochs=100,verbose=0)"
   ]
  },
  {
   "cell_type": "code",
   "execution_count": 151,
   "metadata": {
    "colab": {
     "base_uri": "https://localhost:8080/",
     "height": 409
    },
    "colab_type": "code",
    "id": "-gtVJuLVxR-M",
    "outputId": "d8f583ad-2a35-4473-818a-d505d598e28a"
   },
   "outputs": [],
   "source": [
    "# Create a moving average time series with the prediction created by the model\n",
    "forecast = []\n",
    "range_values = len(series) - window_size"
   ]
  },
  {
   "cell_type": "code",
   "execution_count": 152,
   "metadata": {
    "colab": {
     "base_uri": "https://localhost:8080/",
     "height": 409
    },
    "colab_type": "code",
    "id": "-gtVJuLVxR-M",
    "outputId": "d8f583ad-2a35-4473-818a-d505d598e28a"
   },
   "outputs": [],
   "source": [
    "for time in range(range_values):\n",
    "    # Add the prediction to the forecast array \n",
    "    forecast.append(model.predict(series[time:time + window_size][np.newaxis]))"
   ]
  },
  {
   "cell_type": "code",
   "execution_count": 153,
   "metadata": {
    "colab": {
     "base_uri": "https://localhost:8080/",
     "height": 409
    },
    "colab_type": "code",
    "id": "-gtVJuLVxR-M",
    "outputId": "d8f583ad-2a35-4473-818a-d505d598e28a"
   },
   "outputs": [],
   "source": [
    "forecast = forecast[split_time-window_size:]"
   ]
  },
  {
   "cell_type": "code",
   "execution_count": 154,
   "metadata": {
    "colab": {
     "base_uri": "https://localhost:8080/",
     "height": 409
    },
    "colab_type": "code",
    "id": "-gtVJuLVxR-M",
    "outputId": "d8f583ad-2a35-4473-818a-d505d598e28a",
    "scrolled": true
   },
   "outputs": [
    {
     "data": {
      "image/png": "[encoded data removed]",
      "text/plain": [
       "<Figure size 720x432 with 1 Axes>"
      ]
     },
     "metadata": {
      "needs_background": "light"
     },
     "output_type": "display_data"
    }
   ],
   "source": [
    "results = np.array(forecast)[:, 0, 0]\n",
    "\n",
    "\n",
    "plt.figure(figsize=(10, 6))\n",
    "\n",
    "plot_series(time_valid, x_valid)\n",
    "plot_series(time_valid, results)"
   ]
  },
  {
   "cell_type": "code",
   "execution_count": 155,
   "metadata": {
    "colab": {
     "base_uri": "https://localhost:8080/",
     "height": 34
    },
    "colab_type": "code",
    "id": "hR2BO0Dai_ZT",
    "outputId": "411000e0-90d7-44c8-d21d-2ecce50089c0"
   },
   "outputs": [
    {
     "data": {
      "text/plain": [
       "5.077003"
      ]
     },
     "execution_count": 155,
     "metadata": {},
     "output_type": "execute_result"
    }
   ],
   "source": [
    "# Get the MAE metric\n",
    "tf.keras.metrics.mean_absolute_error(x_valid, results).numpy()"
   ]
  },
  {
   "cell_type": "markdown",
   "metadata": {},
   "source": [
    "# Tuning the learning rate of the optimizer \n",
    "\n",
    "Tensorflow offers a way to tune the learning rate on each epoch if need it by using the [Learning Rate Scheduler](https://www.tensorflow.org/api_docs/python/tf/keras/callbacks/LearningRateScheduler)\n",
    "\n",
    "This is injected on the callbacks namespace and will be set on the callbacks parameter on the fit method related to the model"
   ]
  },
  {
   "cell_type": "code",
   "execution_count": 156,
   "metadata": {},
   "outputs": [],
   "source": [
    "initial_lr = 1e-10"
   ]
  },
  {
   "cell_type": "code",
   "execution_count": 157,
   "metadata": {},
   "outputs": [],
   "source": [
    "# Define learning rate scheduler \n",
    "lr_schedule = tf.keras.callbacks.LearningRateScheduler(lambda epoch: initial_lr * 10**(epoch / 20))"
   ]
  },
  {
   "cell_type": "code",
   "execution_count": 158,
   "metadata": {},
   "outputs": [],
   "source": [
    "optimizer = tf.keras.optimizers.SGD(lr=initial_lr, momentum=0.9)"
   ]
  },
  {
   "cell_type": "code",
   "execution_count": 159,
   "metadata": {},
   "outputs": [],
   "source": [
    "model.compile(loss=\"mse\", optimizer=optimizer)"
   ]
  },
  {
   "cell_type": "code",
   "execution_count": 160,
   "metadata": {},
   "outputs": [],
   "source": [
    "history_a = model.fit(dataset, epochs=100, callbacks=[lr_schedule], verbose=0)"
   ]
  },
  {
   "cell_type": "code",
   "execution_count": 162,
   "metadata": {},
   "outputs": [
    {
     "data": {
      "text/plain": [
       "[1e-10, 0.001, 0, 100]"
      ]
     },
     "execution_count": 162,
     "metadata": {},
     "output_type": "execute_result"
    },
    {
     "data": {
      "image/png": "[encoded data removed]",
      "text/plain": [
       "<Figure size 432x288 with 1 Axes>"
      ]
     },
     "metadata": {
      "needs_background": "light"
     },
     "output_type": "display_data"
    }
   ],
   "source": [
    "# Plot the learning rates across training \n",
    "lrs = initial_lr * (10 ** (np.arange(100) / 20))\n",
    "plt.semilogx(lrs, history_a.history[\"loss\"])\n",
    "plt.axis([initial_lr, 1e-3, 0, 100])"
   ]
  },
  {
   "cell_type": "code",
   "execution_count": 163,
   "metadata": {},
   "outputs": [
    {
     "name": "stdout",
     "output_type": "stream",
     "text": [
      "45.50991349512217\n"
     ]
    }
   ],
   "source": [
    "print(min(history_a.history[\"loss\"]))\n"
   ]
  },
  {
   "cell_type": "code",
   "execution_count": 165,
   "metadata": {},
   "outputs": [
    {
     "name": "stdout",
     "output_type": "stream",
     "text": [
      "Minimum loss at learning rate 3.1622776601683797e-07\n"
     ]
    }
   ],
   "source": [
    "min_loss = history_a.history[\"loss\"].index(45.50991349512217)\n",
    "print(\"Minimum loss at learning rate {}\".format(lrs[min_loss]))"
   ]
  },
  {
   "cell_type": "code",
   "execution_count": 166,
   "metadata": {},
   "outputs": [],
   "source": [
    "tuned_learning_rate = 3e-7"
   ]
  },
  {
   "cell_type": "markdown",
   "metadata": {},
   "source": [
    "## Adjust the learning rate \n",
    "After finding the right value for Learning Rate, train again with the new value amnd check the performance metrics"
   ]
  },
  {
   "cell_type": "code",
   "execution_count": 167,
   "metadata": {},
   "outputs": [],
   "source": [
    "window_size = 30"
   ]
  },
  {
   "cell_type": "code",
   "execution_count": 168,
   "metadata": {},
   "outputs": [],
   "source": [
    "# Create a new windowed dataset\n",
    "new_dataset = windowed_dataset(x_train, window_size, batch_size, shuffle_buffer_size)"
   ]
  },
  {
   "cell_type": "code",
   "execution_count": 169,
   "metadata": {},
   "outputs": [],
   "source": [
    "# Create a model with 3 layers \n",
    "model = tf.keras.models.Sequential([\n",
    "  tf.keras.layers.Dense(10, activation=\"relu\", input_shape=[window_size]),\n",
    "  tf.keras.layers.Dense(10, activation=\"relu\"),\n",
    "  tf.keras.layers.Dense(1)\n",
    "])"
   ]
  },
  {
   "cell_type": "code",
   "execution_count": 170,
   "metadata": {},
   "outputs": [],
   "source": [
    "# Create the optimizer with the new learning rate after tuning \n",
    "optimizer = tf.keras.optimizers.SGD(lr=tuned_learning_rate, momentum=0.9)"
   ]
  },
  {
   "cell_type": "code",
   "execution_count": 171,
   "metadata": {},
   "outputs": [],
   "source": [
    "# Configure the model with MSE loss and SGD optimizer\n",
    "model.compile(loss=\"mse\", optimizer=optimizer)"
   ]
  },
  {
   "cell_type": "code",
   "execution_count": 172,
   "metadata": {},
   "outputs": [
    {
     "name": "stdout",
     "output_type": "stream",
     "text": [
      "Epoch 1/500\n",
      "31/31 [==============================] - 0s 12ms/step - loss: 604.2860\n",
      "Epoch 2/500\n",
      "31/31 [==============================] - 0s 4ms/step - loss: 149.7525\n",
      "Epoch 3/500\n",
      "31/31 [==============================] - 0s 4ms/step - loss: 116.8868\n",
      "Epoch 4/500\n",
      "31/31 [==============================] - 0s 4ms/step - loss: 109.6739\n",
      "Epoch 5/500\n",
      "31/31 [==============================] - 0s 4ms/step - loss: 105.9975\n",
      "Epoch 6/500\n",
      "31/31 [==============================] - 0s 4ms/step - loss: 99.5968\n",
      "Epoch 7/500\n",
      "31/31 [==============================] - 0s 4ms/step - loss: 95.9627\n",
      "Epoch 8/500\n",
      "31/31 [==============================] - 0s 4ms/step - loss: 92.6722\n",
      "Epoch 9/500\n",
      "31/31 [==============================] - 0s 4ms/step - loss: 88.9734\n",
      "Epoch 10/500\n",
      "31/31 [==============================] - 0s 4ms/step - loss: 86.6210\n",
      "Epoch 11/500\n",
      "31/31 [==============================] - 0s 4ms/step - loss: 83.8826\n",
      "Epoch 12/500\n",
      "31/31 [==============================] - 0s 4ms/step - loss: 82.3499\n",
      "Epoch 13/500\n",
      "31/31 [==============================] - 0s 4ms/step - loss: 80.3882\n",
      "Epoch 14/500\n",
      "31/31 [==============================] - 0s 4ms/step - loss: 76.3106\n",
      "Epoch 15/500\n",
      "31/31 [==============================] - 0s 4ms/step - loss: 76.9462\n",
      "Epoch 16/500\n",
      "31/31 [==============================] - 0s 4ms/step - loss: 75.4278\n",
      "Epoch 17/500\n",
      "31/31 [==============================] - 0s 4ms/step - loss: 73.9256\n",
      "Epoch 18/500\n",
      "31/31 [==============================] - 0s 4ms/step - loss: 72.9700\n",
      "Epoch 19/500\n",
      "31/31 [==============================] - 0s 4ms/step - loss: 71.5858\n",
      "Epoch 20/500\n",
      "31/31 [==============================] - 0s 4ms/step - loss: 70.2252\n",
      "Epoch 21/500\n",
      "31/31 [==============================] - 0s 4ms/step - loss: 69.6139\n",
      "Epoch 22/500\n",
      "31/31 [==============================] - 0s 4ms/step - loss: 68.0843\n",
      "Epoch 23/500\n",
      "31/31 [==============================] - 0s 4ms/step - loss: 67.8404\n",
      "Epoch 24/500\n",
      "31/31 [==============================] - 0s 4ms/step - loss: 66.5120\n",
      "Epoch 25/500\n",
      "31/31 [==============================] - 0s 4ms/step - loss: 65.8735\n",
      "Epoch 26/500\n",
      "31/31 [==============================] - 0s 5ms/step - loss: 64.6731\n",
      "Epoch 27/500\n",
      "31/31 [==============================] - 0s 5ms/step - loss: 65.0967\n",
      "Epoch 28/500\n",
      "31/31 [==============================] - 0s 4ms/step - loss: 64.6479\n",
      "Epoch 29/500\n",
      "31/31 [==============================] - 0s 4ms/step - loss: 63.7925\n",
      "Epoch 30/500\n",
      "31/31 [==============================] - 0s 4ms/step - loss: 63.7159\n",
      "Epoch 31/500\n",
      "31/31 [==============================] - 0s 4ms/step - loss: 62.9381\n",
      "Epoch 32/500\n",
      "31/31 [==============================] - 0s 4ms/step - loss: 62.2112\n",
      "Epoch 33/500\n",
      "31/31 [==============================] - 0s 4ms/step - loss: 61.9971\n",
      "Epoch 34/500\n",
      "31/31 [==============================] - 0s 4ms/step - loss: 61.6798\n",
      "Epoch 35/500\n",
      "31/31 [==============================] - 0s 4ms/step - loss: 61.3208\n",
      "Epoch 36/500\n",
      "31/31 [==============================] - 0s 4ms/step - loss: 60.9762\n",
      "Epoch 37/500\n",
      "31/31 [==============================] - 0s 4ms/step - loss: 60.6902\n",
      "Epoch 38/500\n",
      "31/31 [==============================] - 0s 4ms/step - loss: 59.9352\n",
      "Epoch 39/500\n",
      "31/31 [==============================] - 0s 4ms/step - loss: 59.2894\n",
      "Epoch 40/500\n",
      "31/31 [==============================] - 0s 4ms/step - loss: 59.2495\n",
      "Epoch 41/500\n",
      "31/31 [==============================] - 0s 4ms/step - loss: 59.1207\n",
      "Epoch 42/500\n",
      "31/31 [==============================] - 0s 4ms/step - loss: 58.7354\n",
      "Epoch 43/500\n",
      "31/31 [==============================] - 0s 4ms/step - loss: 58.4605\n",
      "Epoch 44/500\n",
      "31/31 [==============================] - 0s 4ms/step - loss: 58.1527\n",
      "Epoch 45/500\n",
      "31/31 [==============================] - 0s 5ms/step - loss: 58.4718\n",
      "Epoch 46/500\n",
      "31/31 [==============================] - 0s 5ms/step - loss: 57.9182\n",
      "Epoch 47/500\n",
      "31/31 [==============================] - 0s 4ms/step - loss: 57.6695\n",
      "Epoch 48/500\n",
      "31/31 [==============================] - 0s 5ms/step - loss: 57.0331\n",
      "Epoch 49/500\n",
      "31/31 [==============================] - 0s 5ms/step - loss: 57.1449\n",
      "Epoch 50/500\n",
      "31/31 [==============================] - 0s 4ms/step - loss: 57.6992\n",
      "Epoch 51/500\n",
      "31/31 [==============================] - 0s 4ms/step - loss: 56.9954\n",
      "Epoch 52/500\n",
      "31/31 [==============================] - 0s 4ms/step - loss: 56.5226\n",
      "Epoch 53/500\n",
      "31/31 [==============================] - 0s 4ms/step - loss: 56.4527\n",
      "Epoch 54/500\n",
      "31/31 [==============================] - 0s 4ms/step - loss: 56.1989\n",
      "Epoch 55/500\n",
      "31/31 [==============================] - 0s 4ms/step - loss: 56.6056\n",
      "Epoch 56/500\n",
      "31/31 [==============================] - 0s 4ms/step - loss: 55.9401\n",
      "Epoch 57/500\n",
      "31/31 [==============================] - 0s 4ms/step - loss: 55.8412\n",
      "Epoch 58/500\n",
      "31/31 [==============================] - 0s 4ms/step - loss: 55.7334\n",
      "Epoch 59/500\n",
      "31/31 [==============================] - 0s 4ms/step - loss: 55.2757\n",
      "Epoch 60/500\n",
      "31/31 [==============================] - 0s 4ms/step - loss: 55.1127\n",
      "Epoch 61/500\n",
      "31/31 [==============================] - 0s 4ms/step - loss: 54.7328\n",
      "Epoch 62/500\n",
      "31/31 [==============================] - 0s 4ms/step - loss: 54.5690\n",
      "Epoch 63/500\n",
      "31/31 [==============================] - 0s 4ms/step - loss: 53.8501\n",
      "Epoch 64/500\n",
      "31/31 [==============================] - 0s 4ms/step - loss: 54.7573\n",
      "Epoch 65/500\n",
      "31/31 [==============================] - 0s 4ms/step - loss: 53.9700\n",
      "Epoch 66/500\n",
      "31/31 [==============================] - 0s 4ms/step - loss: 54.4184\n",
      "Epoch 67/500\n",
      "31/31 [==============================] - 0s 4ms/step - loss: 54.1481\n",
      "Epoch 68/500\n",
      "31/31 [==============================] - 0s 4ms/step - loss: 53.8340\n",
      "Epoch 69/500\n",
      "31/31 [==============================] - 0s 5ms/step - loss: 53.4392\n",
      "Epoch 70/500\n",
      "31/31 [==============================] - 0s 4ms/step - loss: 53.7289\n",
      "Epoch 71/500\n",
      "31/31 [==============================] - 0s 5ms/step - loss: 53.4848\n",
      "Epoch 72/500\n",
      "31/31 [==============================] - 0s 5ms/step - loss: 53.3309\n",
      "Epoch 73/500\n",
      "31/31 [==============================] - 0s 5ms/step - loss: 53.4250\n",
      "Epoch 74/500\n",
      "31/31 [==============================] - 0s 4ms/step - loss: 52.7895\n",
      "Epoch 75/500\n",
      "31/31 [==============================] - 0s 4ms/step - loss: 53.8059\n",
      "Epoch 76/500\n",
      "31/31 [==============================] - 0s 4ms/step - loss: 52.9692\n",
      "Epoch 77/500\n",
      "31/31 [==============================] - 0s 4ms/step - loss: 52.6272\n",
      "Epoch 78/500\n",
      "31/31 [==============================] - 0s 4ms/step - loss: 52.0743\n",
      "Epoch 79/500\n",
      "31/31 [==============================] - 0s 4ms/step - loss: 52.4946\n",
      "Epoch 80/500\n",
      "31/31 [==============================] - 0s 5ms/step - loss: 52.6433\n",
      "Epoch 81/500\n",
      "31/31 [==============================] - 0s 5ms/step - loss: 52.4873\n",
      "Epoch 82/500\n",
      "31/31 [==============================] - 0s 4ms/step - loss: 51.8909\n",
      "Epoch 83/500\n",
      "31/31 [==============================] - 0s 4ms/step - loss: 51.7852\n",
      "Epoch 84/500\n",
      "31/31 [==============================] - 0s 4ms/step - loss: 52.0788\n",
      "Epoch 85/500\n",
      "31/31 [==============================] - 0s 4ms/step - loss: 51.5631\n",
      "Epoch 86/500\n",
      "31/31 [==============================] - 0s 4ms/step - loss: 51.4289\n",
      "Epoch 87/500\n",
      "31/31 [==============================] - 0s 4ms/step - loss: 51.1213\n",
      "Epoch 88/500\n",
      "31/31 [==============================] - 0s 4ms/step - loss: 50.9765\n",
      "Epoch 89/500\n",
      "31/31 [==============================] - 0s 4ms/step - loss: 51.2769\n",
      "Epoch 90/500\n",
      "31/31 [==============================] - 0s 4ms/step - loss: 51.1718\n",
      "Epoch 91/500\n",
      "31/31 [==============================] - 0s 4ms/step - loss: 50.8479\n",
      "Epoch 92/500\n",
      "31/31 [==============================] - 0s 4ms/step - loss: 51.0295\n",
      "Epoch 93/500\n",
      "31/31 [==============================] - 0s 4ms/step - loss: 50.6084\n",
      "Epoch 94/500\n",
      "31/31 [==============================] - 0s 4ms/step - loss: 49.9731\n",
      "Epoch 95/500\n",
      "31/31 [==============================] - 0s 4ms/step - loss: 50.7725\n",
      "Epoch 96/500\n",
      "31/31 [==============================] - 0s 4ms/step - loss: 51.0755\n",
      "Epoch 97/500\n",
      "31/31 [==============================] - 0s 4ms/step - loss: 50.5736\n",
      "Epoch 98/500\n",
      "31/31 [==============================] - 0s 4ms/step - loss: 50.5889\n",
      "Epoch 99/500\n",
      "31/31 [==============================] - 0s 4ms/step - loss: 50.0534\n",
      "Epoch 100/500\n"
     ]
    },
    {
     "name": "stdout",
     "output_type": "stream",
     "text": [
      "31/31 [==============================] - 0s 4ms/step - loss: 49.8908\n",
      "Epoch 101/500\n",
      "31/31 [==============================] - 0s 4ms/step - loss: 50.4237\n",
      "Epoch 102/500\n",
      "31/31 [==============================] - 0s 4ms/step - loss: 49.8666\n",
      "Epoch 103/500\n",
      "31/31 [==============================] - 0s 4ms/step - loss: 50.3802\n",
      "Epoch 104/500\n",
      "31/31 [==============================] - 0s 4ms/step - loss: 49.6084\n",
      "Epoch 105/500\n",
      "31/31 [==============================] - 0s 4ms/step - loss: 49.5439\n",
      "Epoch 106/500\n",
      "31/31 [==============================] - 0s 4ms/step - loss: 49.8258\n",
      "Epoch 107/500\n",
      "31/31 [==============================] - 0s 4ms/step - loss: 49.9640\n",
      "Epoch 108/500\n",
      "31/31 [==============================] - 0s 4ms/step - loss: 49.9769\n",
      "Epoch 109/500\n",
      "31/31 [==============================] - 0s 4ms/step - loss: 49.1385\n",
      "Epoch 110/500\n",
      "31/31 [==============================] - 0s 4ms/step - loss: 49.9734\n",
      "Epoch 111/500\n",
      "31/31 [==============================] - 0s 4ms/step - loss: 49.4943\n",
      "Epoch 112/500\n",
      "31/31 [==============================] - 0s 4ms/step - loss: 49.3644\n",
      "Epoch 113/500\n",
      "31/31 [==============================] - 0s 4ms/step - loss: 49.2205\n",
      "Epoch 114/500\n",
      "31/31 [==============================] - 0s 4ms/step - loss: 49.2471\n",
      "Epoch 115/500\n",
      "31/31 [==============================] - 0s 4ms/step - loss: 49.2503\n",
      "Epoch 116/500\n",
      "31/31 [==============================] - 0s 4ms/step - loss: 49.2105\n",
      "Epoch 117/500\n",
      "31/31 [==============================] - 0s 4ms/step - loss: 49.4831\n",
      "Epoch 118/500\n",
      "31/31 [==============================] - 0s 4ms/step - loss: 48.8243\n",
      "Epoch 119/500\n",
      "31/31 [==============================] - 0s 4ms/step - loss: 49.1459\n",
      "Epoch 120/500\n",
      "31/31 [==============================] - 0s 4ms/step - loss: 48.8454\n",
      "Epoch 121/500\n",
      "31/31 [==============================] - 0s 4ms/step - loss: 48.7980\n",
      "Epoch 122/500\n",
      "31/31 [==============================] - 0s 4ms/step - loss: 48.7009\n",
      "Epoch 123/500\n",
      "31/31 [==============================] - 0s 4ms/step - loss: 48.8677\n",
      "Epoch 124/500\n",
      "31/31 [==============================] - 0s 4ms/step - loss: 49.0859\n",
      "Epoch 125/500\n",
      "31/31 [==============================] - 0s 4ms/step - loss: 48.7097\n",
      "Epoch 126/500\n",
      "31/31 [==============================] - 0s 4ms/step - loss: 48.5165\n",
      "Epoch 127/500\n",
      "31/31 [==============================] - 0s 4ms/step - loss: 48.5229\n",
      "Epoch 128/500\n",
      "31/31 [==============================] - 0s 4ms/step - loss: 48.9087\n",
      "Epoch 129/500\n",
      "31/31 [==============================] - 0s 4ms/step - loss: 48.7038\n",
      "Epoch 130/500\n",
      "31/31 [==============================] - 0s 4ms/step - loss: 48.6866\n",
      "Epoch 131/500\n",
      "31/31 [==============================] - 0s 4ms/step - loss: 48.0711\n",
      "Epoch 132/500\n",
      "31/31 [==============================] - 0s 4ms/step - loss: 48.3320\n",
      "Epoch 133/500\n",
      "31/31 [==============================] - 0s 4ms/step - loss: 48.2585\n",
      "Epoch 134/500\n",
      "31/31 [==============================] - 0s 4ms/step - loss: 48.0953\n",
      "Epoch 135/500\n",
      "31/31 [==============================] - 0s 4ms/step - loss: 48.0048\n",
      "Epoch 136/500\n",
      "31/31 [==============================] - 0s 4ms/step - loss: 47.9542\n",
      "Epoch 137/500\n",
      "31/31 [==============================] - 0s 4ms/step - loss: 46.6532\n",
      "Epoch 138/500\n",
      "31/31 [==============================] - 0s 4ms/step - loss: 47.7967\n",
      "Epoch 139/500\n",
      "31/31 [==============================] - 0s 4ms/step - loss: 47.9857\n",
      "Epoch 140/500\n",
      "31/31 [==============================] - 0s 4ms/step - loss: 48.2795\n",
      "Epoch 141/500\n",
      "31/31 [==============================] - 0s 4ms/step - loss: 47.4859\n",
      "Epoch 142/500\n",
      "31/31 [==============================] - 0s 4ms/step - loss: 47.6610\n",
      "Epoch 143/500\n",
      "31/31 [==============================] - 0s 4ms/step - loss: 47.6669\n",
      "Epoch 144/500\n",
      "31/31 [==============================] - 0s 4ms/step - loss: 47.7919\n",
      "Epoch 145/500\n",
      "31/31 [==============================] - 0s 4ms/step - loss: 47.7879\n",
      "Epoch 146/500\n",
      "31/31 [==============================] - 0s 4ms/step - loss: 47.8996\n",
      "Epoch 147/500\n",
      "31/31 [==============================] - 0s 4ms/step - loss: 47.3353\n",
      "Epoch 148/500\n",
      "31/31 [==============================] - 0s 4ms/step - loss: 47.6558\n",
      "Epoch 149/500\n",
      "31/31 [==============================] - 0s 4ms/step - loss: 47.2764\n",
      "Epoch 150/500\n",
      "31/31 [==============================] - 0s 4ms/step - loss: 47.1588\n",
      "Epoch 151/500\n",
      "31/31 [==============================] - 0s 4ms/step - loss: 47.3200\n",
      "Epoch 152/500\n",
      "31/31 [==============================] - 0s 4ms/step - loss: 47.0646\n",
      "Epoch 153/500\n",
      "31/31 [==============================] - 0s 4ms/step - loss: 47.0280\n",
      "Epoch 154/500\n",
      "31/31 [==============================] - 0s 4ms/step - loss: 47.0147\n",
      "Epoch 155/500\n",
      "31/31 [==============================] - 0s 4ms/step - loss: 47.0202\n",
      "Epoch 156/500\n",
      "31/31 [==============================] - 0s 4ms/step - loss: 47.0023\n",
      "Epoch 157/500\n",
      "31/31 [==============================] - 0s 4ms/step - loss: 46.9260\n",
      "Epoch 158/500\n",
      "31/31 [==============================] - 0s 4ms/step - loss: 46.7825\n",
      "Epoch 159/500\n",
      "31/31 [==============================] - 0s 4ms/step - loss: 46.7837\n",
      "Epoch 160/500\n",
      "31/31 [==============================] - 0s 4ms/step - loss: 47.0247\n",
      "Epoch 161/500\n",
      "31/31 [==============================] - 0s 4ms/step - loss: 46.8480\n",
      "Epoch 162/500\n",
      "31/31 [==============================] - 0s 4ms/step - loss: 46.9381\n",
      "Epoch 163/500\n",
      "31/31 [==============================] - 0s 4ms/step - loss: 47.0147\n",
      "Epoch 164/500\n",
      "31/31 [==============================] - 0s 4ms/step - loss: 46.9793\n",
      "Epoch 165/500\n",
      "31/31 [==============================] - 0s 4ms/step - loss: 47.0111\n",
      "Epoch 166/500\n",
      "31/31 [==============================] - 0s 4ms/step - loss: 46.5505\n",
      "Epoch 167/500\n",
      "31/31 [==============================] - 0s 4ms/step - loss: 46.5715\n",
      "Epoch 168/500\n",
      "31/31 [==============================] - 0s 4ms/step - loss: 46.7292\n",
      "Epoch 169/500\n",
      "31/31 [==============================] - 0s 4ms/step - loss: 44.9406\n",
      "Epoch 170/500\n",
      "31/31 [==============================] - 0s 4ms/step - loss: 46.7350\n",
      "Epoch 171/500\n",
      "31/31 [==============================] - 0s 4ms/step - loss: 46.4451\n",
      "Epoch 172/500\n",
      "31/31 [==============================] - 0s 4ms/step - loss: 46.4134\n",
      "Epoch 173/500\n",
      "31/31 [==============================] - 0s 5ms/step - loss: 46.3723\n",
      "Epoch 174/500\n",
      "31/31 [==============================] - 0s 5ms/step - loss: 46.7183\n",
      "Epoch 175/500\n",
      "31/31 [==============================] - 0s 5ms/step - loss: 46.7566\n",
      "Epoch 176/500\n",
      "31/31 [==============================] - 0s 4ms/step - loss: 46.4657\n",
      "Epoch 177/500\n",
      "31/31 [==============================] - 0s 4ms/step - loss: 46.6898\n",
      "Epoch 178/500\n",
      "31/31 [==============================] - 0s 5ms/step - loss: 45.8803\n",
      "Epoch 179/500\n",
      "31/31 [==============================] - 0s 4ms/step - loss: 46.0008\n",
      "Epoch 180/500\n",
      "31/31 [==============================] - 0s 4ms/step - loss: 46.0125\n",
      "Epoch 181/500\n",
      "31/31 [==============================] - 0s 4ms/step - loss: 44.9407\n",
      "Epoch 182/500\n",
      "31/31 [==============================] - 0s 4ms/step - loss: 46.1095\n",
      "Epoch 183/500\n",
      "31/31 [==============================] - 0s 4ms/step - loss: 46.0273\n",
      "Epoch 184/500\n",
      "31/31 [==============================] - 0s 4ms/step - loss: 44.3847\n",
      "Epoch 185/500\n",
      "31/31 [==============================] - 0s 4ms/step - loss: 45.6968\n",
      "Epoch 186/500\n",
      "31/31 [==============================] - 0s 4ms/step - loss: 46.1502\n",
      "Epoch 187/500\n",
      "31/31 [==============================] - 0s 4ms/step - loss: 46.1144\n",
      "Epoch 188/500\n",
      "31/31 [==============================] - 0s 4ms/step - loss: 46.0118\n",
      "Epoch 189/500\n",
      "31/31 [==============================] - 0s 5ms/step - loss: 45.9909\n",
      "Epoch 190/500\n",
      "31/31 [==============================] - 0s 4ms/step - loss: 45.9685\n",
      "Epoch 191/500\n",
      "31/31 [==============================] - 0s 4ms/step - loss: 46.0852\n",
      "Epoch 192/500\n",
      "31/31 [==============================] - 0s 4ms/step - loss: 45.8039\n",
      "Epoch 193/500\n",
      "31/31 [==============================] - 0s 4ms/step - loss: 45.7874\n",
      "Epoch 194/500\n",
      "31/31 [==============================] - 0s 4ms/step - loss: 45.6186\n",
      "Epoch 195/500\n",
      "31/31 [==============================] - 0s 4ms/step - loss: 45.4564\n",
      "Epoch 196/500\n",
      "31/31 [==============================] - 0s 4ms/step - loss: 45.5463\n",
      "Epoch 197/500\n",
      "31/31 [==============================] - 0s 4ms/step - loss: 45.7037\n",
      "Epoch 198/500\n"
     ]
    },
    {
     "name": "stdout",
     "output_type": "stream",
     "text": [
      "31/31 [==============================] - 0s 4ms/step - loss: 45.0206\n",
      "Epoch 199/500\n",
      "31/31 [==============================] - 0s 4ms/step - loss: 45.3015\n",
      "Epoch 200/500\n",
      "31/31 [==============================] - 0s 4ms/step - loss: 45.4812\n",
      "Epoch 201/500\n",
      "31/31 [==============================] - 0s 4ms/step - loss: 45.9250\n",
      "Epoch 202/500\n",
      "31/31 [==============================] - 0s 4ms/step - loss: 45.4835\n",
      "Epoch 203/500\n",
      "31/31 [==============================] - 0s 4ms/step - loss: 45.2927\n",
      "Epoch 204/500\n",
      "31/31 [==============================] - 0s 4ms/step - loss: 45.9988\n",
      "Epoch 205/500\n",
      "31/31 [==============================] - 0s 4ms/step - loss: 44.9663\n",
      "Epoch 206/500\n",
      "31/31 [==============================] - 0s 4ms/step - loss: 45.3095\n",
      "Epoch 207/500\n",
      "31/31 [==============================] - 0s 4ms/step - loss: 45.4540\n",
      "Epoch 208/500\n",
      "31/31 [==============================] - 0s 4ms/step - loss: 44.9983\n",
      "Epoch 209/500\n",
      "31/31 [==============================] - 0s 4ms/step - loss: 44.8389\n",
      "Epoch 210/500\n",
      "31/31 [==============================] - 0s 4ms/step - loss: 45.1279\n",
      "Epoch 211/500\n",
      "31/31 [==============================] - 0s 4ms/step - loss: 45.1492\n",
      "Epoch 212/500\n",
      "31/31 [==============================] - 0s 4ms/step - loss: 45.2384\n",
      "Epoch 213/500\n",
      "31/31 [==============================] - 0s 4ms/step - loss: 45.0118\n",
      "Epoch 214/500\n",
      "31/31 [==============================] - 0s 4ms/step - loss: 45.2228\n",
      "Epoch 215/500\n",
      "31/31 [==============================] - 0s 4ms/step - loss: 45.1717\n",
      "Epoch 216/500\n",
      "31/31 [==============================] - 0s 4ms/step - loss: 45.4025\n",
      "Epoch 217/500\n",
      "31/31 [==============================] - 0s 4ms/step - loss: 45.0843\n",
      "Epoch 218/500\n",
      "31/31 [==============================] - 0s 4ms/step - loss: 45.0368\n",
      "Epoch 219/500\n",
      "31/31 [==============================] - 0s 4ms/step - loss: 45.0004\n",
      "Epoch 220/500\n",
      "31/31 [==============================] - 0s 4ms/step - loss: 45.1594\n",
      "Epoch 221/500\n",
      "31/31 [==============================] - 0s 4ms/step - loss: 45.0327\n",
      "Epoch 222/500\n",
      "31/31 [==============================] - 0s 4ms/step - loss: 45.1311\n",
      "Epoch 223/500\n",
      "31/31 [==============================] - 0s 4ms/step - loss: 45.4379\n",
      "Epoch 224/500\n",
      "31/31 [==============================] - 0s 4ms/step - loss: 44.1875\n",
      "Epoch 225/500\n",
      "31/31 [==============================] - 0s 4ms/step - loss: 45.0436\n",
      "Epoch 226/500\n",
      "31/31 [==============================] - 0s 4ms/step - loss: 44.9095\n",
      "Epoch 227/500\n",
      "31/31 [==============================] - 0s 4ms/step - loss: 44.3855\n",
      "Epoch 228/500\n",
      "31/31 [==============================] - 0s 4ms/step - loss: 44.7773\n",
      "Epoch 229/500\n",
      "31/31 [==============================] - 0s 4ms/step - loss: 45.2943\n",
      "Epoch 230/500\n",
      "31/31 [==============================] - 0s 4ms/step - loss: 44.3901\n",
      "Epoch 231/500\n",
      "31/31 [==============================] - 0s 4ms/step - loss: 44.7751\n",
      "Epoch 232/500\n",
      "31/31 [==============================] - 0s 4ms/step - loss: 44.9377\n",
      "Epoch 233/500\n",
      "31/31 [==============================] - 0s 4ms/step - loss: 45.1123\n",
      "Epoch 234/500\n",
      "31/31 [==============================] - 0s 4ms/step - loss: 44.7109\n",
      "Epoch 235/500\n",
      "31/31 [==============================] - 0s 4ms/step - loss: 44.7590\n",
      "Epoch 236/500\n",
      "31/31 [==============================] - 0s 4ms/step - loss: 44.4677\n",
      "Epoch 237/500\n",
      "31/31 [==============================] - 0s 4ms/step - loss: 44.4523\n",
      "Epoch 238/500\n",
      "31/31 [==============================] - 0s 4ms/step - loss: 44.0483\n",
      "Epoch 239/500\n",
      "31/31 [==============================] - 0s 4ms/step - loss: 44.6630\n",
      "Epoch 240/500\n",
      "31/31 [==============================] - 0s 4ms/step - loss: 44.4132\n",
      "Epoch 241/500\n",
      "31/31 [==============================] - 0s 5ms/step - loss: 42.4961\n",
      "Epoch 242/500\n",
      "31/31 [==============================] - 0s 4ms/step - loss: 44.3588\n",
      "Epoch 243/500\n",
      "31/31 [==============================] - 0s 4ms/step - loss: 44.8994\n",
      "Epoch 244/500\n",
      "31/31 [==============================] - 0s 4ms/step - loss: 44.3365\n",
      "Epoch 245/500\n",
      "31/31 [==============================] - 0s 4ms/step - loss: 44.4351\n",
      "Epoch 246/500\n",
      "31/31 [==============================] - 0s 4ms/step - loss: 44.9209\n",
      "Epoch 247/500\n",
      "31/31 [==============================] - 0s 4ms/step - loss: 44.3899\n",
      "Epoch 248/500\n",
      "31/31 [==============================] - 0s 4ms/step - loss: 44.2200\n",
      "Epoch 249/500\n",
      "31/31 [==============================] - 0s 4ms/step - loss: 44.0526\n",
      "Epoch 250/500\n",
      "31/31 [==============================] - 0s 4ms/step - loss: 44.4290\n",
      "Epoch 251/500\n",
      "31/31 [==============================] - 0s 4ms/step - loss: 43.7746\n",
      "Epoch 252/500\n",
      "31/31 [==============================] - 0s 4ms/step - loss: 44.0755\n",
      "Epoch 253/500\n",
      "31/31 [==============================] - 0s 4ms/step - loss: 44.6129\n",
      "Epoch 254/500\n",
      "31/31 [==============================] - 0s 4ms/step - loss: 44.0106\n",
      "Epoch 255/500\n",
      "31/31 [==============================] - 0s 4ms/step - loss: 44.0690\n",
      "Epoch 256/500\n",
      "31/31 [==============================] - 0s 4ms/step - loss: 44.2630\n",
      "Epoch 257/500\n",
      "31/31 [==============================] - 0s 4ms/step - loss: 44.0674\n",
      "Epoch 258/500\n",
      "31/31 [==============================] - 0s 4ms/step - loss: 44.1096\n",
      "Epoch 259/500\n",
      "31/31 [==============================] - 0s 4ms/step - loss: 44.0507\n",
      "Epoch 260/500\n",
      "31/31 [==============================] - 0s 4ms/step - loss: 44.1255\n",
      "Epoch 261/500\n",
      "31/31 [==============================] - 0s 4ms/step - loss: 43.8737\n",
      "Epoch 262/500\n",
      "31/31 [==============================] - 0s 4ms/step - loss: 43.7912\n",
      "Epoch 263/500\n",
      "31/31 [==============================] - 0s 4ms/step - loss: 43.9593\n",
      "Epoch 264/500\n",
      "31/31 [==============================] - 0s 4ms/step - loss: 44.0011\n",
      "Epoch 265/500\n",
      "31/31 [==============================] - 0s 4ms/step - loss: 44.2586\n",
      "Epoch 266/500\n",
      "31/31 [==============================] - 0s 4ms/step - loss: 44.4981\n",
      "Epoch 267/500\n",
      "31/31 [==============================] - 0s 4ms/step - loss: 43.9193\n",
      "Epoch 268/500\n",
      "31/31 [==============================] - 0s 4ms/step - loss: 43.6972\n",
      "Epoch 269/500\n",
      "31/31 [==============================] - 0s 4ms/step - loss: 43.7404\n",
      "Epoch 270/500\n",
      "31/31 [==============================] - 0s 4ms/step - loss: 43.5698\n",
      "Epoch 271/500\n",
      "31/31 [==============================] - 0s 4ms/step - loss: 43.7839\n",
      "Epoch 272/500\n",
      "31/31 [==============================] - 0s 4ms/step - loss: 43.6863\n",
      "Epoch 273/500\n",
      "31/31 [==============================] - 0s 4ms/step - loss: 44.1337\n",
      "Epoch 274/500\n",
      "31/31 [==============================] - 0s 4ms/step - loss: 43.5003\n",
      "Epoch 275/500\n",
      "31/31 [==============================] - 0s 4ms/step - loss: 42.1260\n",
      "Epoch 276/500\n",
      "31/31 [==============================] - 0s 4ms/step - loss: 43.9433\n",
      "Epoch 277/500\n",
      "31/31 [==============================] - 0s 4ms/step - loss: 43.9477\n",
      "Epoch 278/500\n",
      "31/31 [==============================] - 0s 4ms/step - loss: 43.5541\n",
      "Epoch 279/500\n",
      "31/31 [==============================] - 0s 4ms/step - loss: 43.5195\n",
      "Epoch 280/500\n",
      "31/31 [==============================] - 0s 4ms/step - loss: 43.7952\n",
      "Epoch 281/500\n",
      "31/31 [==============================] - 0s 4ms/step - loss: 43.7212\n",
      "Epoch 282/500\n",
      "31/31 [==============================] - 0s 4ms/step - loss: 43.6661\n",
      "Epoch 283/500\n",
      "31/31 [==============================] - 0s 4ms/step - loss: 43.5924\n",
      "Epoch 284/500\n",
      "31/31 [==============================] - 0s 4ms/step - loss: 43.1386\n",
      "Epoch 285/500\n",
      "31/31 [==============================] - 0s 4ms/step - loss: 41.8206\n",
      "Epoch 286/500\n",
      "31/31 [==============================] - 0s 4ms/step - loss: 43.2024\n",
      "Epoch 287/500\n",
      "31/31 [==============================] - 0s 4ms/step - loss: 43.6132\n",
      "Epoch 288/500\n",
      "31/31 [==============================] - 0s 4ms/step - loss: 41.6661\n",
      "Epoch 289/500\n",
      "31/31 [==============================] - 0s 4ms/step - loss: 43.4358\n",
      "Epoch 290/500\n",
      "31/31 [==============================] - 0s 4ms/step - loss: 43.8555\n",
      "Epoch 291/500\n",
      "31/31 [==============================] - 0s 4ms/step - loss: 43.5777\n",
      "Epoch 292/500\n",
      "31/31 [==============================] - 0s 4ms/step - loss: 43.4259\n",
      "Epoch 293/500\n",
      "31/31 [==============================] - 0s 4ms/step - loss: 43.3427\n",
      "Epoch 294/500\n",
      "31/31 [==============================] - 0s 4ms/step - loss: 43.1089\n",
      "Epoch 295/500\n",
      "31/31 [==============================] - 0s 4ms/step - loss: 43.7381\n",
      "Epoch 296/500\n"
     ]
    },
    {
     "name": "stdout",
     "output_type": "stream",
     "text": [
      "31/31 [==============================] - 0s 4ms/step - loss: 43.6996\n",
      "Epoch 297/500\n",
      "31/31 [==============================] - 0s 4ms/step - loss: 43.8757\n",
      "Epoch 298/500\n",
      "31/31 [==============================] - 0s 4ms/step - loss: 43.2563\n",
      "Epoch 299/500\n",
      "31/31 [==============================] - 0s 4ms/step - loss: 43.4324\n",
      "Epoch 300/500\n",
      "31/31 [==============================] - 0s 4ms/step - loss: 43.2344\n",
      "Epoch 301/500\n",
      "31/31 [==============================] - 0s 4ms/step - loss: 43.4001\n",
      "Epoch 302/500\n",
      "31/31 [==============================] - 0s 4ms/step - loss: 43.1677\n",
      "Epoch 303/500\n",
      "31/31 [==============================] - 0s 4ms/step - loss: 43.3255\n",
      "Epoch 304/500\n",
      "31/31 [==============================] - 0s 4ms/step - loss: 43.1864\n",
      "Epoch 305/500\n",
      "31/31 [==============================] - 0s 4ms/step - loss: 43.1931\n",
      "Epoch 306/500\n",
      "31/31 [==============================] - 0s 4ms/step - loss: 43.1357\n",
      "Epoch 307/500\n",
      "31/31 [==============================] - 0s 4ms/step - loss: 42.6822\n",
      "Epoch 308/500\n",
      "31/31 [==============================] - 0s 4ms/step - loss: 43.0428\n",
      "Epoch 309/500\n",
      "31/31 [==============================] - 0s 4ms/step - loss: 43.0528\n",
      "Epoch 310/500\n",
      "31/31 [==============================] - 0s 4ms/step - loss: 43.1125\n",
      "Epoch 311/500\n",
      "31/31 [==============================] - 0s 4ms/step - loss: 43.2204\n",
      "Epoch 312/500\n",
      "31/31 [==============================] - 0s 4ms/step - loss: 42.7754\n",
      "Epoch 313/500\n",
      "31/31 [==============================] - 0s 4ms/step - loss: 42.9470\n",
      "Epoch 314/500\n",
      "31/31 [==============================] - 0s 4ms/step - loss: 42.6135\n",
      "Epoch 315/500\n",
      "31/31 [==============================] - 0s 4ms/step - loss: 43.2153\n",
      "Epoch 316/500\n",
      "31/31 [==============================] - 0s 4ms/step - loss: 43.1258\n",
      "Epoch 317/500\n",
      "31/31 [==============================] - 0s 4ms/step - loss: 42.8141\n",
      "Epoch 318/500\n",
      "31/31 [==============================] - 0s 4ms/step - loss: 43.0585\n",
      "Epoch 319/500\n",
      "31/31 [==============================] - 0s 4ms/step - loss: 43.1024\n",
      "Epoch 320/500\n",
      "31/31 [==============================] - 0s 4ms/step - loss: 42.9547\n",
      "Epoch 321/500\n",
      "31/31 [==============================] - 0s 4ms/step - loss: 42.8304\n",
      "Epoch 322/500\n",
      "31/31 [==============================] - 0s 4ms/step - loss: 42.8003\n",
      "Epoch 323/500\n",
      "31/31 [==============================] - 0s 4ms/step - loss: 42.8568\n",
      "Epoch 324/500\n",
      "31/31 [==============================] - 0s 4ms/step - loss: 43.0241\n",
      "Epoch 325/500\n",
      "31/31 [==============================] - 0s 4ms/step - loss: 42.6639\n",
      "Epoch 326/500\n",
      "31/31 [==============================] - 0s 4ms/step - loss: 42.9584\n",
      "Epoch 327/500\n",
      "31/31 [==============================] - 0s 4ms/step - loss: 40.8469\n",
      "Epoch 328/500\n",
      "31/31 [==============================] - 0s 4ms/step - loss: 43.0637\n",
      "Epoch 329/500\n",
      "31/31 [==============================] - 0s 4ms/step - loss: 43.1999\n",
      "Epoch 330/500\n",
      "31/31 [==============================] - 0s 4ms/step - loss: 42.9078\n",
      "Epoch 331/500\n",
      "31/31 [==============================] - 0s 4ms/step - loss: 42.8535\n",
      "Epoch 332/500\n",
      "31/31 [==============================] - 0s 4ms/step - loss: 42.9477\n",
      "Epoch 333/500\n",
      "31/31 [==============================] - 0s 4ms/step - loss: 43.0749\n",
      "Epoch 334/500\n",
      "31/31 [==============================] - 0s 4ms/step - loss: 43.4314\n",
      "Epoch 335/500\n",
      "31/31 [==============================] - 0s 4ms/step - loss: 42.1576\n",
      "Epoch 336/500\n",
      "31/31 [==============================] - 0s 4ms/step - loss: 42.9067\n",
      "Epoch 337/500\n",
      "31/31 [==============================] - 0s 4ms/step - loss: 42.9194\n",
      "Epoch 338/500\n",
      "31/31 [==============================] - 0s 4ms/step - loss: 42.6011\n",
      "Epoch 339/500\n",
      "31/31 [==============================] - 0s 4ms/step - loss: 42.7397\n",
      "Epoch 340/500\n",
      "31/31 [==============================] - 0s 4ms/step - loss: 42.8857\n",
      "Epoch 341/500\n",
      "31/31 [==============================] - 0s 4ms/step - loss: 42.4911\n",
      "Epoch 342/500\n",
      "31/31 [==============================] - 0s 4ms/step - loss: 42.6702\n",
      "Epoch 343/500\n",
      "31/31 [==============================] - 0s 4ms/step - loss: 42.9299\n",
      "Epoch 344/500\n",
      "31/31 [==============================] - 0s 4ms/step - loss: 42.4888\n",
      "Epoch 345/500\n",
      "31/31 [==============================] - 0s 4ms/step - loss: 42.7022\n",
      "Epoch 346/500\n",
      "31/31 [==============================] - 0s 4ms/step - loss: 42.8532\n",
      "Epoch 347/500\n",
      "31/31 [==============================] - 0s 4ms/step - loss: 42.5601\n",
      "Epoch 348/500\n",
      "31/31 [==============================] - 0s 4ms/step - loss: 42.8010\n",
      "Epoch 349/500\n",
      "31/31 [==============================] - 0s 4ms/step - loss: 42.5953\n",
      "Epoch 350/500\n",
      "31/31 [==============================] - 0s 4ms/step - loss: 42.8039\n",
      "Epoch 351/500\n",
      "31/31 [==============================] - 0s 4ms/step - loss: 42.3232\n",
      "Epoch 352/500\n",
      "31/31 [==============================] - 0s 4ms/step - loss: 42.6636\n",
      "Epoch 353/500\n",
      "31/31 [==============================] - 0s 4ms/step - loss: 42.7482\n",
      "Epoch 354/500\n",
      "31/31 [==============================] - 0s 4ms/step - loss: 42.6569\n",
      "Epoch 355/500\n",
      "31/31 [==============================] - 0s 4ms/step - loss: 42.4789\n",
      "Epoch 356/500\n",
      "31/31 [==============================] - 0s 4ms/step - loss: 42.5600\n",
      "Epoch 357/500\n",
      "31/31 [==============================] - 0s 4ms/step - loss: 42.4322\n",
      "Epoch 358/500\n",
      "31/31 [==============================] - 0s 4ms/step - loss: 42.5347\n",
      "Epoch 359/500\n",
      "31/31 [==============================] - 0s 4ms/step - loss: 42.5908\n",
      "Epoch 360/500\n",
      "31/31 [==============================] - 0s 4ms/step - loss: 42.3335\n",
      "Epoch 361/500\n",
      "31/31 [==============================] - 0s 4ms/step - loss: 42.5372\n",
      "Epoch 362/500\n",
      "31/31 [==============================] - 0s 4ms/step - loss: 42.4156\n",
      "Epoch 363/500\n",
      "31/31 [==============================] - 0s 4ms/step - loss: 42.2150\n",
      "Epoch 364/500\n",
      "31/31 [==============================] - 0s 4ms/step - loss: 42.3886\n",
      "Epoch 365/500\n",
      "31/31 [==============================] - 0s 4ms/step - loss: 42.8882\n",
      "Epoch 366/500\n",
      "31/31 [==============================] - 0s 4ms/step - loss: 42.2693\n",
      "Epoch 367/500\n",
      "31/31 [==============================] - 0s 4ms/step - loss: 42.2550\n",
      "Epoch 368/500\n",
      "31/31 [==============================] - 0s 4ms/step - loss: 42.5286\n",
      "Epoch 369/500\n",
      "31/31 [==============================] - 0s 4ms/step - loss: 42.5420\n",
      "Epoch 370/500\n",
      "31/31 [==============================] - 0s 4ms/step - loss: 42.3882\n",
      "Epoch 371/500\n",
      "31/31 [==============================] - 0s 4ms/step - loss: 42.2690\n",
      "Epoch 372/500\n",
      "31/31 [==============================] - 0s 4ms/step - loss: 42.5175\n",
      "Epoch 373/500\n",
      "31/31 [==============================] - 0s 4ms/step - loss: 42.3303\n",
      "Epoch 374/500\n",
      "31/31 [==============================] - 0s 4ms/step - loss: 42.0524\n",
      "Epoch 375/500\n",
      "31/31 [==============================] - 0s 4ms/step - loss: 40.6589\n",
      "Epoch 376/500\n",
      "31/31 [==============================] - 0s 4ms/step - loss: 42.6031\n",
      "Epoch 377/500\n",
      "31/31 [==============================] - 0s 4ms/step - loss: 42.4715\n",
      "Epoch 378/500\n",
      "31/31 [==============================] - 0s 4ms/step - loss: 42.1973\n",
      "Epoch 379/500\n",
      "31/31 [==============================] - 0s 4ms/step - loss: 41.9519\n",
      "Epoch 380/500\n",
      "31/31 [==============================] - 0s 4ms/step - loss: 42.2359\n",
      "Epoch 381/500\n",
      "31/31 [==============================] - 0s 4ms/step - loss: 42.5054\n",
      "Epoch 382/500\n",
      "31/31 [==============================] - 0s 4ms/step - loss: 41.9448\n",
      "Epoch 383/500\n",
      "31/31 [==============================] - 0s 4ms/step - loss: 42.3447\n",
      "Epoch 384/500\n",
      "31/31 [==============================] - 0s 4ms/step - loss: 42.2232\n",
      "Epoch 385/500\n",
      "31/31 [==============================] - 0s 4ms/step - loss: 41.9399\n",
      "Epoch 386/500\n",
      "31/31 [==============================] - 0s 4ms/step - loss: 42.2075\n",
      "Epoch 387/500\n",
      "31/31 [==============================] - 0s 4ms/step - loss: 42.1634\n",
      "Epoch 388/500\n",
      "31/31 [==============================] - 0s 4ms/step - loss: 42.2463\n",
      "Epoch 389/500\n",
      "31/31 [==============================] - 0s 4ms/step - loss: 42.2215\n",
      "Epoch 390/500\n",
      "31/31 [==============================] - 0s 4ms/step - loss: 41.9000\n",
      "Epoch 391/500\n",
      "31/31 [==============================] - 0s 4ms/step - loss: 41.9318\n",
      "Epoch 392/500\n",
      "31/31 [==============================] - 0s 4ms/step - loss: 42.2685\n",
      "Epoch 393/500\n",
      "31/31 [==============================] - 0s 4ms/step - loss: 42.2153\n",
      "Epoch 394/500\n"
     ]
    },
    {
     "name": "stdout",
     "output_type": "stream",
     "text": [
      "31/31 [==============================] - 0s 4ms/step - loss: 42.0820\n",
      "Epoch 395/500\n",
      "31/31 [==============================] - 0s 4ms/step - loss: 42.1349\n",
      "Epoch 396/500\n",
      "31/31 [==============================] - 0s 4ms/step - loss: 41.8622\n",
      "Epoch 397/500\n",
      "31/31 [==============================] - 0s 4ms/step - loss: 42.3105\n",
      "Epoch 398/500\n",
      "31/31 [==============================] - 0s 4ms/step - loss: 41.5607\n",
      "Epoch 399/500\n",
      "31/31 [==============================] - 0s 4ms/step - loss: 40.2672\n",
      "Epoch 400/500\n",
      "31/31 [==============================] - 0s 4ms/step - loss: 41.8317\n",
      "Epoch 401/500\n",
      "31/31 [==============================] - 0s 4ms/step - loss: 42.0196\n",
      "Epoch 402/500\n",
      "31/31 [==============================] - 0s 4ms/step - loss: 42.3270\n",
      "Epoch 403/500\n",
      "31/31 [==============================] - 0s 4ms/step - loss: 42.1487\n",
      "Epoch 404/500\n",
      "31/31 [==============================] - 0s 4ms/step - loss: 40.5888\n",
      "Epoch 405/500\n",
      "31/31 [==============================] - 0s 4ms/step - loss: 42.0993\n",
      "Epoch 406/500\n",
      "31/31 [==============================] - 0s 4ms/step - loss: 42.0120\n",
      "Epoch 407/500\n",
      "31/31 [==============================] - 0s 4ms/step - loss: 42.2564\n",
      "Epoch 408/500\n",
      "31/31 [==============================] - 0s 4ms/step - loss: 41.7417\n",
      "Epoch 409/500\n",
      "31/31 [==============================] - 0s 4ms/step - loss: 41.0166\n",
      "Epoch 410/500\n",
      "31/31 [==============================] - 0s 4ms/step - loss: 42.3594\n",
      "Epoch 411/500\n",
      "31/31 [==============================] - 0s 4ms/step - loss: 41.8199\n",
      "Epoch 412/500\n",
      "31/31 [==============================] - 0s 4ms/step - loss: 41.7264\n",
      "Epoch 413/500\n",
      "31/31 [==============================] - 0s 4ms/step - loss: 41.5556\n",
      "Epoch 414/500\n",
      "31/31 [==============================] - 0s 4ms/step - loss: 41.8792\n",
      "Epoch 415/500\n",
      "31/31 [==============================] - 0s 4ms/step - loss: 41.8516\n",
      "Epoch 416/500\n",
      "31/31 [==============================] - 0s 4ms/step - loss: 41.8066\n",
      "Epoch 417/500\n",
      "31/31 [==============================] - 0s 4ms/step - loss: 41.9755\n",
      "Epoch 418/500\n",
      "31/31 [==============================] - 0s 4ms/step - loss: 41.6371\n",
      "Epoch 419/500\n",
      "31/31 [==============================] - 0s 4ms/step - loss: 42.0260\n",
      "Epoch 420/500\n",
      "31/31 [==============================] - 0s 4ms/step - loss: 41.7525\n",
      "Epoch 421/500\n",
      "31/31 [==============================] - 0s 4ms/step - loss: 41.4901\n",
      "Epoch 422/500\n",
      "31/31 [==============================] - 0s 4ms/step - loss: 41.7326\n",
      "Epoch 423/500\n",
      "31/31 [==============================] - 0s 4ms/step - loss: 41.6760\n",
      "Epoch 424/500\n",
      "31/31 [==============================] - 0s 4ms/step - loss: 41.6802\n",
      "Epoch 425/500\n",
      "31/31 [==============================] - 0s 4ms/step - loss: 41.5600\n",
      "Epoch 426/500\n",
      "31/31 [==============================] - 0s 4ms/step - loss: 41.8200\n",
      "Epoch 427/500\n",
      "31/31 [==============================] - 0s 4ms/step - loss: 41.6957\n",
      "Epoch 428/500\n",
      "31/31 [==============================] - 0s 4ms/step - loss: 41.5780\n",
      "Epoch 429/500\n",
      "31/31 [==============================] - 0s 4ms/step - loss: 41.7606\n",
      "Epoch 430/500\n",
      "31/31 [==============================] - 0s 4ms/step - loss: 42.0779\n",
      "Epoch 431/500\n",
      "31/31 [==============================] - 0s 4ms/step - loss: 41.4633\n",
      "Epoch 432/500\n",
      "31/31 [==============================] - 0s 4ms/step - loss: 41.5816\n",
      "Epoch 433/500\n",
      "31/31 [==============================] - 0s 4ms/step - loss: 41.5559\n",
      "Epoch 434/500\n",
      "31/31 [==============================] - 0s 4ms/step - loss: 41.4006\n",
      "Epoch 435/500\n",
      "31/31 [==============================] - 0s 4ms/step - loss: 41.8150\n",
      "Epoch 436/500\n",
      "31/31 [==============================] - 0s 4ms/step - loss: 41.7310\n",
      "Epoch 437/500\n",
      "31/31 [==============================] - 0s 4ms/step - loss: 41.2896\n",
      "Epoch 438/500\n",
      "31/31 [==============================] - 0s 4ms/step - loss: 41.7077\n",
      "Epoch 439/500\n",
      "31/31 [==============================] - 0s 4ms/step - loss: 41.3224\n",
      "Epoch 440/500\n",
      "31/31 [==============================] - 0s 4ms/step - loss: 41.6328\n",
      "Epoch 441/500\n",
      "31/31 [==============================] - 0s 4ms/step - loss: 41.5089\n",
      "Epoch 442/500\n",
      "31/31 [==============================] - 0s 4ms/step - loss: 41.6314\n",
      "Epoch 443/500\n",
      "31/31 [==============================] - 0s 4ms/step - loss: 41.6186\n",
      "Epoch 444/500\n",
      "31/31 [==============================] - 0s 4ms/step - loss: 41.9739\n",
      "Epoch 445/500\n",
      "31/31 [==============================] - 0s 4ms/step - loss: 41.0037\n",
      "Epoch 446/500\n",
      "31/31 [==============================] - 0s 4ms/step - loss: 41.3697\n",
      "Epoch 447/500\n",
      "31/31 [==============================] - 0s 4ms/step - loss: 41.3090\n",
      "Epoch 448/500\n",
      "31/31 [==============================] - 0s 4ms/step - loss: 41.6117\n",
      "Epoch 449/500\n",
      "31/31 [==============================] - 0s 4ms/step - loss: 41.4133\n",
      "Epoch 450/500\n",
      "31/31 [==============================] - 0s 4ms/step - loss: 41.2542\n",
      "Epoch 451/500\n",
      "31/31 [==============================] - 0s 4ms/step - loss: 41.2196\n",
      "Epoch 452/500\n",
      "31/31 [==============================] - 0s 4ms/step - loss: 41.1621\n",
      "Epoch 453/500\n",
      "31/31 [==============================] - 0s 4ms/step - loss: 41.3757\n",
      "Epoch 454/500\n",
      "31/31 [==============================] - 0s 4ms/step - loss: 40.9727\n",
      "Epoch 455/500\n",
      "31/31 [==============================] - 0s 4ms/step - loss: 41.7112\n",
      "Epoch 456/500\n",
      "31/31 [==============================] - 0s 4ms/step - loss: 41.4241\n",
      "Epoch 457/500\n",
      "31/31 [==============================] - 0s 4ms/step - loss: 41.3483\n",
      "Epoch 458/500\n",
      "31/31 [==============================] - 0s 4ms/step - loss: 41.6598\n",
      "Epoch 459/500\n",
      "31/31 [==============================] - 0s 4ms/step - loss: 41.2100\n",
      "Epoch 460/500\n",
      "31/31 [==============================] - 0s 4ms/step - loss: 41.5166\n",
      "Epoch 461/500\n",
      "31/31 [==============================] - 0s 4ms/step - loss: 41.5732\n",
      "Epoch 462/500\n",
      "31/31 [==============================] - 0s 4ms/step - loss: 41.2957\n",
      "Epoch 463/500\n",
      "31/31 [==============================] - 0s 4ms/step - loss: 38.5622\n",
      "Epoch 464/500\n",
      "31/31 [==============================] - 0s 4ms/step - loss: 41.9541\n",
      "Epoch 465/500\n",
      "31/31 [==============================] - 0s 4ms/step - loss: 41.3108\n",
      "Epoch 466/500\n",
      "31/31 [==============================] - 0s 4ms/step - loss: 41.3233\n",
      "Epoch 467/500\n",
      "31/31 [==============================] - 0s 4ms/step - loss: 41.4812\n",
      "Epoch 468/500\n",
      "31/31 [==============================] - 0s 4ms/step - loss: 41.4091\n",
      "Epoch 469/500\n",
      "31/31 [==============================] - 0s 4ms/step - loss: 41.2122\n",
      "Epoch 470/500\n",
      "31/31 [==============================] - 0s 4ms/step - loss: 41.0972\n",
      "Epoch 471/500\n",
      "31/31 [==============================] - 0s 4ms/step - loss: 41.7433\n",
      "Epoch 472/500\n",
      "31/31 [==============================] - 0s 4ms/step - loss: 41.3449\n",
      "Epoch 473/500\n",
      "31/31 [==============================] - 0s 4ms/step - loss: 41.2552\n",
      "Epoch 474/500\n",
      "31/31 [==============================] - 0s 4ms/step - loss: 41.4036\n",
      "Epoch 475/500\n",
      "31/31 [==============================] - 0s 4ms/step - loss: 41.1971\n",
      "Epoch 476/500\n",
      "31/31 [==============================] - 0s 4ms/step - loss: 41.1867\n",
      "Epoch 477/500\n",
      "31/31 [==============================] - 0s 4ms/step - loss: 40.8646\n",
      "Epoch 478/500\n",
      "31/31 [==============================] - 0s 4ms/step - loss: 41.1405\n",
      "Epoch 479/500\n",
      "31/31 [==============================] - 0s 4ms/step - loss: 41.0633\n",
      "Epoch 480/500\n",
      "31/31 [==============================] - 0s 4ms/step - loss: 40.5266\n",
      "Epoch 481/500\n",
      "31/31 [==============================] - 0s 4ms/step - loss: 41.2898\n",
      "Epoch 482/500\n",
      "31/31 [==============================] - 0s 4ms/step - loss: 40.6960\n",
      "Epoch 483/500\n",
      "31/31 [==============================] - 0s 4ms/step - loss: 41.8931\n",
      "Epoch 484/500\n",
      "31/31 [==============================] - 0s 4ms/step - loss: 41.0862\n",
      "Epoch 485/500\n",
      "31/31 [==============================] - 0s 4ms/step - loss: 41.1125\n",
      "Epoch 486/500\n",
      "31/31 [==============================] - 0s 4ms/step - loss: 41.2236\n",
      "Epoch 487/500\n",
      "31/31 [==============================] - 0s 4ms/step - loss: 41.0621\n",
      "Epoch 488/500\n",
      "31/31 [==============================] - 0s 4ms/step - loss: 41.1004\n",
      "Epoch 489/500\n",
      "31/31 [==============================] - 0s 4ms/step - loss: 41.2034\n",
      "Epoch 490/500\n",
      "31/31 [==============================] - 0s 4ms/step - loss: 40.9446\n",
      "Epoch 491/500\n",
      "31/31 [==============================] - 0s 4ms/step - loss: 41.1098\n",
      "Epoch 492/500\n"
     ]
    },
    {
     "name": "stdout",
     "output_type": "stream",
     "text": [
      "31/31 [==============================] - 0s 4ms/step - loss: 41.1529\n",
      "Epoch 493/500\n",
      "31/31 [==============================] - 0s 4ms/step - loss: 40.9851\n",
      "Epoch 494/500\n",
      "31/31 [==============================] - 0s 4ms/step - loss: 41.0949\n",
      "Epoch 495/500\n",
      "31/31 [==============================] - 0s 4ms/step - loss: 40.9483\n",
      "Epoch 496/500\n",
      "31/31 [==============================] - 0s 4ms/step - loss: 39.7403\n",
      "Epoch 497/500\n",
      "31/31 [==============================] - 0s 4ms/step - loss: 41.1377\n",
      "Epoch 498/500\n",
      "31/31 [==============================] - 0s 4ms/step - loss: 41.2878\n",
      "Epoch 499/500\n",
      "31/31 [==============================] - 0s 4ms/step - loss: 41.0751\n",
      "Epoch 500/500\n",
      "31/31 [==============================] - 0s 4ms/step - loss: 41.0310\n"
     ]
    }
   ],
   "source": [
    "# Train the model for 500 epochs\n",
    "history = model.fit(new_dataset, epochs=500, verbose=1)"
   ]
  },
  {
   "cell_type": "code",
   "execution_count": 173,
   "metadata": {
    "scrolled": true
   },
   "outputs": [
    {
     "data": {
      "image/png": "[encoded data removed]",
      "text/plain": [
       "<Figure size 432x288 with 1 Axes>"
      ]
     },
     "metadata": {
      "needs_background": "light"
     },
     "output_type": "display_data"
    }
   ],
   "source": [
    "# Plot the losss \n",
    "loss = history.history['loss']\n",
    "epochs = range(len(loss))\n",
    "plt.plot(epochs, loss, 'b', label='Training Loss')\n",
    "plt.show()"
   ]
  },
  {
   "cell_type": "code",
   "execution_count": 174,
   "metadata": {},
   "outputs": [
    {
     "data": {
      "image/png": "[encoded data removed]",
      "text/plain": [
       "<Figure size 432x288 with 1 Axes>"
      ]
     },
     "metadata": {
      "needs_background": "light"
     },
     "output_type": "display_data"
    }
   ],
   "source": [
    "# Plot all but the first 10\n",
    "loss = history.history['loss']\n",
    "epochs = range(10, len(loss))\n",
    "plot_loss = loss[10:]\n",
    "plt.plot(epochs, plot_loss, 'b', label='Training Loss')\n",
    "plt.show()"
   ]
  },
  {
   "cell_type": "code",
   "execution_count": 179,
   "metadata": {},
   "outputs": [],
   "source": [
    "forecast_tuned = []\n",
    "for time in range(len(series) - window_size):\n",
    "    forecast_tuned.append(model.predict(series[time:time + window_size][np.newaxis]))"
   ]
  },
  {
   "cell_type": "code",
   "execution_count": 180,
   "metadata": {},
   "outputs": [
    {
     "data": {
      "image/png": "[encoded data removed]",
      "text/plain": [
       "<Figure size 720x432 with 1 Axes>"
      ]
     },
     "metadata": {
      "needs_background": "light"
     },
     "output_type": "display_data"
    }
   ],
   "source": [
    "forecast_tuned = forecast_tuned[split_time-window_size:]\n",
    "results = np.array(forecast_tuned)[:, 0, 0]\n",
    "\n",
    "\n",
    "plt.figure(figsize=(10, 6))\n",
    "\n",
    "plot_series(time_valid, x_valid)\n",
    "plot_series(time_valid, results)"
   ]
  },
  {
   "cell_type": "code",
   "execution_count": 181,
   "metadata": {},
   "outputs": [
    {
     "data": {
      "text/plain": [
       "4.7980385"
      ]
     },
     "execution_count": 181,
     "metadata": {},
     "output_type": "execute_result"
    }
   ],
   "source": [
    "tf.keras.metrics.mean_absolute_error(x_valid, results).numpy()"
   ]
  },
  {
   "cell_type": "code",
   "execution_count": null,
   "metadata": {},
   "outputs": [],
   "source": []
  }
 ],
 "metadata": {
  "colab": {
   "name": "S+P Week 2 Lesson 2.ipynb",
   "provenance": []
  },
  "kernelspec": {
   "display_name": "Python 3",
   "language": "python",
   "name": "python3"
  },
  "language_info": {
   "codemirror_mode": {
    "name": "ipython",
    "version": 3
   },
   "file_extension": ".py",
   "mimetype": "text/x-python",
   "name": "python",
   "nbconvert_exporter": "python",
   "pygments_lexer": "ipython3",
   "version": "3.6.8"
  }
 },
 "nbformat": 4,
 "nbformat_minor": 1
}

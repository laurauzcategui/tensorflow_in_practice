{
 "cells": [
  {
   "cell_type": "markdown",
   "metadata": {},
   "source": [
    "# Split Data into Features and Labels\n",
    "\n",
    "This notebook covers how to manipulate a dataset using [tf.data.Dataset](https://www.tensorflow.org/api_docs/python/tf/data/Dataset) and all the transformations available such as: \n",
    "- batch \n",
    "- prefetch \n",
    "- flat_map\n",
    "- map \n",
    "- windows"
   ]
  },
  {
   "cell_type": "code",
   "execution_count": 1,
   "metadata": {},
   "outputs": [],
   "source": [
    "from tensorflow.compat.v1 import ConfigProto\n",
    "from tensorflow.compat.v1 import InteractiveSession\n",
    "\n",
    "config = ConfigProto()\n",
    "config.gpu_options.allow_growth = True\n",
    "session = InteractiveSession(config=config)"
   ]
  },
  {
   "cell_type": "code",
   "execution_count": 2,
   "metadata": {},
   "outputs": [],
   "source": [
    "# Let's install tensorflow 2.x first :)\n",
    "try:\n",
    "  # %tensorflow_version only exists in Colab.\n",
    "  %tensorflow_version 2.x\n",
    "except Exception:\n",
    "  pass"
   ]
  },
  {
   "cell_type": "code",
   "execution_count": null,
   "metadata": {
    "colab": {
     "base_uri": "https://localhost:8080/",
     "height": 34
    },
    "colab_type": "code",
    "id": "BOjujz601HcS",
    "outputId": "696f1e32-8728-48b4-88bf-389a3dfbb914"
   },
   "outputs": [],
   "source": [
    "import tensorflow as tf\n",
    "import numpy as np\n",
    "import matplotlib.pyplot as plt"
   ]
  },
  {
   "cell_type": "code",
   "execution_count": 3,
   "metadata": {
    "colab": {
     "base_uri": "https://localhost:8080/",
     "height": 34
    },
    "colab_type": "code",
    "id": "BOjujz601HcS",
    "outputId": "696f1e32-8728-48b4-88bf-389a3dfbb914"
   },
   "outputs": [
    {
     "name": "stdout",
     "output_type": "stream",
     "text": [
      "2.0.0\n"
     ]
    }
   ],
   "source": [
    "print(tf.__version__)"
   ]
  },
  {
   "cell_type": "code",
   "execution_count": 21,
   "metadata": {
    "colab": {
     "base_uri": "https://localhost:8080/",
     "height": 188
    },
    "colab_type": "code",
    "id": "asEdslR_05O_",
    "outputId": "d4de27e8-18c5-44fe-d096-30499650df0b"
   },
   "outputs": [
    {
     "name": "stdout",
     "output_type": "stream",
     "text": [
      "0\n",
      "1\n",
      "2\n",
      "3\n",
      "4\n",
      "5\n",
      "6\n",
      "7\n",
      "8\n",
      "9\n"
     ]
    }
   ],
   "source": [
    "# Creates a Dataset of a step-separated range of values.\n",
    "# Ref: https://www.tensorflow.org/api_docs/python/tf/data/Dataset?version=stable#range\n",
    "dataset = tf.data.Dataset.range(10)\n",
    "for val in dataset:\n",
    "    print(val.numpy())"
   ]
  },
  {
   "cell_type": "code",
   "execution_count": 26,
   "metadata": {
    "colab": {
     "base_uri": "https://localhost:8080/",
     "height": 188
    },
    "colab_type": "code",
    "id": "Lrv_ghSt1lgQ",
    "outputId": "81190d2d-259e-452e-cf48-23915dc782fd"
   },
   "outputs": [
    {
     "name": "stdout",
     "output_type": "stream",
     "text": [
      "0 1 2 3 4 \n",
      "1 2 3 4 5 \n",
      "2 3 4 5 6 \n",
      "3 4 5 6 7 \n",
      "4 5 6 7 8 \n",
      "5 6 7 8 9 \n",
      "6 7 8 9 \n",
      "7 8 9 \n",
      "8 9 \n",
      "9 \n"
     ]
    }
   ],
   "source": [
    "# Creates a Dataset, and groups it by window\n",
    "# Window: Combines (nests of) input elements into a dataset of (nests of) windows.\n",
    "# Ref: https://www.tensorflow.org/api_docs/python/tf/data/Dataset?version=stable#window\n",
    "dataset = tf.data.Dataset.range(10)\n",
    "# size of the window: group by this amount\n",
    "# shift: by how many to shift on each iteration\n",
    "dataset = dataset.window(size=5, shift=1) \n",
    "for window_dataset in dataset:\n",
    "    for val in window_dataset:\n",
    "        print(val.numpy(), end=\" \")\n",
    "    print()"
   ]
  },
  {
   "cell_type": "code",
   "execution_count": 34,
   "metadata": {
    "colab": {
     "base_uri": "https://localhost:8080/",
     "height": 120
    },
    "colab_type": "code",
    "id": "QLEq6MG-2DN2",
    "outputId": "ff6dc0fa-a880-4ed5-ea6b-bfdc11b727c7"
   },
   "outputs": [
    {
     "name": "stdout",
     "output_type": "stream",
     "text": [
      "0 1 2 3 4 \n",
      "1 2 3 4 5 \n",
      "2 3 4 5 6 \n",
      "3 4 5 6 7 \n",
      "4 5 6 7 8 \n",
      "5 6 7 8 9 \n"
     ]
    }
   ],
   "source": [
    "# Creates a Dataset, and groups it by window but dropping the windows\n",
    "\n",
    "# Dropped windows\n",
    "\"\"\"\n",
    "6 7 8 9 \n",
    "7 8 9 \n",
    "8 9 \n",
    "9 \n",
    "\"\"\"\n",
    "dataset = tf.data.Dataset.range(10)\n",
    "# drop_remainder: window will be dropped if its size is smaller than size defined\n",
    "dataset = dataset.window(size=5, shift=1, drop_remainder=True)\n",
    "for window_dataset in dataset:\n",
    "    for val in window_dataset:\n",
    "        print(val.numpy(), end=\" \")\n",
    "    print()"
   ]
  },
  {
   "cell_type": "code",
   "execution_count": 36,
   "metadata": {
    "colab": {
     "base_uri": "https://localhost:8080/",
     "height": 120
    },
    "colab_type": "code",
    "id": "PJ9CAHlJ2ODe",
    "outputId": "ae088296-428d-4985-92da-74292670bc68"
   },
   "outputs": [
    {
     "name": "stdout",
     "output_type": "stream",
     "text": [
      "[0 1 2 3 4]\n",
      "[1 2 3 4 5]\n",
      "[2 3 4 5 6]\n",
      "[3 4 5 6 7]\n",
      "[4 5 6 7 8]\n",
      "[5 6 7 8 9]\n"
     ]
    }
   ],
   "source": [
    "# Use of flatmap: maps function across this dataset and flattens the result. Preserves order\n",
    "# Ref: https://www.tensorflow.org/api_docs/python/tf/data/Dataset?version=stable#flat_map\n",
    "# Function passed is to group is batch, which combines consecutive elements of this dataset into batches.\n",
    "dataset_flatmap = dataset.flat_map(lambda window: window.batch(5))\n",
    "for window in dataset_flatmap:\n",
    "    print(window.numpy())"
   ]
  },
  {
   "cell_type": "code",
   "execution_count": 37,
   "metadata": {
    "colab": {
     "base_uri": "https://localhost:8080/",
     "height": 120
    },
    "colab_type": "code",
    "id": "DryEZ2Mz2nNV",
    "outputId": "f25de11e-abce-4d18-cd41-7c45a6323875"
   },
   "outputs": [
    {
     "name": "stdout",
     "output_type": "stream",
     "text": [
      "[0 1 2 3] [4]\n",
      "[1 2 3 4] [5]\n",
      "[2 3 4 5] [6]\n",
      "[3 4 5 6] [7]\n",
      "[4 5 6 7] [8]\n",
      "[5 6 7 8] [9]\n"
     ]
    }
   ],
   "source": [
    "# Take the batches produced by flatmap and split between feature and label\n",
    "# Map: takes a function and apply it to the dataset, element wise operation\n",
    "# Ref: https://www.tensorflow.org/api_docs/python/tf/data/Dataset?version=stable#map\n",
    "dataset_split_feature_label = dataset_flatmap.map(lambda window: (window[:-1], window[-1:]))\n",
    "for features,label in dataset_split_feature_label:\n",
    "    print(features.numpy(), label.numpy())"
   ]
  },
  {
   "cell_type": "code",
   "execution_count": 40,
   "metadata": {
    "colab": {
     "base_uri": "https://localhost:8080/",
     "height": 120
    },
    "colab_type": "code",
    "id": "1tl-0BOKkEtk",
    "outputId": "a96d8eec-4937-4c07-f8f1-9e137492eb8b"
   },
   "outputs": [
    {
     "name": "stdout",
     "output_type": "stream",
     "text": [
      "[2 3 4 5] [6]\n",
      "[5 6 7 8] [9]\n",
      "[4 5 6 7] [8]\n",
      "[0 1 2 3] [4]\n",
      "[1 2 3 4] [5]\n",
      "[3 4 5 6] [7]\n"
     ]
    }
   ],
   "source": [
    "# Shuffle the dataset as to avoid sequence bias. \n",
    "# Buffer size: number of elements from dataset from which the new dataset will sample.\n",
    "# Ref: https://www.tensorflow.org/api_docs/python/tf/data/Dataset?version=stable#shuffle\n",
    "dataset_shuffled = dataset_split_feature_label.shuffle(buffer_size=10)\n",
    "for features,label in dataset_shuffled:\n",
    "    print(features.numpy(), label.numpy())"
   ]
  },
  {
   "cell_type": "code",
   "execution_count": 52,
   "metadata": {
    "colab": {
     "base_uri": "https://localhost:8080/",
     "height": 223
    },
    "colab_type": "code",
    "id": "Wa0PNwxMGapy",
    "outputId": "d12e37ee-fb71-4284-c615-b8c568e34630"
   },
   "outputs": [
    {
     "name": "stdout",
     "output_type": "stream",
     "text": [
      "features: \n",
      " [[5 6 7 8]\n",
      " [4 5 6 7]\n",
      " [2 3 4 5]]\n",
      "labels: \n",
      " [[9]\n",
      " [8]\n",
      " [6]]\n",
      "features: \n",
      " [[3 4 5 6]\n",
      " [1 2 3 4]\n",
      " [0 1 2 3]]\n",
      "labels: \n",
      " [[7]\n",
      " [5]\n",
      " [4]]\n"
     ]
    }
   ],
   "source": [
    "# Prefetch 1 example of the batch size 2\n",
    "dataset_by_batch = dataset_shuffled.batch(3).prefetch(1)\n",
    "for features,label in dataset_by_batch:\n",
    "    print(\"features: \\n\", features.numpy())\n",
    "    print(\"labels: \\n\", label.numpy())"
   ]
  },
  {
   "cell_type": "code",
   "execution_count": null,
   "metadata": {},
   "outputs": [],
   "source": []
  }
 ],
 "metadata": {
  "accelerator": "GPU",
  "colab": {
   "name": "S+P Week 2 Lesson 1.ipynb",
   "provenance": []
  },
  "kernelspec": {
   "display_name": "Python 3",
   "language": "python",
   "name": "python3"
  },
  "language_info": {
   "codemirror_mode": {
    "name": "ipython",
    "version": 3
   },
   "file_extension": ".py",
   "mimetype": "text/x-python",
   "name": "python",
   "nbconvert_exporter": "python",
   "pygments_lexer": "ipython3",
   "version": "3.6.8"
  }
 },
 "nbformat": 4,
 "nbformat_minor": 1
}

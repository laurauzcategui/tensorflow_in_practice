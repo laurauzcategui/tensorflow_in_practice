{
 "cells": [
  {
   "cell_type": "markdown",
   "metadata": {},
   "source": [
    "# Forecast using Single Layer DNN \n",
    "\n",
    "This notebook covers how to create a single layer dense neural net to forecast a time series\n",
    "\n",
    "- Creation of a windowed dataset \n",
    "- Split features and labels \n",
    "- Create a model with 1 Dense Layer \n",
    "- Evaluate performance"
   ]
  },
  {
   "cell_type": "code",
   "execution_count": 26,
   "metadata": {
    "colab": {},
    "colab_type": "code",
    "id": "D1J15Vh_1Jih",
    "scrolled": false
   },
   "outputs": [
    {
     "name": "stderr",
     "output_type": "stream",
     "text": [
      "/usr/local/lib/python3.6/dist-packages/tensorflow_core/python/client/session.py:1750: UserWarning: An interactive session is already active. This can cause out-of-memory errors in some cases. You must explicitly call `InteractiveSession.close()` to release resources held by the other session(s).\n",
      "  warnings.warn('An interactive session is already active. This can '\n"
     ]
    }
   ],
   "source": [
    "from tensorflow.compat.v1 import ConfigProto\n",
    "from tensorflow.compat.v1 import InteractiveSession\n",
    "\n",
    "config = ConfigProto()\n",
    "config.gpu_options.allow_growth = True\n",
    "session = InteractiveSession(config=config)"
   ]
  },
  {
   "cell_type": "code",
   "execution_count": 27,
   "metadata": {},
   "outputs": [],
   "source": [
    "# Let's install tensorflow 2.x first :)\n",
    "try:\n",
    "  # %tensorflow_version only exists in Colab.\n",
    "  %tensorflow_version 2.x\n",
    "except Exception:\n",
    "  pass"
   ]
  },
  {
   "cell_type": "code",
   "execution_count": 28,
   "metadata": {
    "colab": {
     "base_uri": "https://localhost:8080/",
     "height": 34
    },
    "colab_type": "code",
    "id": "BOjujz601HcS",
    "outputId": "713999e3-89ef-4226-b6ec-763738a499c6"
   },
   "outputs": [
    {
     "name": "stdout",
     "output_type": "stream",
     "text": [
      "2.0.0\n"
     ]
    }
   ],
   "source": [
    "import tensorflow as tf\n",
    "import numpy as np\n",
    "import matplotlib.pyplot as plt\n",
    "print(tf.__version__)"
   ]
  },
  {
   "cell_type": "code",
   "execution_count": 29,
   "metadata": {
    "colab": {},
    "colab_type": "code",
    "id": "Zswl7jRtGzkk"
   },
   "outputs": [],
   "source": [
    "def plot_series(time, series, format=\"-\", start=0, end=None):\n",
    "    '''\n",
    "    Plot series of data\n",
    "\n",
    "    Parameters\n",
    "    ----------\n",
    "    time : array of data\n",
    "    series: array of data to plot in Y axis \n",
    "    format: format of basic line properties. Ref: https://matplotlib.org/3.1.1/api/_as_gen/matplotlib.pyplot.plot.html\n",
    "    start: from where to start plotting, optional. Default: 0\n",
    "    end: up to where to plot data, optional. Default: None\n",
    "    '''\n",
    "    plt.plot(time[start:end], series[start:end], format)\n",
    "    plt.xlabel(\"Time\")\n",
    "    plt.ylabel(\"Value\")\n",
    "    plt.grid(True)"
   ]
  },
  {
   "cell_type": "code",
   "execution_count": 30,
   "metadata": {
    "colab": {},
    "colab_type": "code",
    "id": "Zswl7jRtGzkk"
   },
   "outputs": [],
   "source": [
    "def trend(time, slope=0):\n",
    "    '''\n",
    "    Produce a trend of data.\n",
    "    Parameters\n",
    "    ---------- \n",
    "    time: time series to plot \n",
    "    slope: slope to plot the series. optional, Default: 0\n",
    "    '''\n",
    "    return slope * time"
   ]
  },
  {
   "cell_type": "code",
   "execution_count": 31,
   "metadata": {
    "colab": {},
    "colab_type": "code",
    "id": "Zswl7jRtGzkk"
   },
   "outputs": [],
   "source": [
    "def seasonal_pattern(season_time):\n",
    "    \"\"\"\n",
    "    Just an arbitrary pattern by using np.where\n",
    "    Ref: https://docs.scipy.org/doc/numpy/reference/generated/numpy.where.html\n",
    "    \n",
    "    Parameters\n",
    "    ----------\n",
    "    season_time: to generate the condition of what to select from \n",
    "    \"\"\"\n",
    "    return np.where(season_time < 0.4,\n",
    "                    np.cos(season_time * 2 * np.pi),\n",
    "                    1 / np.exp(3 * season_time))"
   ]
  },
  {
   "cell_type": "code",
   "execution_count": 32,
   "metadata": {
    "colab": {},
    "colab_type": "code",
    "id": "Zswl7jRtGzkk"
   },
   "outputs": [],
   "source": [
    "def seasonality(time, period, amplitude=1, phase=0):\n",
    "    '''\n",
    "    Repeats the same pattern at each period\n",
    "    \n",
    "    Parameters\n",
    "    ----------\n",
    "    time: to generate the season over x axis \n",
    "    period: how often will repeat\n",
    "    amplitude: how many phases \n",
    "    phase: the position of the point in time\n",
    "    '''\n",
    "    season_time = ((time + phase) % period) / period\n",
    "    return amplitude * seasonal_pattern(season_time)"
   ]
  },
  {
   "cell_type": "code",
   "execution_count": 33,
   "metadata": {
    "colab": {},
    "colab_type": "code",
    "id": "Zswl7jRtGzkk"
   },
   "outputs": [],
   "source": [
    "def noise(time, noise_level=1, seed=None):\n",
    "    '''\n",
    "    Produce random noise into a time series \n",
    "\n",
    "    Parameters\n",
    "    ----------\n",
    "    time: series of values on X axis\n",
    "    noise_level: to be produced, optional. Default: 1\n",
    "    seed: seed to generate the noise, optional. Default: None \n",
    "    '''\n",
    "    rnd = np.random.RandomState(seed)\n",
    "    return rnd.randn(len(time)) * noise_level"
   ]
  },
  {
   "cell_type": "code",
   "execution_count": 34,
   "metadata": {
    "colab": {},
    "colab_type": "code",
    "id": "Zswl7jRtGzkk"
   },
   "outputs": [],
   "source": [
    "# Define initial time series\n",
    "time = np.arange(4 * 365 + 1, dtype=\"float32\") "
   ]
  },
  {
   "cell_type": "code",
   "execution_count": 35,
   "metadata": {
    "colab": {},
    "colab_type": "code",
    "id": "Zswl7jRtGzkk"
   },
   "outputs": [],
   "source": [
    "# Define initial values for generation of different time series \n",
    "baseline = 10\n",
    "amplitude = 40\n",
    "slope = 0.05\n",
    "noise_level = 5"
   ]
  },
  {
   "cell_type": "code",
   "execution_count": 36,
   "metadata": {
    "colab": {},
    "colab_type": "code",
    "id": "Zswl7jRtGzkk"
   },
   "outputs": [],
   "source": [
    "# Create the series\n",
    "series = baseline + trend(time, slope) + seasonality(time, period=365, amplitude=amplitude)\n",
    "# Update with noise\n",
    "series += noise(time, noise_level, seed=42)"
   ]
  },
  {
   "cell_type": "code",
   "execution_count": 37,
   "metadata": {},
   "outputs": [
    {
     "data": {
      "image/png": "[encoded data removed]",
      "text/plain": [
       "<Figure size 720x432 with 1 Axes>"
      ]
     },
     "metadata": {
      "needs_background": "light"
     },
     "output_type": "display_data"
    }
   ],
   "source": [
    "plt.figure(figsize=(10, 6))\n",
    "plot_series(time, series)\n",
    "plt.show()"
   ]
  },
  {
   "cell_type": "code",
   "execution_count": 38,
   "metadata": {
    "colab": {},
    "colab_type": "code",
    "id": "Zswl7jRtGzkk"
   },
   "outputs": [],
   "source": [
    "# Split into training and validation\n",
    "split_time = 1000\n",
    "time_train = time[:split_time]\n",
    "x_train = series[:split_time]\n",
    "time_valid = time[split_time:]\n",
    "x_valid = series[split_time:]"
   ]
  },
  {
   "cell_type": "code",
   "execution_count": 39,
   "metadata": {
    "colab": {},
    "colab_type": "code",
    "id": "Zswl7jRtGzkk"
   },
   "outputs": [],
   "source": [
    "window_size = 20\n",
    "batch_size = 32\n",
    "shuffle_buffer_size = 1000"
   ]
  },
  {
   "cell_type": "code",
   "execution_count": 40,
   "metadata": {
    "colab": {},
    "colab_type": "code",
    "id": "4sTTIOCbyShY"
   },
   "outputs": [],
   "source": [
    "def windowed_dataset(series, window_size, batch_size, shuffle_buffer):\n",
    "    \"\"\"\n",
    "    Creates a windowed dataset and returns only one from the batch \n",
    "    \n",
    "    Parameters\n",
    "    ----------\n",
    "    series: time series data to set as dataset\n",
    "    windows_size: size of the window to be created\n",
    "    batch_size: size of the batch by window \n",
    "    shuffle_buffer: buffer size to take data and shuffle it around\n",
    "    \n",
    "    Returns a transformed dataset\n",
    "    \"\"\"\n",
    "    dataset = tf.data.Dataset.from_tensor_slices(series)\n",
    "    dataset = dataset.window(window_size + 1, shift=1, drop_remainder=True)\n",
    "    dataset = dataset.flat_map(lambda window: window.batch(window_size + 1))\n",
    "    dataset = dataset.shuffle(shuffle_buffer).map(lambda window: (window[:-1], window[-1]))\n",
    "    dataset = dataset.batch(batch_size).prefetch(1)\n",
    "    return dataset"
   ]
  },
  {
   "cell_type": "code",
   "execution_count": 41,
   "metadata": {
    "colab": {
     "base_uri": "https://localhost:8080/",
     "height": 374
    },
    "colab_type": "code",
    "id": "ou-WmE2AXu6B",
    "outputId": "e6cd149b-26bb-4b36-ab54-681da29275b1"
   },
   "outputs": [
    {
     "name": "stdout",
     "output_type": "stream",
     "text": [
      "<PrefetchDataset shapes: ((None, None), (None,)), types: (tf.float32, tf.float32)>\n"
     ]
    }
   ],
   "source": [
    "dataset = windowed_dataset(x_train, window_size, batch_size, shuffle_buffer_size)\n",
    "print(dataset)"
   ]
  },
  {
   "cell_type": "code",
   "execution_count": 42,
   "metadata": {
    "colab": {
     "base_uri": "https://localhost:8080/",
     "height": 374
    },
    "colab_type": "code",
    "id": "ou-WmE2AXu6B",
    "outputId": "e6cd149b-26bb-4b36-ab54-681da29275b1"
   },
   "outputs": [],
   "source": [
    "# Create a Dense layer with 1 output unit and assign it to variable\n",
    "# this variable will serve to be accessed later \n",
    "l0 = tf.keras.layers.Dense(1, input_shape=[window_size])"
   ]
  },
  {
   "cell_type": "code",
   "execution_count": 43,
   "metadata": {
    "colab": {
     "base_uri": "https://localhost:8080/",
     "height": 374
    },
    "colab_type": "code",
    "id": "ou-WmE2AXu6B",
    "outputId": "e6cd149b-26bb-4b36-ab54-681da29275b1"
   },
   "outputs": [],
   "source": [
    "# Create a model with Previous layer Created\n",
    "model = tf.keras.models.Sequential([l0])"
   ]
  },
  {
   "cell_type": "code",
   "execution_count": 44,
   "metadata": {
    "colab": {
     "base_uri": "https://localhost:8080/",
     "height": 374
    },
    "colab_type": "code",
    "id": "ou-WmE2AXu6B",
    "outputId": "e6cd149b-26bb-4b36-ab54-681da29275b1"
   },
   "outputs": [],
   "source": [
    "'''\n",
    "Configure the model with: \n",
    "- Loss: mean squared error \n",
    "- Optimizer: Stochastic Gradient Descent \n",
    "'''\n",
    "model.compile(loss=\"mse\", optimizer=tf.keras.optimizers.SGD(lr=1e-6, momentum=0.9))"
   ]
  },
  {
   "cell_type": "code",
   "execution_count": 45,
   "metadata": {
    "colab": {
     "base_uri": "https://localhost:8080/",
     "height": 374
    },
    "colab_type": "code",
    "id": "ou-WmE2AXu6B",
    "outputId": "e6cd149b-26bb-4b36-ab54-681da29275b1"
   },
   "outputs": [
    {
     "name": "stdout",
     "output_type": "stream",
     "text": [
      "Epoch 1/100\n",
      "31/31 [==============================] - 1s 31ms/step - loss: 288.1033\n",
      "Epoch 2/100\n",
      "31/31 [==============================] - 1s 20ms/step - loss: 180.1196\n",
      "Epoch 3/100\n",
      "31/31 [==============================] - 1s 18ms/step - loss: 157.7719\n",
      "Epoch 4/100\n",
      "31/31 [==============================] - 1s 20ms/step - loss: 142.0765\n",
      "Epoch 5/100\n",
      "31/31 [==============================] - 1s 20ms/step - loss: 131.0531\n",
      "Epoch 6/100\n",
      "31/31 [==============================] - 1s 24ms/step - loss: 125.1994\n",
      "Epoch 7/100\n",
      "31/31 [==============================] - 1s 20ms/step - loss: 118.5811\n",
      "Epoch 8/100\n",
      "31/31 [==============================] - 1s 20ms/step - loss: 112.9976\n",
      "Epoch 9/100\n",
      "31/31 [==============================] - 1s 17ms/step - loss: 109.2911\n",
      "Epoch 10/100\n",
      "31/31 [==============================] - 1s 18ms/step - loss: 101.2905\n",
      "Epoch 11/100\n",
      "31/31 [==============================] - 1s 18ms/step - loss: 101.5854\n",
      "Epoch 12/100\n",
      "31/31 [==============================] - 1s 18ms/step - loss: 98.3317\n",
      "Epoch 13/100\n",
      "31/31 [==============================] - 1s 19ms/step - loss: 96.4461\n",
      "Epoch 14/100\n",
      "31/31 [==============================] - 1s 19ms/step - loss: 93.3571\n",
      "Epoch 15/100\n",
      "31/31 [==============================] - 1s 17ms/step - loss: 88.9700\n",
      "Epoch 16/100\n",
      "31/31 [==============================] - 1s 18ms/step - loss: 89.8241\n",
      "Epoch 17/100\n",
      "31/31 [==============================] - 1s 18ms/step - loss: 87.2301\n",
      "Epoch 18/100\n",
      "31/31 [==============================] - 1s 17ms/step - loss: 85.7766\n",
      "Epoch 19/100\n",
      "31/31 [==============================] - 1s 22ms/step - loss: 82.5818\n",
      "Epoch 20/100\n",
      "31/31 [==============================] - 1s 19ms/step - loss: 80.2895\n",
      "Epoch 21/100\n",
      "31/31 [==============================] - 1s 20ms/step - loss: 78.2512\n",
      "Epoch 22/100\n",
      "31/31 [==============================] - 1s 18ms/step - loss: 78.6330\n",
      "Epoch 23/100\n",
      "31/31 [==============================] - 1s 19ms/step - loss: 76.5980\n",
      "Epoch 24/100\n",
      "31/31 [==============================] - 1s 21ms/step - loss: 75.5460\n",
      "Epoch 25/100\n",
      "31/31 [==============================] - 1s 19ms/step - loss: 73.9728\n",
      "Epoch 26/100\n",
      "31/31 [==============================] - 1s 19ms/step - loss: 73.0371\n",
      "Epoch 27/100\n",
      "31/31 [==============================] - 1s 19ms/step - loss: 72.0638\n",
      "Epoch 28/100\n",
      "31/31 [==============================] - 0s 16ms/step - loss: 70.7332\n",
      "Epoch 29/100\n",
      "31/31 [==============================] - 1s 19ms/step - loss: 69.9654\n",
      "Epoch 30/100\n",
      "31/31 [==============================] - 1s 17ms/step - loss: 67.5870\n",
      "Epoch 31/100\n",
      "31/31 [==============================] - 1s 18ms/step - loss: 66.9220\n",
      "Epoch 32/100\n",
      "31/31 [==============================] - 1s 19ms/step - loss: 66.3311\n",
      "Epoch 33/100\n",
      "31/31 [==============================] - 1s 18ms/step - loss: 65.4858\n",
      "Epoch 34/100\n",
      "31/31 [==============================] - 1s 17ms/step - loss: 67.0651\n",
      "Epoch 35/100\n",
      "31/31 [==============================] - 1s 18ms/step - loss: 64.1391\n",
      "Epoch 36/100\n",
      "31/31 [==============================] - 1s 18ms/step - loss: 62.0850\n",
      "Epoch 37/100\n",
      "31/31 [==============================] - 1s 18ms/step - loss: 63.4978\n",
      "Epoch 38/100\n",
      "31/31 [==============================] - 1s 17ms/step - loss: 61.5098\n",
      "Epoch 39/100\n",
      "31/31 [==============================] - 1s 23ms/step - loss: 62.0634\n",
      "Epoch 40/100\n",
      "31/31 [==============================] - 1s 19ms/step - loss: 58.6340\n",
      "Epoch 41/100\n",
      "31/31 [==============================] - 1s 18ms/step - loss: 60.2831\n",
      "Epoch 42/100\n",
      "31/31 [==============================] - 1s 22ms/step - loss: 58.0039\n",
      "Epoch 43/100\n",
      "31/31 [==============================] - 1s 18ms/step - loss: 58.8700\n",
      "Epoch 44/100\n",
      "31/31 [==============================] - 1s 21ms/step - loss: 58.5586\n",
      "Epoch 45/100\n",
      "31/31 [==============================] - 1s 21ms/step - loss: 57.2977\n",
      "Epoch 46/100\n",
      "31/31 [==============================] - 1s 17ms/step - loss: 56.7222\n",
      "Epoch 47/100\n",
      "31/31 [==============================] - 1s 17ms/step - loss: 56.0398\n",
      "Epoch 48/100\n",
      "31/31 [==============================] - 1s 17ms/step - loss: 56.7041\n",
      "Epoch 49/100\n",
      "31/31 [==============================] - 1s 16ms/step - loss: 56.0389\n",
      "Epoch 50/100\n",
      "31/31 [==============================] - 0s 14ms/step - loss: 54.2505\n",
      "Epoch 51/100\n",
      "31/31 [==============================] - 1s 18ms/step - loss: 54.5621\n",
      "Epoch 52/100\n",
      "31/31 [==============================] - 1s 19ms/step - loss: 54.2579\n",
      "Epoch 53/100\n",
      "31/31 [==============================] - 1s 23ms/step - loss: 54.1823\n",
      "Epoch 54/100\n",
      "31/31 [==============================] - 0s 16ms/step - loss: 53.4614\n",
      "Epoch 55/100\n",
      "31/31 [==============================] - 1s 17ms/step - loss: 53.0719\n",
      "Epoch 56/100\n",
      "31/31 [==============================] - 1s 19ms/step - loss: 53.0409\n",
      "Epoch 57/100\n",
      "31/31 [==============================] - 1s 18ms/step - loss: 52.3735\n",
      "Epoch 58/100\n",
      "31/31 [==============================] - 1s 17ms/step - loss: 51.0015\n",
      "Epoch 59/100\n",
      "31/31 [==============================] - 1s 17ms/step - loss: 51.3717\n",
      "Epoch 60/100\n",
      "31/31 [==============================] - 1s 17ms/step - loss: 51.5849\n",
      "Epoch 61/100\n",
      "31/31 [==============================] - 1s 18ms/step - loss: 51.2721\n",
      "Epoch 62/100\n",
      "31/31 [==============================] - 1s 17ms/step - loss: 50.7672\n",
      "Epoch 63/100\n",
      "31/31 [==============================] - 1s 17ms/step - loss: 50.5498\n",
      "Epoch 64/100\n",
      "31/31 [==============================] - 1s 19ms/step - loss: 50.0883\n",
      "Epoch 65/100\n",
      "31/31 [==============================] - 0s 16ms/step - loss: 50.6388\n",
      "Epoch 66/100\n",
      "31/31 [==============================] - 1s 17ms/step - loss: 49.7769\n",
      "Epoch 67/100\n",
      "31/31 [==============================] - 1s 20ms/step - loss: 47.2436\n",
      "Epoch 68/100\n",
      "31/31 [==============================] - 1s 17ms/step - loss: 48.6061\n",
      "Epoch 69/100\n",
      "31/31 [==============================] - 1s 17ms/step - loss: 48.6561\n",
      "Epoch 70/100\n",
      "31/31 [==============================] - 1s 17ms/step - loss: 48.9206\n",
      "Epoch 71/100\n",
      "31/31 [==============================] - 1s 18ms/step - loss: 48.0166\n",
      "Epoch 72/100\n",
      "31/31 [==============================] - 1s 18ms/step - loss: 47.7864\n",
      "Epoch 73/100\n",
      "31/31 [==============================] - 1s 17ms/step - loss: 48.2527\n",
      "Epoch 74/100\n",
      "31/31 [==============================] - 1s 19ms/step - loss: 48.0113\n",
      "Epoch 75/100\n",
      "31/31 [==============================] - 0s 15ms/step - loss: 48.0495\n",
      "Epoch 76/100\n",
      "31/31 [==============================] - 0s 15ms/step - loss: 47.8288\n",
      "Epoch 77/100\n",
      "31/31 [==============================] - 1s 17ms/step - loss: 48.1947\n",
      "Epoch 78/100\n",
      "31/31 [==============================] - 1s 19ms/step - loss: 47.4740\n",
      "Epoch 79/100\n",
      "31/31 [==============================] - 1s 17ms/step - loss: 46.9491\n",
      "Epoch 80/100\n",
      "31/31 [==============================] - 1s 18ms/step - loss: 46.1777\n",
      "Epoch 81/100\n",
      "31/31 [==============================] - 1s 18ms/step - loss: 47.6564\n",
      "Epoch 82/100\n",
      "31/31 [==============================] - 1s 18ms/step - loss: 47.4558\n",
      "Epoch 83/100\n",
      "31/31 [==============================] - 1s 18ms/step - loss: 46.6408\n",
      "Epoch 84/100\n",
      "31/31 [==============================] - 1s 20ms/step - loss: 45.6876\n",
      "Epoch 85/100\n",
      "31/31 [==============================] - 1s 19ms/step - loss: 46.9087\n",
      "Epoch 86/100\n",
      "31/31 [==============================] - 1s 18ms/step - loss: 46.9854\n",
      "Epoch 87/100\n",
      "31/31 [==============================] - 1s 19ms/step - loss: 47.4521\n",
      "Epoch 88/100\n",
      "31/31 [==============================] - 1s 19ms/step - loss: 45.4580\n",
      "Epoch 89/100\n",
      "31/31 [==============================] - 1s 18ms/step - loss: 45.8335\n",
      "Epoch 90/100\n",
      "31/31 [==============================] - 1s 17ms/step - loss: 45.6311\n",
      "Epoch 91/100\n",
      "31/31 [==============================] - 1s 21ms/step - loss: 46.0507\n",
      "Epoch 92/100\n",
      "31/31 [==============================] - 1s 23ms/step - loss: 45.8144\n",
      "Epoch 93/100\n",
      "31/31 [==============================] - 1s 18ms/step - loss: 45.5977\n",
      "Epoch 94/100\n",
      "31/31 [==============================] - 1s 17ms/step - loss: 46.3701\n",
      "Epoch 95/100\n",
      "31/31 [==============================] - 1s 21ms/step - loss: 45.0805\n",
      "Epoch 96/100\n",
      "31/31 [==============================] - 1s 16ms/step - loss: 45.3357\n",
      "Epoch 97/100\n",
      "31/31 [==============================] - 1s 17ms/step - loss: 44.9055\n",
      "Epoch 98/100\n",
      "31/31 [==============================] - 1s 17ms/step - loss: 45.3934\n",
      "Epoch 99/100\n"
     ]
    },
    {
     "name": "stdout",
     "output_type": "stream",
     "text": [
      "31/31 [==============================] - 1s 19ms/step - loss: 44.7854\n",
      "Epoch 100/100\n",
      "31/31 [==============================] - 1s 18ms/step - loss: 45.5778\n"
     ]
    },
    {
     "data": {
      "text/plain": [
       "<tensorflow.python.keras.callbacks.History at 0x7f277eecd7b8>"
      ]
     },
     "execution_count": 45,
     "metadata": {},
     "output_type": "execute_result"
    }
   ],
   "source": [
    "# Train the model for 100 epochs\n",
    "model.fit(dataset,epochs=100,verbose=1)"
   ]
  },
  {
   "cell_type": "code",
   "execution_count": 46,
   "metadata": {
    "colab": {
     "base_uri": "https://localhost:8080/",
     "height": 374
    },
    "colab_type": "code",
    "id": "ou-WmE2AXu6B",
    "outputId": "e6cd149b-26bb-4b36-ab54-681da29275b1"
   },
   "outputs": [
    {
     "name": "stdout",
     "output_type": "stream",
     "text": [
      "Layer weights [array([[-0.08117335],\n",
      "       [ 0.08145683],\n",
      "       [-0.02704018],\n",
      "       [-0.02197846],\n",
      "       [ 0.05032526],\n",
      "       [ 0.01943517],\n",
      "       [ 0.04057488],\n",
      "       [-0.05624466],\n",
      "       [-0.10098002],\n",
      "       [ 0.08874134],\n",
      "       [ 0.04492733],\n",
      "       [ 0.01129583],\n",
      "       [-0.07286289],\n",
      "       [-0.04751427],\n",
      "       [ 0.10513392],\n",
      "       [ 0.00352252],\n",
      "       [ 0.09022354],\n",
      "       [ 0.18890229],\n",
      "       [ 0.2739812 ],\n",
      "       [ 0.40336424]], dtype=float32), array([0.01700493], dtype=float32)]\n"
     ]
    }
   ],
   "source": [
    "print(\"Layer weights {}\".format(l0.get_weights()))"
   ]
  },
  {
   "cell_type": "code",
   "execution_count": 47,
   "metadata": {
    "colab": {
     "base_uri": "https://localhost:8080/",
     "height": 409
    },
    "colab_type": "code",
    "id": "-gtVJuLVxR-M",
    "outputId": "d8f583ad-2a35-4473-818a-d505d598e28a"
   },
   "outputs": [],
   "source": [
    "# Create a moving average time series with the prediction created by the model\n",
    "forecast = []\n",
    "for time in range(len(series) - window_size):\n",
    "    # Add the prediction to the forecast array \n",
    "    forecast.append(model.predict(series[time:time + window_size][np.newaxis]))"
   ]
  },
  {
   "cell_type": "code",
   "execution_count": 48,
   "metadata": {
    "colab": {
     "base_uri": "https://localhost:8080/",
     "height": 409
    },
    "colab_type": "code",
    "id": "-gtVJuLVxR-M",
    "outputId": "d8f583ad-2a35-4473-818a-d505d598e28a"
   },
   "outputs": [],
   "source": [
    "forecast = forecast[split_time-window_size:]"
   ]
  },
  {
   "cell_type": "code",
   "execution_count": 49,
   "metadata": {
    "colab": {
     "base_uri": "https://localhost:8080/",
     "height": 409
    },
    "colab_type": "code",
    "id": "-gtVJuLVxR-M",
    "outputId": "d8f583ad-2a35-4473-818a-d505d598e28a"
   },
   "outputs": [
    {
     "data": {
      "image/png": "[encoded data removed]",
      "text/plain": [
       "<Figure size 720x432 with 1 Axes>"
      ]
     },
     "metadata": {
      "needs_background": "light"
     },
     "output_type": "display_data"
    }
   ],
   "source": [
    "results = np.array(forecast)[:, 0, 0]\n",
    "\n",
    "\n",
    "plt.figure(figsize=(10, 6))\n",
    "\n",
    "plot_series(time_valid, x_valid)\n",
    "plot_series(time_valid, results)"
   ]
  },
  {
   "cell_type": "code",
   "execution_count": 50,
   "metadata": {
    "colab": {
     "base_uri": "https://localhost:8080/",
     "height": 34
    },
    "colab_type": "code",
    "id": "hR2BO0Dai_ZT",
    "outputId": "411000e0-90d7-44c8-d21d-2ecce50089c0"
   },
   "outputs": [
    {
     "data": {
      "text/plain": [
       "5.0133443"
      ]
     },
     "execution_count": 50,
     "metadata": {},
     "output_type": "execute_result"
    }
   ],
   "source": [
    "# Get the MAE metric\n",
    "tf.keras.metrics.mean_absolute_error(x_valid, results).numpy()"
   ]
  },
  {
   "cell_type": "code",
   "execution_count": null,
   "metadata": {},
   "outputs": [],
   "source": []
  }
 ],
 "metadata": {
  "colab": {
   "name": "S+P Week 2 Lesson 2.ipynb",
   "provenance": []
  },
  "kernelspec": {
   "display_name": "Python 3",
   "language": "python",
   "name": "python3"
  },
  "language_info": {
   "codemirror_mode": {
    "name": "ipython",
    "version": 3
   },
   "file_extension": ".py",
   "mimetype": "text/x-python",
   "name": "python",
   "nbconvert_exporter": "python",
   "pygments_lexer": "ipython3",
   "version": "3.6.8"
  }
 },
 "nbformat": 4,
 "nbformat_minor": 1
}

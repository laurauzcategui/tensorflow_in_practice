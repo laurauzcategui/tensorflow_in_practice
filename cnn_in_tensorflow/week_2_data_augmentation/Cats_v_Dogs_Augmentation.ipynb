{
 "cells": [
  {
   "cell_type": "markdown",
   "metadata": {
    "colab_type": "text",
    "id": "gGxCD4mGHHjG"
   },
   "source": [
    "Let's start with a model that's very effective at learning Cats v Dogs.\n",
    "\n",
    "It's similar to the previous models that you have used, but I have updated the layers definition. Note that there are now 4 convolutional layers with 32, 64, 128 and 128 convolutions respectively.\n",
    "\n",
    "Also, this will train for 100 epochs, because I want to plot the graph of loss and accuracy."
   ]
  },
  {
   "cell_type": "code",
   "execution_count": 1,
   "metadata": {},
   "outputs": [],
   "source": [
    "from tensorflow.compat.v1 import ConfigProto\n",
    "from tensorflow.compat.v1 import InteractiveSession\n",
    "\n",
    "config = ConfigProto()\n",
    "config.gpu_options.allow_growth = True\n",
    "session = InteractiveSession(config=config)\n",
    "import tensorflow as tf"
   ]
  },
  {
   "cell_type": "code",
   "execution_count": 2,
   "metadata": {},
   "outputs": [],
   "source": [
    "import os\n",
    "import zipfile\n",
    "import tensorflow as tf\n",
    "from tensorflow.keras.optimizers import RMSprop\n",
    "from tensorflow.keras.preprocessing.image import ImageDataGenerator\n",
    "import matplotlib.pyplot as plt"
   ]
  },
  {
   "cell_type": "code",
   "execution_count": 3,
   "metadata": {},
   "outputs": [
    {
     "name": "stdout",
     "output_type": "stream",
     "text": [
      "--2019-11-10 15:11:50--  https://storage.googleapis.com/mledu-datasets/cats_and_dogs_filtered.zip\n",
      "Resolving storage.googleapis.com (storage.googleapis.com)... 74.125.193.128, 2a00:1450:400b:c01::80\n",
      "Connecting to storage.googleapis.com (storage.googleapis.com)|74.125.193.128|:443... connected.\n",
      "HTTP request sent, awaiting response... 200 OK\n",
      "Length: 68606236 (65M) [application/zip]\n",
      "Saving to: ‘/tmp/cats_and_dogs_filtered.zip’\n",
      "\n",
      "/tmp/cats_and_dogs_ 100%[===================>]  65.43M  19.2MB/s    in 3.4s    \n",
      "\n",
      "2019-11-10 15:11:54 (19.2 MB/s) - ‘/tmp/cats_and_dogs_filtered.zip’ saved [68606236/68606236]\n",
      "\n"
     ]
    }
   ],
   "source": [
    "!wget --no-check-certificate \\\n",
    "    https://storage.googleapis.com/mledu-datasets/cats_and_dogs_filtered.zip \\\n",
    "    -O /tmp/cats_and_dogs_filtered.zip"
   ]
  },
  {
   "cell_type": "code",
   "execution_count": 4,
   "metadata": {
    "colab": {},
    "colab_type": "code",
    "id": "MJPyDEzOqrKB"
   },
   "outputs": [],
   "source": [
    "local_zip = '/tmp/cats_and_dogs_filtered.zip'\n",
    "zip_ref = zipfile.ZipFile(local_zip, 'r')\n",
    "zip_ref.extractall('/tmp')\n",
    "zip_ref.close()\n",
    "\n",
    "base_dir = '/tmp/cats_and_dogs_filtered'\n",
    "train_dir = os.path.join(base_dir, 'train')\n",
    "validation_dir = os.path.join(base_dir, 'validation')\n",
    "\n",
    "# Directory with our training cat pictures\n",
    "train_cats_dir = os.path.join(train_dir, 'cats')\n",
    "\n",
    "# Directory with our training dog pictures\n",
    "train_dogs_dir = os.path.join(train_dir, 'dogs')\n",
    "\n",
    "# Directory with our validation cat pictures\n",
    "validation_cats_dir = os.path.join(validation_dir, 'cats')\n",
    "\n",
    "# Directory with our validation dog pictures\n",
    "validation_dogs_dir = os.path.join(validation_dir, 'dogs')"
   ]
  },
  {
   "cell_type": "code",
   "execution_count": 5,
   "metadata": {},
   "outputs": [],
   "source": [
    "model = tf.keras.models.Sequential([\n",
    "    tf.keras.layers.Conv2D(32, (3,3), activation='relu', input_shape=(150, 150, 3)),\n",
    "    tf.keras.layers.MaxPooling2D(2, 2),\n",
    "    tf.keras.layers.Conv2D(64, (3,3), activation='relu'),\n",
    "    tf.keras.layers.MaxPooling2D(2,2),\n",
    "    tf.keras.layers.Conv2D(128, (3,3), activation='relu'),\n",
    "    tf.keras.layers.MaxPooling2D(2,2),\n",
    "    tf.keras.layers.Conv2D(128, (3,3), activation='relu'),\n",
    "    tf.keras.layers.MaxPooling2D(2,2),\n",
    "    tf.keras.layers.Flatten(),\n",
    "    tf.keras.layers.Dense(512, activation='relu'),\n",
    "    tf.keras.layers.Dense(1, activation='sigmoid')\n",
    "])"
   ]
  },
  {
   "cell_type": "code",
   "execution_count": 6,
   "metadata": {},
   "outputs": [],
   "source": [
    "model.compile(loss='binary_crossentropy',\n",
    "              optimizer=RMSprop(lr=1e-4),\n",
    "              metrics=['acc'])"
   ]
  },
  {
   "cell_type": "code",
   "execution_count": 7,
   "metadata": {},
   "outputs": [
    {
     "name": "stdout",
     "output_type": "stream",
     "text": [
      "Found 2000 images belonging to 2 classes.\n",
      "Found 1000 images belonging to 2 classes.\n"
     ]
    }
   ],
   "source": [
    "# All images will be rescaled by 1./255\n",
    "train_datagen = ImageDataGenerator(rescale=1./255)\n",
    "test_datagen = ImageDataGenerator(rescale=1./255)\n",
    "\n",
    "# Flow training images in batches of 20 using train_datagen generator\n",
    "train_generator = train_datagen.flow_from_directory(\n",
    "        train_dir,  # This is the source directory for training images\n",
    "        target_size=(150, 150),  # All images will be resized to 150x150\n",
    "        batch_size=20,\n",
    "        # Since we use binary_crossentropy loss, we need binary labels\n",
    "        class_mode='binary')\n",
    "\n",
    "# Flow validation images in batches of 20 using test_datagen generator\n",
    "validation_generator = test_datagen.flow_from_directory(\n",
    "        validation_dir,\n",
    "        target_size=(150, 150),\n",
    "        batch_size=20,\n",
    "        class_mode='binary')\n",
    "\n"
   ]
  },
  {
   "cell_type": "code",
   "execution_count": 8,
   "metadata": {},
   "outputs": [
    {
     "name": "stdout",
     "output_type": "stream",
     "text": [
      "Epoch 1/20\n",
      "100/100 - 12s - loss: 0.6986 - acc: 0.5200 - val_loss: 0.6777 - val_acc: 0.6030\n",
      "Epoch 2/20\n",
      "100/100 - 9s - loss: 0.6666 - acc: 0.5820 - val_loss: 0.6416 - val_acc: 0.6190\n",
      "Epoch 3/20\n",
      "100/100 - 9s - loss: 0.6306 - acc: 0.6485 - val_loss: 0.6087 - val_acc: 0.6960\n",
      "Epoch 4/20\n",
      "100/100 - 10s - loss: 0.5829 - acc: 0.6965 - val_loss: 0.5728 - val_acc: 0.7040\n",
      "Epoch 5/20\n",
      "100/100 - 10s - loss: 0.5432 - acc: 0.7305 - val_loss: 0.5741 - val_acc: 0.6960\n",
      "Epoch 6/20\n",
      "100/100 - 10s - loss: 0.5105 - acc: 0.7475 - val_loss: 0.5516 - val_acc: 0.7230\n",
      "Epoch 7/20\n",
      "100/100 - 9s - loss: 0.4881 - acc: 0.7650 - val_loss: 0.5452 - val_acc: 0.7310\n",
      "Epoch 8/20\n",
      "100/100 - 9s - loss: 0.4575 - acc: 0.7920 - val_loss: 0.5558 - val_acc: 0.7170\n",
      "Epoch 9/20\n",
      "100/100 - 9s - loss: 0.4341 - acc: 0.8010 - val_loss: 0.5264 - val_acc: 0.7460\n",
      "Epoch 10/20\n",
      "100/100 - 9s - loss: 0.4121 - acc: 0.8130 - val_loss: 0.5443 - val_acc: 0.7250\n",
      "Epoch 11/20\n",
      "100/100 - 9s - loss: 0.3813 - acc: 0.8315 - val_loss: 0.5379 - val_acc: 0.7540\n",
      "Epoch 12/20\n",
      "100/100 - 9s - loss: 0.3636 - acc: 0.8385 - val_loss: 0.5405 - val_acc: 0.7440\n",
      "Epoch 13/20\n",
      "100/100 - 9s - loss: 0.3339 - acc: 0.8560 - val_loss: 0.6576 - val_acc: 0.7010\n",
      "Epoch 14/20\n",
      "100/100 - 9s - loss: 0.3054 - acc: 0.8700 - val_loss: 0.5341 - val_acc: 0.7510\n",
      "Epoch 15/20\n",
      "100/100 - 9s - loss: 0.2896 - acc: 0.8785 - val_loss: 0.5517 - val_acc: 0.7430\n",
      "Epoch 16/20\n",
      "100/100 - 9s - loss: 0.2610 - acc: 0.9010 - val_loss: 0.5444 - val_acc: 0.7560\n",
      "Epoch 17/20\n",
      "100/100 - 9s - loss: 0.2428 - acc: 0.9005 - val_loss: 0.5881 - val_acc: 0.7370\n",
      "Epoch 18/20\n",
      "100/100 - 10s - loss: 0.2282 - acc: 0.9105 - val_loss: 0.5763 - val_acc: 0.7450\n",
      "Epoch 19/20\n",
      "100/100 - 10s - loss: 0.1953 - acc: 0.9305 - val_loss: 0.5966 - val_acc: 0.7580\n",
      "Epoch 20/20\n",
      "100/100 - 11s - loss: 0.1744 - acc: 0.9360 - val_loss: 0.6558 - val_acc: 0.7370\n"
     ]
    }
   ],
   "source": [
    "history = model.fit_generator(\n",
    "      train_generator,\n",
    "      steps_per_epoch=100,  # 2000 images = batch_size * steps\n",
    "      epochs=20,\n",
    "      validation_data=validation_generator,\n",
    "      validation_steps=50,  # 1000 images = batch_size * steps\n",
    "      verbose=2)"
   ]
  },
  {
   "cell_type": "code",
   "execution_count": 9,
   "metadata": {
    "colab": {
     "height": 561
    },
    "colab_type": "code",
    "id": "GZWPcmKWO303",
    "outputId": "9dc14530-e7af-4e53-d7c1-71051a60b154"
   },
   "outputs": [
    {
     "data": {
      "image/png": "[encoded data removed]",
      "text/plain": [
       "<Figure size 432x288 with 1 Axes>"
      ]
     },
     "metadata": {
      "needs_background": "light"
     },
     "output_type": "display_data"
    },
    {
     "data": {
      "image/png": "[encoded data removed]",
      "text/plain": [
       "<Figure size 432x288 with 1 Axes>"
      ]
     },
     "metadata": {
      "needs_background": "light"
     },
     "output_type": "display_data"
    }
   ],
   "source": [
    "\n",
    "acc = history.history['acc']\n",
    "val_acc = history.history['val_acc']\n",
    "loss = history.history['loss']\n",
    "val_loss = history.history['val_loss']\n",
    "\n",
    "epochs = range(len(acc))\n",
    "\n",
    "plt.plot(epochs, acc, 'bo', label='Training accuracy')\n",
    "plt.plot(epochs, val_acc, 'b', label='Validation accuracy')\n",
    "plt.title('Training and validation accuracy')\n",
    "\n",
    "plt.figure()\n",
    "\n",
    "plt.plot(epochs, loss, 'bo', label='Training Loss')\n",
    "plt.plot(epochs, val_loss, 'b', label='Validation Loss')\n",
    "plt.title('Training and validation loss')\n",
    "plt.legend()\n",
    "\n",
    "plt.show()"
   ]
  },
  {
   "cell_type": "markdown",
   "metadata": {
    "colab_type": "text",
    "id": "zb81GvNov-Tg"
   },
   "source": [
    "The Training Accuracy is close to 100%, and the validation accuracy is in the 70%-80% range. This is a great example of overfitting -- which in short means that it can do very well with images it has seen before, but not so well with images it hasn't. Let's see if we can do better to avoid overfitting -- and one simple method is to augment the images a bit. If you think about it, most pictures of a cat are very similar -- the ears are at the top, then the eyes, then the mouth etc. Things like the distance between the eyes and ears will always be quite similar too. \n",
    "\n",
    "What if we tweak with the images to change this up a bit -- rotate the image, squash it, etc.  That's what image augementation is all about. And there's an API that makes it easy...\n",
    "\n",
    "Now take a look at the ImageGenerator. There are properties on it that you can use to augment the image. \n",
    "\n",
    "```\n",
    "# Updated to do image augmentation\n",
    "train_datagen = ImageDataGenerator(\n",
    "      rotation_range=40,\n",
    "      width_shift_range=0.2,\n",
    "      height_shift_range=0.2,\n",
    "      shear_range=0.2,\n",
    "      zoom_range=0.2,\n",
    "      horizontal_flip=True,\n",
    "      fill_mode='nearest')\n",
    "```\n",
    "These are just a few of the options available (for more, see the Keras documentation. Let's quickly go over what we just wrote:\n",
    "\n",
    "* rotation_range is a value in degrees (0–180), a range within which to randomly rotate pictures.\n",
    "* width_shift and height_shift are ranges (as a fraction of total width or height) within which to randomly translate pictures vertically or horizontally.\n",
    "* shear_range is for randomly applying shearing transformations.\n",
    "* zoom_range is for randomly zooming inside pictures.\n",
    "* horizontal_flip is for randomly flipping half of the images horizontally. This is relevant when there are no assumptions of horizontal assymmetry (e.g. real-world pictures).\n",
    "* fill_mode is the strategy used for filling in newly created pixels, which can appear after a rotation or a width/height shift.\n",
    "\n",
    "\n",
    "Here's some code where we've added Image Augmentation. Run it to see the impact.\n"
   ]
  },
  {
   "cell_type": "code",
   "execution_count": 10,
   "metadata": {
    "colab": {},
    "colab_type": "code",
    "id": "UK7_Fflgv8YC"
   },
   "outputs": [],
   "source": [
    "model = tf.keras.models.Sequential([\n",
    "    tf.keras.layers.Conv2D(32, (3,3), activation='relu', input_shape=(150, 150, 3)),\n",
    "    tf.keras.layers.MaxPooling2D(2, 2),\n",
    "    tf.keras.layers.Conv2D(64, (3,3), activation='relu'),\n",
    "    tf.keras.layers.MaxPooling2D(2,2),\n",
    "    tf.keras.layers.Conv2D(128, (3,3), activation='relu'),\n",
    "    tf.keras.layers.MaxPooling2D(2,2),\n",
    "    tf.keras.layers.Conv2D(128, (3,3), activation='relu'),\n",
    "    tf.keras.layers.MaxPooling2D(2,2),\n",
    "    tf.keras.layers.Flatten(),\n",
    "    tf.keras.layers.Dense(512, activation='relu'),\n",
    "    tf.keras.layers.Dense(1, activation='sigmoid')\n",
    "])\n",
    "\n",
    "model.compile(loss='binary_crossentropy',\n",
    "              optimizer=RMSprop(lr=1e-4),\n",
    "              metrics=['acc'])\n",
    "\n"
   ]
  },
  {
   "cell_type": "code",
   "execution_count": 11,
   "metadata": {},
   "outputs": [
    {
     "name": "stdout",
     "output_type": "stream",
     "text": [
      "Found 2000 images belonging to 2 classes.\n",
      "Found 1000 images belonging to 2 classes.\n",
      "Epoch 1/100\n",
      "100/100 - 12s - loss: 0.6938 - acc: 0.5115 - val_loss: 0.6826 - val_acc: 0.5440\n",
      "Epoch 2/100\n",
      "100/100 - 12s - loss: 0.6834 - acc: 0.5600 - val_loss: 0.6866 - val_acc: 0.5290\n",
      "Epoch 3/100\n",
      "100/100 - 11s - loss: 0.6702 - acc: 0.5890 - val_loss: 0.6385 - val_acc: 0.6430\n",
      "Epoch 4/100\n",
      "100/100 - 11s - loss: 0.6527 - acc: 0.6200 - val_loss: 0.6310 - val_acc: 0.6400\n",
      "Epoch 5/100\n",
      "100/100 - 12s - loss: 0.6441 - acc: 0.6370 - val_loss: 0.6107 - val_acc: 0.6540\n",
      "Epoch 6/100\n",
      "100/100 - 12s - loss: 0.6241 - acc: 0.6560 - val_loss: 0.5940 - val_acc: 0.6580\n",
      "Epoch 7/100\n",
      "100/100 - 12s - loss: 0.6071 - acc: 0.6725 - val_loss: 0.5580 - val_acc: 0.7120\n",
      "Epoch 8/100\n",
      "100/100 - 13s - loss: 0.5952 - acc: 0.6850 - val_loss: 0.5487 - val_acc: 0.7120\n",
      "Epoch 9/100\n",
      "100/100 - 12s - loss: 0.5851 - acc: 0.6890 - val_loss: 0.5955 - val_acc: 0.6790\n",
      "Epoch 10/100\n",
      "100/100 - 12s - loss: 0.5866 - acc: 0.6915 - val_loss: 0.5302 - val_acc: 0.7360\n",
      "Epoch 11/100\n",
      "100/100 - 12s - loss: 0.5787 - acc: 0.6930 - val_loss: 0.5889 - val_acc: 0.6970\n",
      "Epoch 12/100\n",
      "100/100 - 12s - loss: 0.5775 - acc: 0.6980 - val_loss: 0.5646 - val_acc: 0.7170\n",
      "Epoch 13/100\n",
      "100/100 - 12s - loss: 0.5662 - acc: 0.7035 - val_loss: 0.5445 - val_acc: 0.7140\n",
      "Epoch 14/100\n",
      "100/100 - 12s - loss: 0.5590 - acc: 0.7095 - val_loss: 0.5731 - val_acc: 0.7080\n",
      "Epoch 15/100\n",
      "100/100 - 13s - loss: 0.5540 - acc: 0.7120 - val_loss: 0.5167 - val_acc: 0.7400\n",
      "Epoch 16/100\n",
      "100/100 - 12s - loss: 0.5501 - acc: 0.7175 - val_loss: 0.5050 - val_acc: 0.7480\n",
      "Epoch 17/100\n",
      "100/100 - 12s - loss: 0.5629 - acc: 0.7040 - val_loss: 0.5308 - val_acc: 0.7270\n",
      "Epoch 18/100\n",
      "100/100 - 12s - loss: 0.5368 - acc: 0.7270 - val_loss: 0.5237 - val_acc: 0.7420\n",
      "Epoch 19/100\n",
      "100/100 - 12s - loss: 0.5355 - acc: 0.7300 - val_loss: 0.5315 - val_acc: 0.7350\n",
      "Epoch 20/100\n",
      "100/100 - 12s - loss: 0.5286 - acc: 0.7205 - val_loss: 0.5646 - val_acc: 0.7100\n",
      "Epoch 21/100\n",
      "100/100 - 12s - loss: 0.5465 - acc: 0.7195 - val_loss: 0.5287 - val_acc: 0.7400\n",
      "Epoch 22/100\n",
      "100/100 - 12s - loss: 0.5285 - acc: 0.7315 - val_loss: 0.5791 - val_acc: 0.6800\n",
      "Epoch 23/100\n",
      "100/100 - 13s - loss: 0.5327 - acc: 0.7290 - val_loss: 0.4845 - val_acc: 0.7530\n",
      "Epoch 24/100\n",
      "100/100 - 13s - loss: 0.5215 - acc: 0.7375 - val_loss: 0.5306 - val_acc: 0.7300\n",
      "Epoch 25/100\n",
      "100/100 - 12s - loss: 0.5249 - acc: 0.7355 - val_loss: 0.4884 - val_acc: 0.7600\n",
      "Epoch 26/100\n",
      "100/100 - 12s - loss: 0.5134 - acc: 0.7370 - val_loss: 0.4988 - val_acc: 0.7500\n",
      "Epoch 27/100\n",
      "100/100 - 13s - loss: 0.5222 - acc: 0.7300 - val_loss: 0.4708 - val_acc: 0.7740\n",
      "Epoch 28/100\n",
      "100/100 - 12s - loss: 0.5232 - acc: 0.7435 - val_loss: 0.5256 - val_acc: 0.7300\n",
      "Epoch 29/100\n",
      "100/100 - 13s - loss: 0.5166 - acc: 0.7510 - val_loss: 0.4875 - val_acc: 0.7600\n",
      "Epoch 30/100\n",
      "100/100 - 13s - loss: 0.5090 - acc: 0.7460 - val_loss: 0.4802 - val_acc: 0.7620\n",
      "Epoch 31/100\n",
      "100/100 - 12s - loss: 0.5061 - acc: 0.7585 - val_loss: 0.4711 - val_acc: 0.7650\n",
      "Epoch 32/100\n",
      "100/100 - 13s - loss: 0.4915 - acc: 0.7645 - val_loss: 0.4780 - val_acc: 0.7710\n",
      "Epoch 33/100\n",
      "100/100 - 13s - loss: 0.4937 - acc: 0.7510 - val_loss: 0.4692 - val_acc: 0.7790\n",
      "Epoch 34/100\n",
      "100/100 - 13s - loss: 0.4908 - acc: 0.7620 - val_loss: 0.4668 - val_acc: 0.7800\n",
      "Epoch 35/100\n",
      "100/100 - 13s - loss: 0.4963 - acc: 0.7535 - val_loss: 0.4993 - val_acc: 0.7630\n",
      "Epoch 36/100\n",
      "100/100 - 13s - loss: 0.4711 - acc: 0.7705 - val_loss: 0.4891 - val_acc: 0.7610\n",
      "Epoch 37/100\n",
      "100/100 - 13s - loss: 0.4973 - acc: 0.7515 - val_loss: 0.4806 - val_acc: 0.7590\n",
      "Epoch 38/100\n",
      "100/100 - 12s - loss: 0.4705 - acc: 0.7700 - val_loss: 0.4645 - val_acc: 0.7750\n",
      "Epoch 39/100\n",
      "100/100 - 12s - loss: 0.4778 - acc: 0.7600 - val_loss: 0.6062 - val_acc: 0.6880\n",
      "Epoch 40/100\n",
      "100/100 - 13s - loss: 0.4844 - acc: 0.7735 - val_loss: 0.4683 - val_acc: 0.7800\n",
      "Epoch 41/100\n",
      "100/100 - 13s - loss: 0.4714 - acc: 0.7630 - val_loss: 0.5692 - val_acc: 0.7150\n",
      "Epoch 42/100\n",
      "100/100 - 13s - loss: 0.4753 - acc: 0.7735 - val_loss: 0.4756 - val_acc: 0.7590\n",
      "Epoch 43/100\n",
      "100/100 - 13s - loss: 0.4742 - acc: 0.7580 - val_loss: 0.4982 - val_acc: 0.7570\n",
      "Epoch 44/100\n",
      "100/100 - 13s - loss: 0.4639 - acc: 0.7725 - val_loss: 0.4524 - val_acc: 0.7830\n",
      "Epoch 45/100\n",
      "100/100 - 12s - loss: 0.4610 - acc: 0.7790 - val_loss: 0.4531 - val_acc: 0.7900\n",
      "Epoch 46/100\n",
      "100/100 - 12s - loss: 0.4565 - acc: 0.7880 - val_loss: 0.4506 - val_acc: 0.7900\n",
      "Epoch 47/100\n",
      "100/100 - 12s - loss: 0.4622 - acc: 0.7795 - val_loss: 0.4676 - val_acc: 0.7780\n",
      "Epoch 48/100\n",
      "100/100 - 12s - loss: 0.4499 - acc: 0.7870 - val_loss: 0.5371 - val_acc: 0.7360\n",
      "Epoch 49/100\n",
      "100/100 - 13s - loss: 0.4517 - acc: 0.7775 - val_loss: 0.4671 - val_acc: 0.7680\n",
      "Epoch 50/100\n",
      "100/100 - 12s - loss: 0.4637 - acc: 0.7665 - val_loss: 0.4805 - val_acc: 0.7600\n",
      "Epoch 51/100\n",
      "100/100 - 12s - loss: 0.4526 - acc: 0.7860 - val_loss: 0.4510 - val_acc: 0.7840\n",
      "Epoch 52/100\n",
      "100/100 - 12s - loss: 0.4510 - acc: 0.7865 - val_loss: 0.4421 - val_acc: 0.8030\n",
      "Epoch 53/100\n",
      "100/100 - 13s - loss: 0.4401 - acc: 0.7965 - val_loss: 0.4431 - val_acc: 0.7830\n",
      "Epoch 54/100\n",
      "100/100 - 13s - loss: 0.4441 - acc: 0.7880 - val_loss: 0.4832 - val_acc: 0.7600\n",
      "Epoch 55/100\n",
      "100/100 - 13s - loss: 0.4430 - acc: 0.7935 - val_loss: 0.4301 - val_acc: 0.7920\n",
      "Epoch 56/100\n",
      "100/100 - 13s - loss: 0.4336 - acc: 0.7950 - val_loss: 0.4990 - val_acc: 0.7690\n",
      "Epoch 57/100\n",
      "100/100 - 13s - loss: 0.4472 - acc: 0.7870 - val_loss: 0.4414 - val_acc: 0.7990\n",
      "Epoch 58/100\n",
      "100/100 - 13s - loss: 0.4347 - acc: 0.7880 - val_loss: 0.5161 - val_acc: 0.7680\n",
      "Epoch 59/100\n",
      "100/100 - 13s - loss: 0.4240 - acc: 0.7985 - val_loss: 0.4789 - val_acc: 0.7770\n",
      "Epoch 60/100\n",
      "100/100 - 12s - loss: 0.4303 - acc: 0.7900 - val_loss: 0.4383 - val_acc: 0.7910\n",
      "Epoch 61/100\n",
      "100/100 - 12s - loss: 0.4321 - acc: 0.7950 - val_loss: 0.4522 - val_acc: 0.7780\n",
      "Epoch 62/100\n",
      "100/100 - 12s - loss: 0.4386 - acc: 0.7970 - val_loss: 0.4986 - val_acc: 0.7550\n",
      "Epoch 63/100\n",
      "100/100 - 13s - loss: 0.4327 - acc: 0.7905 - val_loss: 0.4345 - val_acc: 0.8000\n",
      "Epoch 64/100\n",
      "100/100 - 13s - loss: 0.4351 - acc: 0.7940 - val_loss: 0.4277 - val_acc: 0.7970\n",
      "Epoch 65/100\n",
      "100/100 - 13s - loss: 0.4279 - acc: 0.8020 - val_loss: 0.4556 - val_acc: 0.7900\n",
      "Epoch 66/100\n",
      "100/100 - 13s - loss: 0.4175 - acc: 0.8040 - val_loss: 0.4420 - val_acc: 0.7780\n",
      "Epoch 67/100\n",
      "100/100 - 12s - loss: 0.4081 - acc: 0.8085 - val_loss: 0.4452 - val_acc: 0.7990\n",
      "Epoch 68/100\n",
      "100/100 - 13s - loss: 0.4206 - acc: 0.7975 - val_loss: 0.4586 - val_acc: 0.7790\n",
      "Epoch 69/100\n",
      "100/100 - 12s - loss: 0.4104 - acc: 0.8050 - val_loss: 0.4403 - val_acc: 0.7910\n",
      "Epoch 70/100\n",
      "100/100 - 12s - loss: 0.4163 - acc: 0.7955 - val_loss: 0.4231 - val_acc: 0.7940\n",
      "Epoch 71/100\n",
      "100/100 - 12s - loss: 0.4136 - acc: 0.8120 - val_loss: 0.4473 - val_acc: 0.7950\n",
      "Epoch 72/100\n",
      "100/100 - 12s - loss: 0.4085 - acc: 0.8095 - val_loss: 0.4178 - val_acc: 0.8020\n",
      "Epoch 73/100\n",
      "100/100 - 12s - loss: 0.4074 - acc: 0.8125 - val_loss: 0.4268 - val_acc: 0.7920\n",
      "Epoch 74/100\n",
      "100/100 - 12s - loss: 0.4065 - acc: 0.8150 - val_loss: 0.4378 - val_acc: 0.7900\n",
      "Epoch 75/100\n",
      "100/100 - 12s - loss: 0.3915 - acc: 0.8220 - val_loss: 0.4556 - val_acc: 0.7830\n",
      "Epoch 76/100\n",
      "100/100 - 13s - loss: 0.4062 - acc: 0.8175 - val_loss: 0.4169 - val_acc: 0.8010\n",
      "Epoch 77/100\n",
      "100/100 - 13s - loss: 0.4017 - acc: 0.8150 - val_loss: 0.4012 - val_acc: 0.8110\n",
      "Epoch 78/100\n",
      "100/100 - 13s - loss: 0.4042 - acc: 0.8070 - val_loss: 0.4296 - val_acc: 0.7950\n",
      "Epoch 79/100\n",
      "100/100 - 13s - loss: 0.3966 - acc: 0.8125 - val_loss: 0.4083 - val_acc: 0.7980\n",
      "Epoch 80/100\n",
      "100/100 - 12s - loss: 0.4023 - acc: 0.8170 - val_loss: 0.4028 - val_acc: 0.8060\n",
      "Epoch 81/100\n",
      "100/100 - 12s - loss: 0.3860 - acc: 0.8230 - val_loss: 0.5462 - val_acc: 0.7410\n",
      "Epoch 82/100\n",
      "100/100 - 12s - loss: 0.3917 - acc: 0.8180 - val_loss: 0.4309 - val_acc: 0.7930\n",
      "Epoch 83/100\n",
      "100/100 - 12s - loss: 0.3835 - acc: 0.8165 - val_loss: 0.4477 - val_acc: 0.7930\n",
      "Epoch 84/100\n",
      "100/100 - 12s - loss: 0.3947 - acc: 0.8295 - val_loss: 0.4496 - val_acc: 0.7890\n",
      "Epoch 85/100\n",
      "100/100 - 12s - loss: 0.3873 - acc: 0.8185 - val_loss: 0.4089 - val_acc: 0.8040\n",
      "Epoch 86/100\n",
      "100/100 - 12s - loss: 0.3923 - acc: 0.8215 - val_loss: 0.5611 - val_acc: 0.7580\n",
      "Epoch 87/100\n",
      "100/100 - 12s - loss: 0.3774 - acc: 0.8245 - val_loss: 0.4074 - val_acc: 0.8160\n",
      "Epoch 88/100\n",
      "100/100 - 12s - loss: 0.3760 - acc: 0.8380 - val_loss: 0.4069 - val_acc: 0.8080\n"
     ]
    },
    {
     "name": "stdout",
     "output_type": "stream",
     "text": [
      "Epoch 89/100\n",
      "100/100 - 12s - loss: 0.3816 - acc: 0.8250 - val_loss: 0.4374 - val_acc: 0.7960\n",
      "Epoch 90/100\n",
      "100/100 - 12s - loss: 0.3648 - acc: 0.8325 - val_loss: 0.4842 - val_acc: 0.7660\n",
      "Epoch 91/100\n",
      "100/100 - 12s - loss: 0.3683 - acc: 0.8300 - val_loss: 0.4101 - val_acc: 0.8120\n",
      "Epoch 92/100\n",
      "100/100 - 12s - loss: 0.3728 - acc: 0.8295 - val_loss: 0.3945 - val_acc: 0.8070\n",
      "Epoch 93/100\n",
      "100/100 - 13s - loss: 0.3699 - acc: 0.8270 - val_loss: 0.4163 - val_acc: 0.8090\n",
      "Epoch 94/100\n",
      "100/100 - 12s - loss: 0.3611 - acc: 0.8390 - val_loss: 0.4250 - val_acc: 0.8000\n",
      "Epoch 95/100\n",
      "100/100 - 12s - loss: 0.3697 - acc: 0.8355 - val_loss: 0.4010 - val_acc: 0.8190\n",
      "Epoch 96/100\n",
      "100/100 - 12s - loss: 0.3706 - acc: 0.8320 - val_loss: 0.3935 - val_acc: 0.8140\n",
      "Epoch 97/100\n",
      "100/100 - 12s - loss: 0.3667 - acc: 0.8425 - val_loss: 0.4123 - val_acc: 0.8080\n",
      "Epoch 98/100\n",
      "100/100 - 12s - loss: 0.3672 - acc: 0.8415 - val_loss: 0.4014 - val_acc: 0.8060\n",
      "Epoch 99/100\n",
      "100/100 - 12s - loss: 0.3463 - acc: 0.8490 - val_loss: 0.4057 - val_acc: 0.8090\n",
      "Epoch 100/100\n",
      "100/100 - 12s - loss: 0.3554 - acc: 0.8405 - val_loss: 0.4244 - val_acc: 0.8140\n"
     ]
    }
   ],
   "source": [
    "# This code has changed. Now instead of the ImageGenerator just rescaling\n",
    "# the image, we also rotate and do other operations\n",
    "# Updated to do image augmentation\n",
    "train_datagen = ImageDataGenerator(\n",
    "      rescale=1./255,\n",
    "      rotation_range=40,\n",
    "      width_shift_range=0.2,\n",
    "      height_shift_range=0.2,\n",
    "      shear_range=0.2,\n",
    "      zoom_range=0.2,\n",
    "      horizontal_flip=True,\n",
    "      fill_mode='nearest')\n",
    "\n",
    "test_datagen = ImageDataGenerator(rescale=1./255)\n",
    "\n",
    "# Flow training images in batches of 20 using train_datagen generator\n",
    "train_generator = train_datagen.flow_from_directory(\n",
    "        train_dir,  # This is the source directory for training images\n",
    "        target_size=(150, 150),  # All images will be resized to 150x150\n",
    "        batch_size=20,\n",
    "        # Since we use binary_crossentropy loss, we need binary labels\n",
    "        class_mode='binary')\n",
    "\n",
    "# Flow validation images in batches of 20 using test_datagen generator\n",
    "validation_generator = test_datagen.flow_from_directory(\n",
    "        validation_dir,\n",
    "        target_size=(150, 150),\n",
    "        batch_size=20,\n",
    "        class_mode='binary')\n",
    "\n",
    "history = model.fit_generator(\n",
    "      train_generator,\n",
    "      steps_per_epoch=100,  # 2000 images = batch_size * steps\n",
    "      epochs=100,\n",
    "      validation_data=validation_generator,\n",
    "      validation_steps=50,  # 1000 images = batch_size * steps\n",
    "      verbose=2)"
   ]
  },
  {
   "cell_type": "code",
   "execution_count": 15,
   "metadata": {
    "colab": {
     "height": 561
    },
    "colab_type": "code",
    "id": "bnyRnwopT5aW",
    "outputId": "8cdd3e7b-43f0-44de-ad69-30f08e1c5d4d"
   },
   "outputs": [
    {
     "data": {
      "image/png": "[encoded data removed]",
      "text/plain": [
       "<Figure size 432x288 with 1 Axes>"
      ]
     },
     "metadata": {
      "needs_background": "light"
     },
     "output_type": "display_data"
    },
    {
     "data": {
      "image/png": "[encoded data removed]",
      "text/plain": [
       "<Figure size 432x288 with 1 Axes>"
      ]
     },
     "metadata": {
      "needs_background": "light"
     },
     "output_type": "display_data"
    }
   ],
   "source": [
    "\n",
    "acc = history.history['acc']\n",
    "val_acc = history.history['val_acc']\n",
    "loss = history.history['loss']\n",
    "val_loss = history.history['val_loss']\n",
    "\n",
    "epochs = range(len(acc))\n",
    "\n",
    "plt.plot(epochs, acc, 'bo', label='Training accuracy')\n",
    "plt.plot(epochs, val_acc, 'b', label='Validation accuracy')\n",
    "plt.title('Training and validation accuracy')\n",
    "\n",
    "plt.figure()\n",
    "\n",
    "plt.plot(epochs, loss, 'bo', label='Training Loss')\n",
    "plt.plot(epochs, val_loss, 'b', label='Validation Loss')\n",
    "plt.title('Training and validation loss')\n",
    "plt.legend()\n",
    "\n",
    "plt.show()"
   ]
  },
  {
   "cell_type": "code",
   "execution_count": 22,
   "metadata": {
    "colab": {
     "height": 3731
    },
    "colab_type": "code",
    "id": "TmYgnrcobqw1",
    "outputId": "556cc15b-fe3d-40c0-a5e7-33c787ce1031"
   },
   "outputs": [],
   "source": [
    "model = tf.keras.models.Sequential([\n",
    "    tf.keras.layers.Conv2D(32, (3,3), activation='relu', input_shape=(150, 150, 3)),\n",
    "    tf.keras.layers.MaxPooling2D(2, 2),\n",
    "    tf.keras.layers.Conv2D(64, (3,3), activation='relu'),\n",
    "    tf.keras.layers.MaxPooling2D(2,2),\n",
    "    tf.keras.layers.Conv2D(128, (3,3), activation='relu'),\n",
    "    tf.keras.layers.MaxPooling2D(2,2),\n",
    "    tf.keras.layers.Conv2D(128, (3,3), activation='relu'),\n",
    "    tf.keras.layers.MaxPooling2D(2,2),\n",
    "    tf.keras.layers.Dropout(0.5),\n",
    "    tf.keras.layers.Flatten(),\n",
    "    tf.keras.layers.Dense(512, activation='relu'),\n",
    "    tf.keras.layers.Dense(1, activation='sigmoid')\n",
    "])\n",
    "\n"
   ]
  },
  {
   "cell_type": "code",
   "execution_count": 23,
   "metadata": {},
   "outputs": [],
   "source": [
    "model.compile(loss='binary_crossentropy',\n",
    "              optimizer=RMSprop(lr=1e-4),\n",
    "              metrics=['acc'])\n",
    "\n"
   ]
  },
  {
   "cell_type": "code",
   "execution_count": 24,
   "metadata": {},
   "outputs": [
    {
     "name": "stdout",
     "output_type": "stream",
     "text": [
      "Found 2000 images belonging to 2 classes.\n",
      "Found 1000 images belonging to 2 classes.\n"
     ]
    }
   ],
   "source": [
    "# This code has changed. Now instead of the ImageGenerator just rescaling\n",
    "# the image, we also rotate and do other operations\n",
    "# Updated to do image augmentation\n",
    "train_datagen = ImageDataGenerator(\n",
    "      rescale=1./255,\n",
    "      rotation_range=40,\n",
    "      width_shift_range=0.2,\n",
    "      height_shift_range=0.2,\n",
    "      shear_range=0.2,\n",
    "      zoom_range=0.2,\n",
    "      horizontal_flip=True,\n",
    "      fill_mode='nearest')\n",
    "\n",
    "test_datagen = ImageDataGenerator(rescale=1./255)\n",
    "\n",
    "# Flow training images in batches of 20 using train_datagen generator\n",
    "train_generator = train_datagen.flow_from_directory(\n",
    "        train_dir,  # This is the source directory for training images\n",
    "        target_size=(150, 150),  # All images will be resized to 150x150\n",
    "        batch_size=20,\n",
    "        # Since we use binary_crossentropy loss, we need binary labels\n",
    "        class_mode='binary')\n",
    "\n",
    "# Flow validation images in batches of 20 using test_datagen generator\n",
    "validation_generator = test_datagen.flow_from_directory(\n",
    "        validation_dir,\n",
    "        target_size=(150, 150),\n",
    "        batch_size=20,\n",
    "        class_mode='binary')\n",
    "\n"
   ]
  },
  {
   "cell_type": "code",
   "execution_count": 25,
   "metadata": {},
   "outputs": [
    {
     "name": "stdout",
     "output_type": "stream",
     "text": [
      "Epoch 1/20\n",
      "100/100 - 14s - loss: 0.6924 - acc: 0.5155 - val_loss: 0.6873 - val_acc: 0.5830\n",
      "Epoch 2/20\n",
      "100/100 - 12s - loss: 0.6831 - acc: 0.5625 - val_loss: 0.6676 - val_acc: 0.5590\n",
      "Epoch 3/20\n",
      "100/100 - 12s - loss: 0.6719 - acc: 0.5935 - val_loss: 0.6499 - val_acc: 0.6130\n",
      "Epoch 4/20\n",
      "100/100 - 13s - loss: 0.6514 - acc: 0.6220 - val_loss: 0.6306 - val_acc: 0.6300\n",
      "Epoch 5/20\n",
      "100/100 - 13s - loss: 0.6438 - acc: 0.6345 - val_loss: 0.6116 - val_acc: 0.6700\n",
      "Epoch 6/20\n",
      "100/100 - 13s - loss: 0.6314 - acc: 0.6500 - val_loss: 0.6873 - val_acc: 0.5870\n",
      "Epoch 7/20\n",
      "100/100 - 12s - loss: 0.6280 - acc: 0.6470 - val_loss: 0.6017 - val_acc: 0.6620\n",
      "Epoch 8/20\n",
      "100/100 - 12s - loss: 0.6283 - acc: 0.6485 - val_loss: 0.5772 - val_acc: 0.6910\n",
      "Epoch 9/20\n",
      "100/100 - 13s - loss: 0.6075 - acc: 0.6670 - val_loss: 0.5637 - val_acc: 0.6870\n",
      "Epoch 10/20\n",
      "100/100 - 13s - loss: 0.6043 - acc: 0.6770 - val_loss: 0.5614 - val_acc: 0.6980\n",
      "Epoch 11/20\n",
      "100/100 - 13s - loss: 0.5933 - acc: 0.6655 - val_loss: 0.5475 - val_acc: 0.7110\n",
      "Epoch 12/20\n",
      "100/100 - 13s - loss: 0.5841 - acc: 0.6840 - val_loss: 0.5980 - val_acc: 0.6770\n",
      "Epoch 13/20\n",
      "100/100 - 13s - loss: 0.5829 - acc: 0.7005 - val_loss: 0.5260 - val_acc: 0.7280\n",
      "Epoch 14/20\n",
      "100/100 - 13s - loss: 0.5729 - acc: 0.7095 - val_loss: 0.5277 - val_acc: 0.7290\n",
      "Epoch 15/20\n",
      "100/100 - 13s - loss: 0.5769 - acc: 0.6915 - val_loss: 0.5194 - val_acc: 0.7290\n",
      "Epoch 16/20\n",
      "100/100 - 13s - loss: 0.5718 - acc: 0.7015 - val_loss: 0.5141 - val_acc: 0.7290\n",
      "Epoch 17/20\n",
      "100/100 - 13s - loss: 0.5623 - acc: 0.7115 - val_loss: 0.5451 - val_acc: 0.7090\n",
      "Epoch 18/20\n",
      "100/100 - 13s - loss: 0.5593 - acc: 0.7060 - val_loss: 0.5922 - val_acc: 0.6850\n",
      "Epoch 19/20\n",
      "100/100 - 13s - loss: 0.5528 - acc: 0.7160 - val_loss: 0.5342 - val_acc: 0.7190\n",
      "Epoch 20/20\n",
      "100/100 - 13s - loss: 0.5590 - acc: 0.7095 - val_loss: 0.5397 - val_acc: 0.7140\n"
     ]
    }
   ],
   "source": [
    "history = model.fit_generator(\n",
    "      train_generator,\n",
    "      steps_per_epoch=100,  # 2000 images = batch_size * steps\n",
    "      epochs=100,\n",
    "      validation_data=validation_generator,\n",
    "      validation_steps=50,  # 1000 images = batch_size * steps\n",
    "      verbose=2)"
   ]
  },
  {
   "cell_type": "code",
   "execution_count": 26,
   "metadata": {
    "colab": {
     "height": 561
    },
    "colab_type": "code",
    "id": "I3yFv2Jpb2Dl",
    "outputId": "fc13860a-d65f-4836-ad41-79b8c45588eb"
   },
   "outputs": [
    {
     "data": {
      "image/png": "[encoded data removed]",
      "text/plain": [
       "<Figure size 432x288 with 1 Axes>"
      ]
     },
     "metadata": {
      "needs_background": "light"
     },
     "output_type": "display_data"
    },
    {
     "data": {
      "image/png": "[encoded data removed]",
      "text/plain": [
       "<Figure size 432x288 with 1 Axes>"
      ]
     },
     "metadata": {
      "needs_background": "light"
     },
     "output_type": "display_data"
    }
   ],
   "source": [
    "\n",
    "acc = history.history['acc']\n",
    "val_acc = history.history['val_acc']\n",
    "loss = history.history['loss']\n",
    "val_loss = history.history['val_loss']\n",
    "\n",
    "epochs = range(len(acc))\n",
    "\n",
    "plt.plot(epochs, acc, 'bo', label='Training accuracy')\n",
    "plt.plot(epochs, val_acc, 'b', label='Validation accuracy')\n",
    "plt.title('Training and validation accuracy')\n",
    "\n",
    "plt.figure()\n",
    "\n",
    "plt.plot(epochs, loss, 'bo', label='Training Loss')\n",
    "plt.plot(epochs, val_loss, 'b', label='Validation Loss')\n",
    "plt.title('Training and validation loss')\n",
    "plt.legend()\n",
    "\n",
    "plt.show()"
   ]
  },
  {
   "cell_type": "code",
   "execution_count": null,
   "metadata": {},
   "outputs": [],
   "source": []
  }
 ],
 "metadata": {
  "colab": {
   "collapsed_sections": [],
   "name": "Cats-v-Dogs-Augmentation.ipynb",
   "provenance": []
  },
  "kernelspec": {
   "display_name": "Python 3",
   "language": "python",
   "name": "python3"
  },
  "language_info": {
   "codemirror_mode": {
    "name": "ipython",
    "version": 3
   },
   "file_extension": ".py",
   "mimetype": "text/x-python",
   "name": "python",
   "nbconvert_exporter": "python",
   "pygments_lexer": "ipython3",
   "version": "3.6.8"
  }
 },
 "nbformat": 4,
 "nbformat_minor": 1
}
